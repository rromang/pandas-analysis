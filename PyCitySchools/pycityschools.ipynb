{
 "metadata": {
  "language_info": {
   "codemirror_mode": {
    "name": "ipython",
    "version": 3
   },
   "file_extension": ".py",
   "mimetype": "text/x-python",
   "name": "python",
   "nbconvert_exporter": "python",
   "pygments_lexer": "ipython3",
   "version": "3.7.9-final"
  },
  "orig_nbformat": 2,
  "kernelspec": {
   "name": "python3",
   "display_name": "Python 3.7.9 64-bit ('PythonData': conda)",
   "metadata": {
    "interpreter": {
     "hash": "e3896c66a75c41725fea970d0c2a2982cf91def990c8dcb709e7b9c0cc3a398d"
    }
   }
  }
 },
 "nbformat": 4,
 "nbformat_minor": 2,
 "cells": [
  {
   "cell_type": "code",
   "execution_count": 1176,
   "metadata": {},
   "outputs": [],
   "source": [
    "#District Summary\n",
    "\n",
    "# Create a high level snapshot (in table form) of the district's key metrics, including:\n",
    "\n",
    "# Total Schools\n",
    "# Total Students\n",
    "# Total Budget\n",
    "# Average Math Score\n",
    "# Average Reading Score\n",
    "# % Passing Math (The percentage of students that passed math.)\n",
    "# % Passing Reading (The percentage of students that passed reading.)\n",
    "# % Overall Passing (The percentage of students that passed math and reading.)."
   ]
  },
  {
   "cell_type": "code",
   "execution_count": 1177,
   "metadata": {},
   "outputs": [],
   "source": [
    "import pandas as pd\n",
    "import numpy as np"
   ]
  },
  {
   "cell_type": "code",
   "execution_count": 1178,
   "metadata": {},
   "outputs": [
    {
     "output_type": "execute_result",
     "data": {
      "text/plain": [
       "   School ID           school_name      type  size   budget\n",
       "0          0     Huang High School  District  2917  1910635\n",
       "1          1  Figueroa High School  District  2949  1884411\n",
       "2          2   Shelton High School   Charter  1761  1056600"
      ],
      "text/html": "<div>\n<style scoped>\n    .dataframe tbody tr th:only-of-type {\n        vertical-align: middle;\n    }\n\n    .dataframe tbody tr th {\n        vertical-align: top;\n    }\n\n    .dataframe thead th {\n        text-align: right;\n    }\n</style>\n<table border=\"1\" class=\"dataframe\">\n  <thead>\n    <tr style=\"text-align: right;\">\n      <th></th>\n      <th>School ID</th>\n      <th>school_name</th>\n      <th>type</th>\n      <th>size</th>\n      <th>budget</th>\n    </tr>\n  </thead>\n  <tbody>\n    <tr>\n      <th>0</th>\n      <td>0</td>\n      <td>Huang High School</td>\n      <td>District</td>\n      <td>2917</td>\n      <td>1910635</td>\n    </tr>\n    <tr>\n      <th>1</th>\n      <td>1</td>\n      <td>Figueroa High School</td>\n      <td>District</td>\n      <td>2949</td>\n      <td>1884411</td>\n    </tr>\n    <tr>\n      <th>2</th>\n      <td>2</td>\n      <td>Shelton High School</td>\n      <td>Charter</td>\n      <td>1761</td>\n      <td>1056600</td>\n    </tr>\n  </tbody>\n</table>\n</div>"
     },
     "metadata": {},
     "execution_count": 1178
    }
   ],
   "source": [
    "#reading school csv to dataframe\n",
    "schools_path = r\"/Users/rosaicelaroman/Desktop/Data_BootCamp/LearnPython/pandas-challenge/PyCitySchools/Resources/schools_complete.csv\"\n",
    "schools_df = pd.read_csv(schools_path)\n",
    "schools_df.head(3)"
   ]
  },
  {
   "cell_type": "code",
   "execution_count": 1179,
   "metadata": {},
   "outputs": [
    {
     "output_type": "execute_result",
     "data": {
      "text/plain": [
       "   Student ID     student_name gender grade        school_name  reading_score  \\\n",
       "0           0     Paul Bradley      M   9th  Huang High School             66   \n",
       "1           1     Victor Smith      M  12th  Huang High School             94   \n",
       "2           2  Kevin Rodriguez      M  12th  Huang High School             90   \n",
       "\n",
       "   math_score  \n",
       "0          79  \n",
       "1          61  \n",
       "2          60  "
      ],
      "text/html": "<div>\n<style scoped>\n    .dataframe tbody tr th:only-of-type {\n        vertical-align: middle;\n    }\n\n    .dataframe tbody tr th {\n        vertical-align: top;\n    }\n\n    .dataframe thead th {\n        text-align: right;\n    }\n</style>\n<table border=\"1\" class=\"dataframe\">\n  <thead>\n    <tr style=\"text-align: right;\">\n      <th></th>\n      <th>Student ID</th>\n      <th>student_name</th>\n      <th>gender</th>\n      <th>grade</th>\n      <th>school_name</th>\n      <th>reading_score</th>\n      <th>math_score</th>\n    </tr>\n  </thead>\n  <tbody>\n    <tr>\n      <th>0</th>\n      <td>0</td>\n      <td>Paul Bradley</td>\n      <td>M</td>\n      <td>9th</td>\n      <td>Huang High School</td>\n      <td>66</td>\n      <td>79</td>\n    </tr>\n    <tr>\n      <th>1</th>\n      <td>1</td>\n      <td>Victor Smith</td>\n      <td>M</td>\n      <td>12th</td>\n      <td>Huang High School</td>\n      <td>94</td>\n      <td>61</td>\n    </tr>\n    <tr>\n      <th>2</th>\n      <td>2</td>\n      <td>Kevin Rodriguez</td>\n      <td>M</td>\n      <td>12th</td>\n      <td>Huang High School</td>\n      <td>90</td>\n      <td>60</td>\n    </tr>\n  </tbody>\n</table>\n</div>"
     },
     "metadata": {},
     "execution_count": 1179
    }
   ],
   "source": [
    "#reading students csv to dataframe\n",
    "schools_path = r\"/Users/rosaicelaroman/Desktop/Data_BootCamp/LearnPython/pandas-challenge/PyCitySchools/Resources/students_complete.csv\"\n",
    "students_df = pd.read_csv(schools_path)\n",
    "students_df.head(3)"
   ]
  },
  {
   "cell_type": "code",
   "execution_count": 1180,
   "metadata": {},
   "outputs": [
    {
     "output_type": "execute_result",
     "data": {
      "text/plain": [
       "15"
      ]
     },
     "metadata": {},
     "execution_count": 1180
    }
   ],
   "source": [
    "#total schools\n",
    "total_schools = schools_df[\"school_name\"].count()\n",
    "total_schools"
   ]
  },
  {
   "cell_type": "code",
   "execution_count": 1181,
   "metadata": {},
   "outputs": [
    {
     "output_type": "execute_result",
     "data": {
      "text/plain": [
       "'39,170'"
      ]
     },
     "metadata": {},
     "execution_count": 1181
    }
   ],
   "source": [
    "#total students\n",
    "total_students = schools_df[\"size\"].sum()\n",
    "total_students = \"{:,}\".format(total_students)\n",
    "total_students"
   ]
  },
  {
   "cell_type": "code",
   "execution_count": 1182,
   "metadata": {},
   "outputs": [
    {
     "output_type": "execute_result",
     "data": {
      "text/plain": [
       "'$24,649,428'"
      ]
     },
     "metadata": {},
     "execution_count": 1182
    }
   ],
   "source": [
    "#total budget\n",
    "total_budget = schools_df[\"budget\"].sum()\n",
    "total_budget = \"${:,}\".format(total_budget)\n",
    "total_budget"
   ]
  },
  {
   "cell_type": "code",
   "execution_count": 1183,
   "metadata": {},
   "outputs": [
    {
     "output_type": "execute_result",
     "data": {
      "text/plain": [
       "Index(['Student ID', 'student_name', 'gender', 'grade', 'school_name',\n",
       "       'reading_score', 'math_score'],\n",
       "      dtype='object')"
      ]
     },
     "metadata": {},
     "execution_count": 1183
    }
   ],
   "source": [
    "#calculate average math score\n",
    "students_df.columns"
   ]
  },
  {
   "cell_type": "code",
   "execution_count": 1184,
   "metadata": {},
   "outputs": [
    {
     "output_type": "execute_result",
     "data": {
      "text/plain": [
       "78.99"
      ]
     },
     "metadata": {},
     "execution_count": 1184
    }
   ],
   "source": [
    "avg_math = round(students_df['math_score'].mean(),2)\n",
    "avg_math"
   ]
  },
  {
   "cell_type": "code",
   "execution_count": 1185,
   "metadata": {},
   "outputs": [
    {
     "output_type": "execute_result",
     "data": {
      "text/plain": [
       "81.88"
      ]
     },
     "metadata": {},
     "execution_count": 1185
    }
   ],
   "source": [
    "#calculate average reading score\n",
    "avg_reading = round(students_df['reading_score'].mean(),2)\n",
    "avg_reading"
   ]
  },
  {
   "cell_type": "code",
   "execution_count": 1186,
   "metadata": {},
   "outputs": [
    {
     "output_type": "execute_result",
     "data": {
      "text/plain": [
       "       Student ID       student_name gender grade         school_name  \\\n",
       "0               0       Paul Bradley      M   9th   Huang High School   \n",
       "1               1       Victor Smith      M  12th   Huang High School   \n",
       "2               2    Kevin Rodriguez      M  12th   Huang High School   \n",
       "3               3  Dr. Richard Scott      M  12th   Huang High School   \n",
       "4               4         Bonnie Ray      F   9th   Huang High School   \n",
       "...           ...                ...    ...   ...                 ...   \n",
       "39165       39165       Donna Howard      F  12th  Thomas High School   \n",
       "39166       39166          Dawn Bell      F  10th  Thomas High School   \n",
       "39167       39167     Rebecca Tanner      F   9th  Thomas High School   \n",
       "39168       39168       Desiree Kidd      F  10th  Thomas High School   \n",
       "39169       39169    Carolyn Jackson      F  11th  Thomas High School   \n",
       "\n",
       "      reading_score   math_score  \n",
       "0       not passing      passing  \n",
       "1           passing  not passing  \n",
       "2           passing  not passing  \n",
       "3       not passing  not passing  \n",
       "4           passing      passing  \n",
       "...             ...          ...  \n",
       "39165       passing      passing  \n",
       "39166       passing      passing  \n",
       "39167       passing      passing  \n",
       "39168       passing      passing  \n",
       "39169       passing      passing  \n",
       "\n",
       "[39170 rows x 7 columns]"
      ],
      "text/html": "<div>\n<style scoped>\n    .dataframe tbody tr th:only-of-type {\n        vertical-align: middle;\n    }\n\n    .dataframe tbody tr th {\n        vertical-align: top;\n    }\n\n    .dataframe thead th {\n        text-align: right;\n    }\n</style>\n<table border=\"1\" class=\"dataframe\">\n  <thead>\n    <tr style=\"text-align: right;\">\n      <th></th>\n      <th>Student ID</th>\n      <th>student_name</th>\n      <th>gender</th>\n      <th>grade</th>\n      <th>school_name</th>\n      <th>reading_score</th>\n      <th>math_score</th>\n    </tr>\n  </thead>\n  <tbody>\n    <tr>\n      <th>0</th>\n      <td>0</td>\n      <td>Paul Bradley</td>\n      <td>M</td>\n      <td>9th</td>\n      <td>Huang High School</td>\n      <td>not passing</td>\n      <td>passing</td>\n    </tr>\n    <tr>\n      <th>1</th>\n      <td>1</td>\n      <td>Victor Smith</td>\n      <td>M</td>\n      <td>12th</td>\n      <td>Huang High School</td>\n      <td>passing</td>\n      <td>not passing</td>\n    </tr>\n    <tr>\n      <th>2</th>\n      <td>2</td>\n      <td>Kevin Rodriguez</td>\n      <td>M</td>\n      <td>12th</td>\n      <td>Huang High School</td>\n      <td>passing</td>\n      <td>not passing</td>\n    </tr>\n    <tr>\n      <th>3</th>\n      <td>3</td>\n      <td>Dr. Richard Scott</td>\n      <td>M</td>\n      <td>12th</td>\n      <td>Huang High School</td>\n      <td>not passing</td>\n      <td>not passing</td>\n    </tr>\n    <tr>\n      <th>4</th>\n      <td>4</td>\n      <td>Bonnie Ray</td>\n      <td>F</td>\n      <td>9th</td>\n      <td>Huang High School</td>\n      <td>passing</td>\n      <td>passing</td>\n    </tr>\n    <tr>\n      <th>...</th>\n      <td>...</td>\n      <td>...</td>\n      <td>...</td>\n      <td>...</td>\n      <td>...</td>\n      <td>...</td>\n      <td>...</td>\n    </tr>\n    <tr>\n      <th>39165</th>\n      <td>39165</td>\n      <td>Donna Howard</td>\n      <td>F</td>\n      <td>12th</td>\n      <td>Thomas High School</td>\n      <td>passing</td>\n      <td>passing</td>\n    </tr>\n    <tr>\n      <th>39166</th>\n      <td>39166</td>\n      <td>Dawn Bell</td>\n      <td>F</td>\n      <td>10th</td>\n      <td>Thomas High School</td>\n      <td>passing</td>\n      <td>passing</td>\n    </tr>\n    <tr>\n      <th>39167</th>\n      <td>39167</td>\n      <td>Rebecca Tanner</td>\n      <td>F</td>\n      <td>9th</td>\n      <td>Thomas High School</td>\n      <td>passing</td>\n      <td>passing</td>\n    </tr>\n    <tr>\n      <th>39168</th>\n      <td>39168</td>\n      <td>Desiree Kidd</td>\n      <td>F</td>\n      <td>10th</td>\n      <td>Thomas High School</td>\n      <td>passing</td>\n      <td>passing</td>\n    </tr>\n    <tr>\n      <th>39169</th>\n      <td>39169</td>\n      <td>Carolyn Jackson</td>\n      <td>F</td>\n      <td>11th</td>\n      <td>Thomas High School</td>\n      <td>passing</td>\n      <td>passing</td>\n    </tr>\n  </tbody>\n</table>\n<p>39170 rows × 7 columns</p>\n</div>"
     },
     "metadata": {},
     "execution_count": 1186
    }
   ],
   "source": [
    "#* Calculate the percentage of students with a passing math score (70 or greater)\n",
    "bins = [0, 69,100]\n",
    "group_names = ['not passing','passing']\n",
    "copy_students_df = students_df.copy()\n",
    "copy_students_df['math_score']=pd.cut(copy_students_df['math_score'], bins, labels = group_names)\n",
    "copy_students_df['reading_score']=pd.cut(copy_students_df['reading_score'], bins, labels = group_names)\n",
    "copy_students_df"
   ]
  },
  {
   "cell_type": "code",
   "execution_count": 1187,
   "metadata": {},
   "outputs": [
    {
     "output_type": "execute_result",
     "data": {
      "text/plain": [
       "    Student ID       student_name gender grade        school_name  \\\n",
       "0            0       Paul Bradley      M   9th  Huang High School   \n",
       "1            1       Victor Smith      M  12th  Huang High School   \n",
       "2            2    Kevin Rodriguez      M  12th  Huang High School   \n",
       "3            3  Dr. Richard Scott      M  12th  Huang High School   \n",
       "4            4         Bonnie Ray      F   9th  Huang High School   \n",
       "5            5      Bryan Miranda      M   9th  Huang High School   \n",
       "6            6      Sheena Carter      F  11th  Huang High School   \n",
       "7            7       Nicole Baker      F  12th  Huang High School   \n",
       "8            8       Michael Roth      M  10th  Huang High School   \n",
       "9            9     Matthew Greene      M  10th  Huang High School   \n",
       "10          10   Andrew Alexander      M  10th  Huang High School   \n",
       "11          11      Daniel Cooper      M  10th  Huang High School   \n",
       "12          12    Brittney Walker      F   9th  Huang High School   \n",
       "13          13       William Long      M   9th  Huang High School   \n",
       "14          14       Tammy Hebert      F  10th  Huang High School   \n",
       "15          15  Dr. Jordan Carson      M  11th  Huang High School   \n",
       "16          16      Donald Zamora      M   9th  Huang High School   \n",
       "17          17  Kimberly Santiago      F   9th  Huang High School   \n",
       "18          18      Kevin Stevens      M   9th  Huang High School   \n",
       "19          19       Brandi Lyons      F   9th  Huang High School   \n",
       "\n",
       "   reading_score   math_score overall_passing  \n",
       "0    not passing      passing     not passing  \n",
       "1        passing  not passing     not passing  \n",
       "2        passing  not passing     not passing  \n",
       "3    not passing  not passing     not passing  \n",
       "4        passing      passing         passing  \n",
       "5        passing      passing         passing  \n",
       "6        passing      passing         passing  \n",
       "7        passing  not passing     not passing  \n",
       "8        passing      passing         passing  \n",
       "9        passing      passing         passing  \n",
       "10       passing      passing         passing  \n",
       "11       passing      passing         passing  \n",
       "12   not passing      passing     not passing  \n",
       "13       passing      passing         passing  \n",
       "14       passing  not passing     not passing  \n",
       "15       passing      passing         passing  \n",
       "16       passing  not passing     not passing  \n",
       "17       passing      passing         passing  \n",
       "18   not passing  not passing     not passing  \n",
       "19       passing      passing         passing  "
      ],
      "text/html": "<div>\n<style scoped>\n    .dataframe tbody tr th:only-of-type {\n        vertical-align: middle;\n    }\n\n    .dataframe tbody tr th {\n        vertical-align: top;\n    }\n\n    .dataframe thead th {\n        text-align: right;\n    }\n</style>\n<table border=\"1\" class=\"dataframe\">\n  <thead>\n    <tr style=\"text-align: right;\">\n      <th></th>\n      <th>Student ID</th>\n      <th>student_name</th>\n      <th>gender</th>\n      <th>grade</th>\n      <th>school_name</th>\n      <th>reading_score</th>\n      <th>math_score</th>\n      <th>overall_passing</th>\n    </tr>\n  </thead>\n  <tbody>\n    <tr>\n      <th>0</th>\n      <td>0</td>\n      <td>Paul Bradley</td>\n      <td>M</td>\n      <td>9th</td>\n      <td>Huang High School</td>\n      <td>not passing</td>\n      <td>passing</td>\n      <td>not passing</td>\n    </tr>\n    <tr>\n      <th>1</th>\n      <td>1</td>\n      <td>Victor Smith</td>\n      <td>M</td>\n      <td>12th</td>\n      <td>Huang High School</td>\n      <td>passing</td>\n      <td>not passing</td>\n      <td>not passing</td>\n    </tr>\n    <tr>\n      <th>2</th>\n      <td>2</td>\n      <td>Kevin Rodriguez</td>\n      <td>M</td>\n      <td>12th</td>\n      <td>Huang High School</td>\n      <td>passing</td>\n      <td>not passing</td>\n      <td>not passing</td>\n    </tr>\n    <tr>\n      <th>3</th>\n      <td>3</td>\n      <td>Dr. Richard Scott</td>\n      <td>M</td>\n      <td>12th</td>\n      <td>Huang High School</td>\n      <td>not passing</td>\n      <td>not passing</td>\n      <td>not passing</td>\n    </tr>\n    <tr>\n      <th>4</th>\n      <td>4</td>\n      <td>Bonnie Ray</td>\n      <td>F</td>\n      <td>9th</td>\n      <td>Huang High School</td>\n      <td>passing</td>\n      <td>passing</td>\n      <td>passing</td>\n    </tr>\n    <tr>\n      <th>5</th>\n      <td>5</td>\n      <td>Bryan Miranda</td>\n      <td>M</td>\n      <td>9th</td>\n      <td>Huang High School</td>\n      <td>passing</td>\n      <td>passing</td>\n      <td>passing</td>\n    </tr>\n    <tr>\n      <th>6</th>\n      <td>6</td>\n      <td>Sheena Carter</td>\n      <td>F</td>\n      <td>11th</td>\n      <td>Huang High School</td>\n      <td>passing</td>\n      <td>passing</td>\n      <td>passing</td>\n    </tr>\n    <tr>\n      <th>7</th>\n      <td>7</td>\n      <td>Nicole Baker</td>\n      <td>F</td>\n      <td>12th</td>\n      <td>Huang High School</td>\n      <td>passing</td>\n      <td>not passing</td>\n      <td>not passing</td>\n    </tr>\n    <tr>\n      <th>8</th>\n      <td>8</td>\n      <td>Michael Roth</td>\n      <td>M</td>\n      <td>10th</td>\n      <td>Huang High School</td>\n      <td>passing</td>\n      <td>passing</td>\n      <td>passing</td>\n    </tr>\n    <tr>\n      <th>9</th>\n      <td>9</td>\n      <td>Matthew Greene</td>\n      <td>M</td>\n      <td>10th</td>\n      <td>Huang High School</td>\n      <td>passing</td>\n      <td>passing</td>\n      <td>passing</td>\n    </tr>\n    <tr>\n      <th>10</th>\n      <td>10</td>\n      <td>Andrew Alexander</td>\n      <td>M</td>\n      <td>10th</td>\n      <td>Huang High School</td>\n      <td>passing</td>\n      <td>passing</td>\n      <td>passing</td>\n    </tr>\n    <tr>\n      <th>11</th>\n      <td>11</td>\n      <td>Daniel Cooper</td>\n      <td>M</td>\n      <td>10th</td>\n      <td>Huang High School</td>\n      <td>passing</td>\n      <td>passing</td>\n      <td>passing</td>\n    </tr>\n    <tr>\n      <th>12</th>\n      <td>12</td>\n      <td>Brittney Walker</td>\n      <td>F</td>\n      <td>9th</td>\n      <td>Huang High School</td>\n      <td>not passing</td>\n      <td>passing</td>\n      <td>not passing</td>\n    </tr>\n    <tr>\n      <th>13</th>\n      <td>13</td>\n      <td>William Long</td>\n      <td>M</td>\n      <td>9th</td>\n      <td>Huang High School</td>\n      <td>passing</td>\n      <td>passing</td>\n      <td>passing</td>\n    </tr>\n    <tr>\n      <th>14</th>\n      <td>14</td>\n      <td>Tammy Hebert</td>\n      <td>F</td>\n      <td>10th</td>\n      <td>Huang High School</td>\n      <td>passing</td>\n      <td>not passing</td>\n      <td>not passing</td>\n    </tr>\n    <tr>\n      <th>15</th>\n      <td>15</td>\n      <td>Dr. Jordan Carson</td>\n      <td>M</td>\n      <td>11th</td>\n      <td>Huang High School</td>\n      <td>passing</td>\n      <td>passing</td>\n      <td>passing</td>\n    </tr>\n    <tr>\n      <th>16</th>\n      <td>16</td>\n      <td>Donald Zamora</td>\n      <td>M</td>\n      <td>9th</td>\n      <td>Huang High School</td>\n      <td>passing</td>\n      <td>not passing</td>\n      <td>not passing</td>\n    </tr>\n    <tr>\n      <th>17</th>\n      <td>17</td>\n      <td>Kimberly Santiago</td>\n      <td>F</td>\n      <td>9th</td>\n      <td>Huang High School</td>\n      <td>passing</td>\n      <td>passing</td>\n      <td>passing</td>\n    </tr>\n    <tr>\n      <th>18</th>\n      <td>18</td>\n      <td>Kevin Stevens</td>\n      <td>M</td>\n      <td>9th</td>\n      <td>Huang High School</td>\n      <td>not passing</td>\n      <td>not passing</td>\n      <td>not passing</td>\n    </tr>\n    <tr>\n      <th>19</th>\n      <td>19</td>\n      <td>Brandi Lyons</td>\n      <td>F</td>\n      <td>9th</td>\n      <td>Huang High School</td>\n      <td>passing</td>\n      <td>passing</td>\n      <td>passing</td>\n    </tr>\n  </tbody>\n</table>\n</div>"
     },
     "metadata": {},
     "execution_count": 1187
    }
   ],
   "source": [
    "conditions = [(copy_students_df['reading_score'] == 'passing') & (copy_students_df['math_score'] == 'passing'), (copy_students_df['math_score'] != 'passing')]\n",
    "choices = ['passing', 'not passing']\n",
    "copy_students_df['overall_passing'] = np.select(conditions, choices, default = 'not passing')\n",
    "copy_students_df.head(20)"
   ]
  },
  {
   "cell_type": "code",
   "execution_count": 1188,
   "metadata": {},
   "outputs": [],
   "source": [
    "# Calculate the percentage of students with a passing reading score (70 or greater)\n",
    "math_passing = copy_students_df['math_score'].value_counts()"
   ]
  },
  {
   "cell_type": "code",
   "execution_count": 1189,
   "metadata": {},
   "outputs": [],
   "source": [
    "reading_passing = copy_students_df['reading_score'].value_counts()"
   ]
  },
  {
   "cell_type": "code",
   "execution_count": 1190,
   "metadata": {},
   "outputs": [],
   "source": [
    "overall_passing = copy_students_df['overall_passing'].value_counts()"
   ]
  },
  {
   "cell_type": "code",
   "execution_count": 1191,
   "metadata": {},
   "outputs": [
    {
     "output_type": "execute_result",
     "data": {
      "text/plain": [
       "                math_score\n",
       "Student Status            \n",
       "passing              29370\n",
       "not passing           9800"
      ],
      "text/html": "<div>\n<style scoped>\n    .dataframe tbody tr th:only-of-type {\n        vertical-align: middle;\n    }\n\n    .dataframe tbody tr th {\n        vertical-align: top;\n    }\n\n    .dataframe thead th {\n        text-align: right;\n    }\n</style>\n<table border=\"1\" class=\"dataframe\">\n  <thead>\n    <tr style=\"text-align: right;\">\n      <th></th>\n      <th>math_score</th>\n    </tr>\n    <tr>\n      <th>Student Status</th>\n      <th></th>\n    </tr>\n  </thead>\n  <tbody>\n    <tr>\n      <th>passing</th>\n      <td>29370</td>\n    </tr>\n    <tr>\n      <th>not passing</th>\n      <td>9800</td>\n    </tr>\n  </tbody>\n</table>\n</div>"
     },
     "metadata": {},
     "execution_count": 1191
    }
   ],
   "source": [
    "summary_df_1 = pd.DataFrame(math_passing)\n",
    "summary_df_1.index.name = \"Student Status\"\n",
    "summary_df_1"
   ]
  },
  {
   "cell_type": "code",
   "execution_count": 1192,
   "metadata": {},
   "outputs": [
    {
     "output_type": "execute_result",
     "data": {
      "text/plain": [
       "                reading_score\n",
       "Student Status               \n",
       "passing                 33610\n",
       "not passing              5560"
      ],
      "text/html": "<div>\n<style scoped>\n    .dataframe tbody tr th:only-of-type {\n        vertical-align: middle;\n    }\n\n    .dataframe tbody tr th {\n        vertical-align: top;\n    }\n\n    .dataframe thead th {\n        text-align: right;\n    }\n</style>\n<table border=\"1\" class=\"dataframe\">\n  <thead>\n    <tr style=\"text-align: right;\">\n      <th></th>\n      <th>reading_score</th>\n    </tr>\n    <tr>\n      <th>Student Status</th>\n      <th></th>\n    </tr>\n  </thead>\n  <tbody>\n    <tr>\n      <th>passing</th>\n      <td>33610</td>\n    </tr>\n    <tr>\n      <th>not passing</th>\n      <td>5560</td>\n    </tr>\n  </tbody>\n</table>\n</div>"
     },
     "metadata": {},
     "execution_count": 1192
    }
   ],
   "source": [
    "summary_df_2 = pd.DataFrame(reading_passing)\n",
    "summary_df_2.index.name = \"Student Status\"\n",
    "summary_df_2"
   ]
  },
  {
   "cell_type": "code",
   "execution_count": 1193,
   "metadata": {},
   "outputs": [
    {
     "output_type": "execute_result",
     "data": {
      "text/plain": [
       "                overall_passing\n",
       "Student Status                 \n",
       "passing                   25528\n",
       "not passing               13642"
      ],
      "text/html": "<div>\n<style scoped>\n    .dataframe tbody tr th:only-of-type {\n        vertical-align: middle;\n    }\n\n    .dataframe tbody tr th {\n        vertical-align: top;\n    }\n\n    .dataframe thead th {\n        text-align: right;\n    }\n</style>\n<table border=\"1\" class=\"dataframe\">\n  <thead>\n    <tr style=\"text-align: right;\">\n      <th></th>\n      <th>overall_passing</th>\n    </tr>\n    <tr>\n      <th>Student Status</th>\n      <th></th>\n    </tr>\n  </thead>\n  <tbody>\n    <tr>\n      <th>passing</th>\n      <td>25528</td>\n    </tr>\n    <tr>\n      <th>not passing</th>\n      <td>13642</td>\n    </tr>\n  </tbody>\n</table>\n</div>"
     },
     "metadata": {},
     "execution_count": 1193
    }
   ],
   "source": [
    "summary_df_3 = pd.DataFrame(overall_passing)\n",
    "summary_df_3.index.name = \"Student Status\"\n",
    "summary_df_3"
   ]
  },
  {
   "cell_type": "code",
   "execution_count": 1194,
   "metadata": {},
   "outputs": [],
   "source": [
    "perc_math = round(copy_students_df['math_score'].value_counts(normalize=True)*100,2)"
   ]
  },
  {
   "cell_type": "code",
   "execution_count": 1195,
   "metadata": {},
   "outputs": [
    {
     "output_type": "execute_result",
     "data": {
      "text/plain": [
       "                % Math\n",
       "Student Status        \n",
       "passing          74.98\n",
       "not passing      25.02"
      ],
      "text/html": "<div>\n<style scoped>\n    .dataframe tbody tr th:only-of-type {\n        vertical-align: middle;\n    }\n\n    .dataframe tbody tr th {\n        vertical-align: top;\n    }\n\n    .dataframe thead th {\n        text-align: right;\n    }\n</style>\n<table border=\"1\" class=\"dataframe\">\n  <thead>\n    <tr style=\"text-align: right;\">\n      <th></th>\n      <th>% Math</th>\n    </tr>\n    <tr>\n      <th>Student Status</th>\n      <th></th>\n    </tr>\n  </thead>\n  <tbody>\n    <tr>\n      <th>passing</th>\n      <td>74.98</td>\n    </tr>\n    <tr>\n      <th>not passing</th>\n      <td>25.02</td>\n    </tr>\n  </tbody>\n</table>\n</div>"
     },
     "metadata": {},
     "execution_count": 1195
    }
   ],
   "source": [
    "summary_df_4 = pd.DataFrame(perc_math)\n",
    "summary_df_4.index.name = \"Student Status\"\n",
    "summary_df_4 = summary_df_4.rename(columns={\"math_score\": \"% Math\"})\n",
    "summary_df_4"
   ]
  },
  {
   "cell_type": "code",
   "execution_count": 1196,
   "metadata": {},
   "outputs": [],
   "source": [
    "perc_reading = round(copy_students_df['reading_score'].value_counts(normalize=True)*100,2)"
   ]
  },
  {
   "cell_type": "code",
   "execution_count": 1197,
   "metadata": {},
   "outputs": [
    {
     "output_type": "execute_result",
     "data": {
      "text/plain": [
       "                % Reading\n",
       "Student Status           \n",
       "passing             85.81\n",
       "not passing         14.19"
      ],
      "text/html": "<div>\n<style scoped>\n    .dataframe tbody tr th:only-of-type {\n        vertical-align: middle;\n    }\n\n    .dataframe tbody tr th {\n        vertical-align: top;\n    }\n\n    .dataframe thead th {\n        text-align: right;\n    }\n</style>\n<table border=\"1\" class=\"dataframe\">\n  <thead>\n    <tr style=\"text-align: right;\">\n      <th></th>\n      <th>% Reading</th>\n    </tr>\n    <tr>\n      <th>Student Status</th>\n      <th></th>\n    </tr>\n  </thead>\n  <tbody>\n    <tr>\n      <th>passing</th>\n      <td>85.81</td>\n    </tr>\n    <tr>\n      <th>not passing</th>\n      <td>14.19</td>\n    </tr>\n  </tbody>\n</table>\n</div>"
     },
     "metadata": {},
     "execution_count": 1197
    }
   ],
   "source": [
    "summary_df_5 = pd.DataFrame(perc_reading)\n",
    "summary_df_5.index.name = \"Student Status\"\n",
    "summary_df_5 = summary_df_5.rename(columns={\"reading_score\": \"% Reading\"})\n",
    "summary_df_5"
   ]
  },
  {
   "cell_type": "code",
   "execution_count": 1198,
   "metadata": {},
   "outputs": [],
   "source": [
    "overall_passing_perc= perc_reading = round(copy_students_df['overall_passing'].value_counts(normalize=True)*100,2)"
   ]
  },
  {
   "cell_type": "code",
   "execution_count": 1199,
   "metadata": {},
   "outputs": [
    {
     "output_type": "execute_result",
     "data": {
      "text/plain": [
       "                % Overall Passing\n",
       "Student Status                   \n",
       "passing                     65.17\n",
       "not passing                 34.83"
      ],
      "text/html": "<div>\n<style scoped>\n    .dataframe tbody tr th:only-of-type {\n        vertical-align: middle;\n    }\n\n    .dataframe tbody tr th {\n        vertical-align: top;\n    }\n\n    .dataframe thead th {\n        text-align: right;\n    }\n</style>\n<table border=\"1\" class=\"dataframe\">\n  <thead>\n    <tr style=\"text-align: right;\">\n      <th></th>\n      <th>% Overall Passing</th>\n    </tr>\n    <tr>\n      <th>Student Status</th>\n      <th></th>\n    </tr>\n  </thead>\n  <tbody>\n    <tr>\n      <th>passing</th>\n      <td>65.17</td>\n    </tr>\n    <tr>\n      <th>not passing</th>\n      <td>34.83</td>\n    </tr>\n  </tbody>\n</table>\n</div>"
     },
     "metadata": {},
     "execution_count": 1199
    }
   ],
   "source": [
    "summary_df_6 = pd.DataFrame(overall_passing_perc)\n",
    "summary_df_6.index.name = \"Student Status\"\n",
    "summary_df_6 = summary_df_6.rename(columns={\"overall_passing\": \"% Overall Passing\"})\n",
    "summary_df_6"
   ]
  },
  {
   "cell_type": "code",
   "execution_count": 1200,
   "metadata": {},
   "outputs": [
    {
     "output_type": "execute_result",
     "data": {
      "text/plain": [
       "                math_score  reading_score  overall_passing  % Math  % Reading  \\\n",
       "Student Status                                                                  \n",
       "passing              29370          33610            25528   74.98      85.81   \n",
       "not passing           9800           5560            13642   25.02      14.19   \n",
       "\n",
       "                % Overall Passing  \n",
       "Student Status                     \n",
       "passing                     65.17  \n",
       "not passing                 34.83  "
      ],
      "text/html": "<div>\n<style scoped>\n    .dataframe tbody tr th:only-of-type {\n        vertical-align: middle;\n    }\n\n    .dataframe tbody tr th {\n        vertical-align: top;\n    }\n\n    .dataframe thead th {\n        text-align: right;\n    }\n</style>\n<table border=\"1\" class=\"dataframe\">\n  <thead>\n    <tr style=\"text-align: right;\">\n      <th></th>\n      <th>math_score</th>\n      <th>reading_score</th>\n      <th>overall_passing</th>\n      <th>% Math</th>\n      <th>% Reading</th>\n      <th>% Overall Passing</th>\n    </tr>\n    <tr>\n      <th>Student Status</th>\n      <th></th>\n      <th></th>\n      <th></th>\n      <th></th>\n      <th></th>\n      <th></th>\n    </tr>\n  </thead>\n  <tbody>\n    <tr>\n      <th>passing</th>\n      <td>29370</td>\n      <td>33610</td>\n      <td>25528</td>\n      <td>74.98</td>\n      <td>85.81</td>\n      <td>65.17</td>\n    </tr>\n    <tr>\n      <th>not passing</th>\n      <td>9800</td>\n      <td>5560</td>\n      <td>13642</td>\n      <td>25.02</td>\n      <td>14.19</td>\n      <td>34.83</td>\n    </tr>\n  </tbody>\n</table>\n</div>"
     },
     "metadata": {},
     "execution_count": 1200
    }
   ],
   "source": [
    "combined_df = summary_df_1.join(summary_df_2, how='outer')\n",
    "combined_df = combined_df.join(summary_df_3, how='outer')\n",
    "combined_df = combined_df.join(summary_df_4, how='outer')\n",
    "combined_df = combined_df.join(summary_df_5, how='outer')\n",
    "combined_df = combined_df.join(summary_df_6, how='outer')\n",
    "combined_df"
   ]
  },
  {
   "cell_type": "code",
   "execution_count": 1201,
   "metadata": {},
   "outputs": [
    {
     "output_type": "execute_result",
     "data": {
      "text/plain": [
       "                Math Score  Reading Score  Overall Passing  % Math  % Reading  \\\n",
       "Student Status                                                                  \n",
       "passing              29370          33610            25528   74.98      85.81   \n",
       "not passing           9800           5560            13642   25.02      14.19   \n",
       "\n",
       "                % Overall Passing  \n",
       "Student Status                     \n",
       "passing                     65.17  \n",
       "not passing                 34.83  "
      ],
      "text/html": "<div>\n<style scoped>\n    .dataframe tbody tr th:only-of-type {\n        vertical-align: middle;\n    }\n\n    .dataframe tbody tr th {\n        vertical-align: top;\n    }\n\n    .dataframe thead th {\n        text-align: right;\n    }\n</style>\n<table border=\"1\" class=\"dataframe\">\n  <thead>\n    <tr style=\"text-align: right;\">\n      <th></th>\n      <th>Math Score</th>\n      <th>Reading Score</th>\n      <th>Overall Passing</th>\n      <th>% Math</th>\n      <th>% Reading</th>\n      <th>% Overall Passing</th>\n    </tr>\n    <tr>\n      <th>Student Status</th>\n      <th></th>\n      <th></th>\n      <th></th>\n      <th></th>\n      <th></th>\n      <th></th>\n    </tr>\n  </thead>\n  <tbody>\n    <tr>\n      <th>passing</th>\n      <td>29370</td>\n      <td>33610</td>\n      <td>25528</td>\n      <td>74.98</td>\n      <td>85.81</td>\n      <td>65.17</td>\n    </tr>\n    <tr>\n      <th>not passing</th>\n      <td>9800</td>\n      <td>5560</td>\n      <td>13642</td>\n      <td>25.02</td>\n      <td>14.19</td>\n      <td>34.83</td>\n    </tr>\n  </tbody>\n</table>\n</div>"
     },
     "metadata": {},
     "execution_count": 1201
    }
   ],
   "source": [
    "combined_df = combined_df.rename(columns={\"math_score\": \"Math Score\", \"reading_score\": \"Reading Score\", \"overall_passing\": \"Overall Passing\"})\n",
    "combined_df"
   ]
  },
  {
   "cell_type": "code",
   "execution_count": 1202,
   "metadata": {},
   "outputs": [
    {
     "output_type": "execute_result",
     "data": {
      "text/plain": [
       "   Total Schools Total Students Total Budget  Average Math Score  \\\n",
       "0             15         39,170  $24,649,428               78.99   \n",
       "\n",
       "   Average Reading Score  % Passing Math  % Passing Reading  % Overall Passing  \n",
       "0                  81.88           74.98              85.81              65.17  "
      ],
      "text/html": "<div>\n<style scoped>\n    .dataframe tbody tr th:only-of-type {\n        vertical-align: middle;\n    }\n\n    .dataframe tbody tr th {\n        vertical-align: top;\n    }\n\n    .dataframe thead th {\n        text-align: right;\n    }\n</style>\n<table border=\"1\" class=\"dataframe\">\n  <thead>\n    <tr style=\"text-align: right;\">\n      <th></th>\n      <th>Total Schools</th>\n      <th>Total Students</th>\n      <th>Total Budget</th>\n      <th>Average Math Score</th>\n      <th>Average Reading Score</th>\n      <th>% Passing Math</th>\n      <th>% Passing Reading</th>\n      <th>% Overall Passing</th>\n    </tr>\n  </thead>\n  <tbody>\n    <tr>\n      <th>0</th>\n      <td>15</td>\n      <td>39,170</td>\n      <td>$24,649,428</td>\n      <td>78.99</td>\n      <td>81.88</td>\n      <td>74.98</td>\n      <td>85.81</td>\n      <td>65.17</td>\n    </tr>\n  </tbody>\n</table>\n</div>"
     },
     "metadata": {},
     "execution_count": 1202
    }
   ],
   "source": [
    "data = {'Total Schools': [total_schools], 'Total Students': [total_students], 'Total Budget': [total_budget], 'Average Math Score': [avg_math], 'Average Reading Score': [avg_reading], '% Passing Math': [combined_df.iloc[0,3]], '% Passing Reading':[combined_df.iloc[0,4]], \"% Overall Passing\": [combined_df.iloc[0,5]]}\n",
    "district_df = pd.DataFrame.from_dict(data)\n",
    "district_df"
   ]
  },
  {
   "cell_type": "code",
   "execution_count": 1203,
   "metadata": {},
   "outputs": [],
   "source": [
    "#  School Summary\n",
    " \n",
    "# Create an overview table that summarizes key metrics about each school, including:\n",
    "# School Name\n",
    "# School Type\n",
    "# Total Students\n",
    "# Total School Budget\n",
    "# Per Student Budget\n",
    "# Average Math Score\n",
    "# Average Reading Score\n",
    "# % Passing Math\n",
    "# % Passing Reading\n",
    "# % Overall Passing (The percentage of students that passed math and reading.)\n",
    "# Create a dataframe to hold the above results\n"
   ]
  },
  {
   "cell_type": "code",
   "execution_count": 1204,
   "metadata": {},
   "outputs": [
    {
     "output_type": "execute_result",
     "data": {
      "text/plain": [
       "                       reading_score  math_score\n",
       "school_name                                     \n",
       "Bailey High School             81.03       77.05\n",
       "Cabrera High School            83.98       83.06\n",
       "Figueroa High School           81.16       76.71\n",
       "Ford High School               80.75       77.10\n",
       "Griffin High School            83.82       83.35\n",
       "Hernandez High School          80.93       77.29\n",
       "Holden High School             83.81       83.80\n",
       "Huang High School              81.18       76.63\n",
       "Johnson High School            80.97       77.07\n",
       "Pena High School               84.04       83.84\n",
       "Rodriguez High School          80.74       76.84\n",
       "Shelton High School            83.73       83.36\n",
       "Thomas High School             83.85       83.42\n",
       "Wilson High School             83.99       83.27\n",
       "Wright High School             83.96       83.68"
      ],
      "text/html": "<div>\n<style scoped>\n    .dataframe tbody tr th:only-of-type {\n        vertical-align: middle;\n    }\n\n    .dataframe tbody tr th {\n        vertical-align: top;\n    }\n\n    .dataframe thead th {\n        text-align: right;\n    }\n</style>\n<table border=\"1\" class=\"dataframe\">\n  <thead>\n    <tr style=\"text-align: right;\">\n      <th></th>\n      <th>reading_score</th>\n      <th>math_score</th>\n    </tr>\n    <tr>\n      <th>school_name</th>\n      <th></th>\n      <th></th>\n    </tr>\n  </thead>\n  <tbody>\n    <tr>\n      <th>Bailey High School</th>\n      <td>81.03</td>\n      <td>77.05</td>\n    </tr>\n    <tr>\n      <th>Cabrera High School</th>\n      <td>83.98</td>\n      <td>83.06</td>\n    </tr>\n    <tr>\n      <th>Figueroa High School</th>\n      <td>81.16</td>\n      <td>76.71</td>\n    </tr>\n    <tr>\n      <th>Ford High School</th>\n      <td>80.75</td>\n      <td>77.10</td>\n    </tr>\n    <tr>\n      <th>Griffin High School</th>\n      <td>83.82</td>\n      <td>83.35</td>\n    </tr>\n    <tr>\n      <th>Hernandez High School</th>\n      <td>80.93</td>\n      <td>77.29</td>\n    </tr>\n    <tr>\n      <th>Holden High School</th>\n      <td>83.81</td>\n      <td>83.80</td>\n    </tr>\n    <tr>\n      <th>Huang High School</th>\n      <td>81.18</td>\n      <td>76.63</td>\n    </tr>\n    <tr>\n      <th>Johnson High School</th>\n      <td>80.97</td>\n      <td>77.07</td>\n    </tr>\n    <tr>\n      <th>Pena High School</th>\n      <td>84.04</td>\n      <td>83.84</td>\n    </tr>\n    <tr>\n      <th>Rodriguez High School</th>\n      <td>80.74</td>\n      <td>76.84</td>\n    </tr>\n    <tr>\n      <th>Shelton High School</th>\n      <td>83.73</td>\n      <td>83.36</td>\n    </tr>\n    <tr>\n      <th>Thomas High School</th>\n      <td>83.85</td>\n      <td>83.42</td>\n    </tr>\n    <tr>\n      <th>Wilson High School</th>\n      <td>83.99</td>\n      <td>83.27</td>\n    </tr>\n    <tr>\n      <th>Wright High School</th>\n      <td>83.96</td>\n      <td>83.68</td>\n    </tr>\n  </tbody>\n</table>\n</div>"
     },
     "metadata": {},
     "execution_count": 1204
    }
   ],
   "source": [
    "#schools_df to obtain average scores per school\n",
    "school_student_df = round(students_df.groupby(['school_name'])['reading_score', 'math_score'].mean(),2)\n",
    "\n",
    "school_student_df\n"
   ]
  },
  {
   "cell_type": "code",
   "execution_count": 1205,
   "metadata": {},
   "outputs": [],
   "source": [
    "copy_schools_df = schools_df.copy()"
   ]
  },
  {
   "cell_type": "code",
   "execution_count": 1206,
   "metadata": {},
   "outputs": [
    {
     "output_type": "execute_result",
     "data": {
      "text/plain": [
       "    School ID            school_name      type  size   budget  reading_score  \\\n",
       "0           0      Huang High School  District  2917  1910635          81.18   \n",
       "1           1   Figueroa High School  District  2949  1884411          81.16   \n",
       "2           2    Shelton High School   Charter  1761  1056600          83.73   \n",
       "3           3  Hernandez High School  District  4635  3022020          80.93   \n",
       "4           4    Griffin High School   Charter  1468   917500          83.82   \n",
       "5           5     Wilson High School   Charter  2283  1319574          83.99   \n",
       "6           6    Cabrera High School   Charter  1858  1081356          83.98   \n",
       "7           7     Bailey High School  District  4976  3124928          81.03   \n",
       "8           8     Holden High School   Charter   427   248087          83.81   \n",
       "9           9       Pena High School   Charter   962   585858          84.04   \n",
       "10         10     Wright High School   Charter  1800  1049400          83.96   \n",
       "11         11  Rodriguez High School  District  3999  2547363          80.74   \n",
       "12         12    Johnson High School  District  4761  3094650          80.97   \n",
       "13         13       Ford High School  District  2739  1763916          80.75   \n",
       "14         14     Thomas High School   Charter  1635  1043130          83.85   \n",
       "\n",
       "    math_score  \n",
       "0        76.63  \n",
       "1        76.71  \n",
       "2        83.36  \n",
       "3        77.29  \n",
       "4        83.35  \n",
       "5        83.27  \n",
       "6        83.06  \n",
       "7        77.05  \n",
       "8        83.80  \n",
       "9        83.84  \n",
       "10       83.68  \n",
       "11       76.84  \n",
       "12       77.07  \n",
       "13       77.10  \n",
       "14       83.42  "
      ],
      "text/html": "<div>\n<style scoped>\n    .dataframe tbody tr th:only-of-type {\n        vertical-align: middle;\n    }\n\n    .dataframe tbody tr th {\n        vertical-align: top;\n    }\n\n    .dataframe thead th {\n        text-align: right;\n    }\n</style>\n<table border=\"1\" class=\"dataframe\">\n  <thead>\n    <tr style=\"text-align: right;\">\n      <th></th>\n      <th>School ID</th>\n      <th>school_name</th>\n      <th>type</th>\n      <th>size</th>\n      <th>budget</th>\n      <th>reading_score</th>\n      <th>math_score</th>\n    </tr>\n  </thead>\n  <tbody>\n    <tr>\n      <th>0</th>\n      <td>0</td>\n      <td>Huang High School</td>\n      <td>District</td>\n      <td>2917</td>\n      <td>1910635</td>\n      <td>81.18</td>\n      <td>76.63</td>\n    </tr>\n    <tr>\n      <th>1</th>\n      <td>1</td>\n      <td>Figueroa High School</td>\n      <td>District</td>\n      <td>2949</td>\n      <td>1884411</td>\n      <td>81.16</td>\n      <td>76.71</td>\n    </tr>\n    <tr>\n      <th>2</th>\n      <td>2</td>\n      <td>Shelton High School</td>\n      <td>Charter</td>\n      <td>1761</td>\n      <td>1056600</td>\n      <td>83.73</td>\n      <td>83.36</td>\n    </tr>\n    <tr>\n      <th>3</th>\n      <td>3</td>\n      <td>Hernandez High School</td>\n      <td>District</td>\n      <td>4635</td>\n      <td>3022020</td>\n      <td>80.93</td>\n      <td>77.29</td>\n    </tr>\n    <tr>\n      <th>4</th>\n      <td>4</td>\n      <td>Griffin High School</td>\n      <td>Charter</td>\n      <td>1468</td>\n      <td>917500</td>\n      <td>83.82</td>\n      <td>83.35</td>\n    </tr>\n    <tr>\n      <th>5</th>\n      <td>5</td>\n      <td>Wilson High School</td>\n      <td>Charter</td>\n      <td>2283</td>\n      <td>1319574</td>\n      <td>83.99</td>\n      <td>83.27</td>\n    </tr>\n    <tr>\n      <th>6</th>\n      <td>6</td>\n      <td>Cabrera High School</td>\n      <td>Charter</td>\n      <td>1858</td>\n      <td>1081356</td>\n      <td>83.98</td>\n      <td>83.06</td>\n    </tr>\n    <tr>\n      <th>7</th>\n      <td>7</td>\n      <td>Bailey High School</td>\n      <td>District</td>\n      <td>4976</td>\n      <td>3124928</td>\n      <td>81.03</td>\n      <td>77.05</td>\n    </tr>\n    <tr>\n      <th>8</th>\n      <td>8</td>\n      <td>Holden High School</td>\n      <td>Charter</td>\n      <td>427</td>\n      <td>248087</td>\n      <td>83.81</td>\n      <td>83.80</td>\n    </tr>\n    <tr>\n      <th>9</th>\n      <td>9</td>\n      <td>Pena High School</td>\n      <td>Charter</td>\n      <td>962</td>\n      <td>585858</td>\n      <td>84.04</td>\n      <td>83.84</td>\n    </tr>\n    <tr>\n      <th>10</th>\n      <td>10</td>\n      <td>Wright High School</td>\n      <td>Charter</td>\n      <td>1800</td>\n      <td>1049400</td>\n      <td>83.96</td>\n      <td>83.68</td>\n    </tr>\n    <tr>\n      <th>11</th>\n      <td>11</td>\n      <td>Rodriguez High School</td>\n      <td>District</td>\n      <td>3999</td>\n      <td>2547363</td>\n      <td>80.74</td>\n      <td>76.84</td>\n    </tr>\n    <tr>\n      <th>12</th>\n      <td>12</td>\n      <td>Johnson High School</td>\n      <td>District</td>\n      <td>4761</td>\n      <td>3094650</td>\n      <td>80.97</td>\n      <td>77.07</td>\n    </tr>\n    <tr>\n      <th>13</th>\n      <td>13</td>\n      <td>Ford High School</td>\n      <td>District</td>\n      <td>2739</td>\n      <td>1763916</td>\n      <td>80.75</td>\n      <td>77.10</td>\n    </tr>\n    <tr>\n      <th>14</th>\n      <td>14</td>\n      <td>Thomas High School</td>\n      <td>Charter</td>\n      <td>1635</td>\n      <td>1043130</td>\n      <td>83.85</td>\n      <td>83.42</td>\n    </tr>\n  </tbody>\n</table>\n</div>"
     },
     "metadata": {},
     "execution_count": 1206
    }
   ],
   "source": [
    "# combined school and studetnt data\n",
    "combined_district_df = pd.merge(copy_schools_df,school_student_df,how='outer',on='school_name')\n",
    "combined_district_df"
   ]
  },
  {
   "cell_type": "code",
   "execution_count": 1207,
   "metadata": {},
   "outputs": [
    {
     "output_type": "execute_result",
     "data": {
      "text/plain": [
       "    School ID            school_name School Type  Total Students  \\\n",
       "0           0      Huang High School    District            2917   \n",
       "1           1   Figueroa High School    District            2949   \n",
       "2           2    Shelton High School     Charter            1761   \n",
       "3           3  Hernandez High School    District            4635   \n",
       "4           4    Griffin High School     Charter            1468   \n",
       "5           5     Wilson High School     Charter            2283   \n",
       "6           6    Cabrera High School     Charter            1858   \n",
       "7           7     Bailey High School    District            4976   \n",
       "8           8     Holden High School     Charter             427   \n",
       "9           9       Pena High School     Charter             962   \n",
       "10         10     Wright High School     Charter            1800   \n",
       "11         11  Rodriguez High School    District            3999   \n",
       "12         12    Johnson High School    District            4761   \n",
       "13         13       Ford High School    District            2739   \n",
       "14         14     Thomas High School     Charter            1635   \n",
       "\n",
       "    Total School Budget  Avg Reading Score  Avg Math Score  \n",
       "0               1910635              81.18           76.63  \n",
       "1               1884411              81.16           76.71  \n",
       "2               1056600              83.73           83.36  \n",
       "3               3022020              80.93           77.29  \n",
       "4                917500              83.82           83.35  \n",
       "5               1319574              83.99           83.27  \n",
       "6               1081356              83.98           83.06  \n",
       "7               3124928              81.03           77.05  \n",
       "8                248087              83.81           83.80  \n",
       "9                585858              84.04           83.84  \n",
       "10              1049400              83.96           83.68  \n",
       "11              2547363              80.74           76.84  \n",
       "12              3094650              80.97           77.07  \n",
       "13              1763916              80.75           77.10  \n",
       "14              1043130              83.85           83.42  "
      ],
      "text/html": "<div>\n<style scoped>\n    .dataframe tbody tr th:only-of-type {\n        vertical-align: middle;\n    }\n\n    .dataframe tbody tr th {\n        vertical-align: top;\n    }\n\n    .dataframe thead th {\n        text-align: right;\n    }\n</style>\n<table border=\"1\" class=\"dataframe\">\n  <thead>\n    <tr style=\"text-align: right;\">\n      <th></th>\n      <th>School ID</th>\n      <th>school_name</th>\n      <th>School Type</th>\n      <th>Total Students</th>\n      <th>Total School Budget</th>\n      <th>Avg Reading Score</th>\n      <th>Avg Math Score</th>\n    </tr>\n  </thead>\n  <tbody>\n    <tr>\n      <th>0</th>\n      <td>0</td>\n      <td>Huang High School</td>\n      <td>District</td>\n      <td>2917</td>\n      <td>1910635</td>\n      <td>81.18</td>\n      <td>76.63</td>\n    </tr>\n    <tr>\n      <th>1</th>\n      <td>1</td>\n      <td>Figueroa High School</td>\n      <td>District</td>\n      <td>2949</td>\n      <td>1884411</td>\n      <td>81.16</td>\n      <td>76.71</td>\n    </tr>\n    <tr>\n      <th>2</th>\n      <td>2</td>\n      <td>Shelton High School</td>\n      <td>Charter</td>\n      <td>1761</td>\n      <td>1056600</td>\n      <td>83.73</td>\n      <td>83.36</td>\n    </tr>\n    <tr>\n      <th>3</th>\n      <td>3</td>\n      <td>Hernandez High School</td>\n      <td>District</td>\n      <td>4635</td>\n      <td>3022020</td>\n      <td>80.93</td>\n      <td>77.29</td>\n    </tr>\n    <tr>\n      <th>4</th>\n      <td>4</td>\n      <td>Griffin High School</td>\n      <td>Charter</td>\n      <td>1468</td>\n      <td>917500</td>\n      <td>83.82</td>\n      <td>83.35</td>\n    </tr>\n    <tr>\n      <th>5</th>\n      <td>5</td>\n      <td>Wilson High School</td>\n      <td>Charter</td>\n      <td>2283</td>\n      <td>1319574</td>\n      <td>83.99</td>\n      <td>83.27</td>\n    </tr>\n    <tr>\n      <th>6</th>\n      <td>6</td>\n      <td>Cabrera High School</td>\n      <td>Charter</td>\n      <td>1858</td>\n      <td>1081356</td>\n      <td>83.98</td>\n      <td>83.06</td>\n    </tr>\n    <tr>\n      <th>7</th>\n      <td>7</td>\n      <td>Bailey High School</td>\n      <td>District</td>\n      <td>4976</td>\n      <td>3124928</td>\n      <td>81.03</td>\n      <td>77.05</td>\n    </tr>\n    <tr>\n      <th>8</th>\n      <td>8</td>\n      <td>Holden High School</td>\n      <td>Charter</td>\n      <td>427</td>\n      <td>248087</td>\n      <td>83.81</td>\n      <td>83.80</td>\n    </tr>\n    <tr>\n      <th>9</th>\n      <td>9</td>\n      <td>Pena High School</td>\n      <td>Charter</td>\n      <td>962</td>\n      <td>585858</td>\n      <td>84.04</td>\n      <td>83.84</td>\n    </tr>\n    <tr>\n      <th>10</th>\n      <td>10</td>\n      <td>Wright High School</td>\n      <td>Charter</td>\n      <td>1800</td>\n      <td>1049400</td>\n      <td>83.96</td>\n      <td>83.68</td>\n    </tr>\n    <tr>\n      <th>11</th>\n      <td>11</td>\n      <td>Rodriguez High School</td>\n      <td>District</td>\n      <td>3999</td>\n      <td>2547363</td>\n      <td>80.74</td>\n      <td>76.84</td>\n    </tr>\n    <tr>\n      <th>12</th>\n      <td>12</td>\n      <td>Johnson High School</td>\n      <td>District</td>\n      <td>4761</td>\n      <td>3094650</td>\n      <td>80.97</td>\n      <td>77.07</td>\n    </tr>\n    <tr>\n      <th>13</th>\n      <td>13</td>\n      <td>Ford High School</td>\n      <td>District</td>\n      <td>2739</td>\n      <td>1763916</td>\n      <td>80.75</td>\n      <td>77.10</td>\n    </tr>\n    <tr>\n      <th>14</th>\n      <td>14</td>\n      <td>Thomas High School</td>\n      <td>Charter</td>\n      <td>1635</td>\n      <td>1043130</td>\n      <td>83.85</td>\n      <td>83.42</td>\n    </tr>\n  </tbody>\n</table>\n</div>"
     },
     "metadata": {},
     "execution_count": 1207
    }
   ],
   "source": [
    "combined_district_df = combined_district_df.rename(columns={\"type\": \"School Type\", \"size\": \"Total Students\", \"budget\": \"Total School Budget\",\"math_score\": \"Avg Math Score\",\"reading_score\": \"Avg Reading Score\",'reading_score': \"Avg Reading Score\", 'math_score': \"Avg Math Score\"})\n",
    "combined_district_df"
   ]
  },
  {
   "cell_type": "code",
   "execution_count": 1208,
   "metadata": {},
   "outputs": [
    {
     "output_type": "execute_result",
     "data": {
      "text/plain": [
       "                      School Type  Total Students  Total School Budget  \\\n",
       "school_name                                                              \n",
       "Bailey High School       District            4976              3124928   \n",
       "Cabrera High School       Charter            1858              1081356   \n",
       "Figueroa High School     District            2949              1884411   \n",
       "Ford High School         District            2739              1763916   \n",
       "Griffin High School       Charter            1468               917500   \n",
       "Hernandez High School    District            4635              3022020   \n",
       "Holden High School        Charter             427               248087   \n",
       "Huang High School        District            2917              1910635   \n",
       "Johnson High School      District            4761              3094650   \n",
       "Pena High School          Charter             962               585858   \n",
       "Rodriguez High School    District            3999              2547363   \n",
       "Shelton High School       Charter            1761              1056600   \n",
       "Thomas High School        Charter            1635              1043130   \n",
       "Wilson High School        Charter            2283              1319574   \n",
       "Wright High School        Charter            1800              1049400   \n",
       "\n",
       "                       Avg Reading Score  Avg Math Score  \n",
       "school_name                                               \n",
       "Bailey High School                 81.03           77.05  \n",
       "Cabrera High School                83.98           83.06  \n",
       "Figueroa High School               81.16           76.71  \n",
       "Ford High School                   80.75           77.10  \n",
       "Griffin High School                83.82           83.35  \n",
       "Hernandez High School              80.93           77.29  \n",
       "Holden High School                 83.81           83.80  \n",
       "Huang High School                  81.18           76.63  \n",
       "Johnson High School                80.97           77.07  \n",
       "Pena High School                   84.04           83.84  \n",
       "Rodriguez High School              80.74           76.84  \n",
       "Shelton High School                83.73           83.36  \n",
       "Thomas High School                 83.85           83.42  \n",
       "Wilson High School                 83.99           83.27  \n",
       "Wright High School                 83.96           83.68  "
      ],
      "text/html": "<div>\n<style scoped>\n    .dataframe tbody tr th:only-of-type {\n        vertical-align: middle;\n    }\n\n    .dataframe tbody tr th {\n        vertical-align: top;\n    }\n\n    .dataframe thead th {\n        text-align: right;\n    }\n</style>\n<table border=\"1\" class=\"dataframe\">\n  <thead>\n    <tr style=\"text-align: right;\">\n      <th></th>\n      <th>School Type</th>\n      <th>Total Students</th>\n      <th>Total School Budget</th>\n      <th>Avg Reading Score</th>\n      <th>Avg Math Score</th>\n    </tr>\n    <tr>\n      <th>school_name</th>\n      <th></th>\n      <th></th>\n      <th></th>\n      <th></th>\n      <th></th>\n    </tr>\n  </thead>\n  <tbody>\n    <tr>\n      <th>Bailey High School</th>\n      <td>District</td>\n      <td>4976</td>\n      <td>3124928</td>\n      <td>81.03</td>\n      <td>77.05</td>\n    </tr>\n    <tr>\n      <th>Cabrera High School</th>\n      <td>Charter</td>\n      <td>1858</td>\n      <td>1081356</td>\n      <td>83.98</td>\n      <td>83.06</td>\n    </tr>\n    <tr>\n      <th>Figueroa High School</th>\n      <td>District</td>\n      <td>2949</td>\n      <td>1884411</td>\n      <td>81.16</td>\n      <td>76.71</td>\n    </tr>\n    <tr>\n      <th>Ford High School</th>\n      <td>District</td>\n      <td>2739</td>\n      <td>1763916</td>\n      <td>80.75</td>\n      <td>77.10</td>\n    </tr>\n    <tr>\n      <th>Griffin High School</th>\n      <td>Charter</td>\n      <td>1468</td>\n      <td>917500</td>\n      <td>83.82</td>\n      <td>83.35</td>\n    </tr>\n    <tr>\n      <th>Hernandez High School</th>\n      <td>District</td>\n      <td>4635</td>\n      <td>3022020</td>\n      <td>80.93</td>\n      <td>77.29</td>\n    </tr>\n    <tr>\n      <th>Holden High School</th>\n      <td>Charter</td>\n      <td>427</td>\n      <td>248087</td>\n      <td>83.81</td>\n      <td>83.80</td>\n    </tr>\n    <tr>\n      <th>Huang High School</th>\n      <td>District</td>\n      <td>2917</td>\n      <td>1910635</td>\n      <td>81.18</td>\n      <td>76.63</td>\n    </tr>\n    <tr>\n      <th>Johnson High School</th>\n      <td>District</td>\n      <td>4761</td>\n      <td>3094650</td>\n      <td>80.97</td>\n      <td>77.07</td>\n    </tr>\n    <tr>\n      <th>Pena High School</th>\n      <td>Charter</td>\n      <td>962</td>\n      <td>585858</td>\n      <td>84.04</td>\n      <td>83.84</td>\n    </tr>\n    <tr>\n      <th>Rodriguez High School</th>\n      <td>District</td>\n      <td>3999</td>\n      <td>2547363</td>\n      <td>80.74</td>\n      <td>76.84</td>\n    </tr>\n    <tr>\n      <th>Shelton High School</th>\n      <td>Charter</td>\n      <td>1761</td>\n      <td>1056600</td>\n      <td>83.73</td>\n      <td>83.36</td>\n    </tr>\n    <tr>\n      <th>Thomas High School</th>\n      <td>Charter</td>\n      <td>1635</td>\n      <td>1043130</td>\n      <td>83.85</td>\n      <td>83.42</td>\n    </tr>\n    <tr>\n      <th>Wilson High School</th>\n      <td>Charter</td>\n      <td>2283</td>\n      <td>1319574</td>\n      <td>83.99</td>\n      <td>83.27</td>\n    </tr>\n    <tr>\n      <th>Wright High School</th>\n      <td>Charter</td>\n      <td>1800</td>\n      <td>1049400</td>\n      <td>83.96</td>\n      <td>83.68</td>\n    </tr>\n  </tbody>\n</table>\n</div>"
     },
     "metadata": {},
     "execution_count": 1208
    }
   ],
   "source": [
    "combined_district_df = combined_district_df.drop('School ID', axis=1)\n",
    "combined_district_df = combined_district_df.set_index(['school_name'])\n",
    "combined_district_df = combined_district_df.sort_index(ascending=True)\n",
    "combined_district_df"
   ]
  },
  {
   "cell_type": "code",
   "execution_count": 1209,
   "metadata": {},
   "outputs": [
    {
     "output_type": "execute_result",
     "data": {
      "text/plain": [
       "       Student ID     student_name gender grade         school_name  \\\n",
       "0               0     Paul Bradley      M   9th   Huang High School   \n",
       "4               4       Bonnie Ray      F   9th   Huang High School   \n",
       "5               5    Bryan Miranda      M   9th   Huang High School   \n",
       "6               6    Sheena Carter      F  11th   Huang High School   \n",
       "8               8     Michael Roth      M  10th   Huang High School   \n",
       "...           ...              ...    ...   ...                 ...   \n",
       "39165       39165     Donna Howard      F  12th  Thomas High School   \n",
       "39166       39166        Dawn Bell      F  10th  Thomas High School   \n",
       "39167       39167   Rebecca Tanner      F   9th  Thomas High School   \n",
       "39168       39168     Desiree Kidd      F  10th  Thomas High School   \n",
       "39169       39169  Carolyn Jackson      F  11th  Thomas High School   \n",
       "\n",
       "      reading_score math_score overall_passing  \n",
       "0       not passing    passing     not passing  \n",
       "4           passing    passing         passing  \n",
       "5           passing    passing         passing  \n",
       "6           passing    passing         passing  \n",
       "8           passing    passing         passing  \n",
       "...             ...        ...             ...  \n",
       "39165       passing    passing         passing  \n",
       "39166       passing    passing         passing  \n",
       "39167       passing    passing         passing  \n",
       "39168       passing    passing         passing  \n",
       "39169       passing    passing         passing  \n",
       "\n",
       "[29370 rows x 8 columns]"
      ],
      "text/html": "<div>\n<style scoped>\n    .dataframe tbody tr th:only-of-type {\n        vertical-align: middle;\n    }\n\n    .dataframe tbody tr th {\n        vertical-align: top;\n    }\n\n    .dataframe thead th {\n        text-align: right;\n    }\n</style>\n<table border=\"1\" class=\"dataframe\">\n  <thead>\n    <tr style=\"text-align: right;\">\n      <th></th>\n      <th>Student ID</th>\n      <th>student_name</th>\n      <th>gender</th>\n      <th>grade</th>\n      <th>school_name</th>\n      <th>reading_score</th>\n      <th>math_score</th>\n      <th>overall_passing</th>\n    </tr>\n  </thead>\n  <tbody>\n    <tr>\n      <th>0</th>\n      <td>0</td>\n      <td>Paul Bradley</td>\n      <td>M</td>\n      <td>9th</td>\n      <td>Huang High School</td>\n      <td>not passing</td>\n      <td>passing</td>\n      <td>not passing</td>\n    </tr>\n    <tr>\n      <th>4</th>\n      <td>4</td>\n      <td>Bonnie Ray</td>\n      <td>F</td>\n      <td>9th</td>\n      <td>Huang High School</td>\n      <td>passing</td>\n      <td>passing</td>\n      <td>passing</td>\n    </tr>\n    <tr>\n      <th>5</th>\n      <td>5</td>\n      <td>Bryan Miranda</td>\n      <td>M</td>\n      <td>9th</td>\n      <td>Huang High School</td>\n      <td>passing</td>\n      <td>passing</td>\n      <td>passing</td>\n    </tr>\n    <tr>\n      <th>6</th>\n      <td>6</td>\n      <td>Sheena Carter</td>\n      <td>F</td>\n      <td>11th</td>\n      <td>Huang High School</td>\n      <td>passing</td>\n      <td>passing</td>\n      <td>passing</td>\n    </tr>\n    <tr>\n      <th>8</th>\n      <td>8</td>\n      <td>Michael Roth</td>\n      <td>M</td>\n      <td>10th</td>\n      <td>Huang High School</td>\n      <td>passing</td>\n      <td>passing</td>\n      <td>passing</td>\n    </tr>\n    <tr>\n      <th>...</th>\n      <td>...</td>\n      <td>...</td>\n      <td>...</td>\n      <td>...</td>\n      <td>...</td>\n      <td>...</td>\n      <td>...</td>\n      <td>...</td>\n    </tr>\n    <tr>\n      <th>39165</th>\n      <td>39165</td>\n      <td>Donna Howard</td>\n      <td>F</td>\n      <td>12th</td>\n      <td>Thomas High School</td>\n      <td>passing</td>\n      <td>passing</td>\n      <td>passing</td>\n    </tr>\n    <tr>\n      <th>39166</th>\n      <td>39166</td>\n      <td>Dawn Bell</td>\n      <td>F</td>\n      <td>10th</td>\n      <td>Thomas High School</td>\n      <td>passing</td>\n      <td>passing</td>\n      <td>passing</td>\n    </tr>\n    <tr>\n      <th>39167</th>\n      <td>39167</td>\n      <td>Rebecca Tanner</td>\n      <td>F</td>\n      <td>9th</td>\n      <td>Thomas High School</td>\n      <td>passing</td>\n      <td>passing</td>\n      <td>passing</td>\n    </tr>\n    <tr>\n      <th>39168</th>\n      <td>39168</td>\n      <td>Desiree Kidd</td>\n      <td>F</td>\n      <td>10th</td>\n      <td>Thomas High School</td>\n      <td>passing</td>\n      <td>passing</td>\n      <td>passing</td>\n    </tr>\n    <tr>\n      <th>39169</th>\n      <td>39169</td>\n      <td>Carolyn Jackson</td>\n      <td>F</td>\n      <td>11th</td>\n      <td>Thomas High School</td>\n      <td>passing</td>\n      <td>passing</td>\n      <td>passing</td>\n    </tr>\n  </tbody>\n</table>\n<p>29370 rows × 8 columns</p>\n</div>"
     },
     "metadata": {},
     "execution_count": 1209
    }
   ],
   "source": [
    "passingmath_df = copy_students_df.loc[copy_students_df['math_score'] == 'passing']\n",
    "passingmath_df"
   ]
  },
  {
   "cell_type": "code",
   "execution_count": 1210,
   "metadata": {},
   "outputs": [
    {
     "output_type": "execute_result",
     "data": {
      "text/plain": [
       "school_name\n",
       "Bailey High School       0.666801\n",
       "Cabrera High School      0.941335\n",
       "Figueroa High School     0.659885\n",
       "Ford High School         0.683096\n",
       "Griffin High School      0.933924\n",
       "Hernandez High School    0.667530\n",
       "Holden High School       0.925059\n",
       "Huang High School        0.656839\n",
       "Johnson High School      0.660576\n",
       "Pena High School         0.945946\n",
       "Rodriguez High School    0.663666\n",
       "Shelton High School      0.938671\n",
       "Thomas High School       0.932722\n",
       "Wilson High School       0.938677\n",
       "Wright High School       0.933333\n",
       "dtype: float64"
      ]
     },
     "metadata": {},
     "execution_count": 1210
    }
   ],
   "source": [
    "\n",
    "mathgrouped_school_scores = passingmath_df.groupby([\"school_name\"]).count()['student_name']/combined_district_df['Total Students']\n",
    "mathgrouped_school_scores"
   ]
  },
  {
   "cell_type": "code",
   "execution_count": 1211,
   "metadata": {},
   "outputs": [
    {
     "output_type": "execute_result",
     "data": {
      "text/plain": [
       "                      School Type  Total Students  Total School Budget  \\\n",
       "school_name                                                              \n",
       "Bailey High School       District            4976              3124928   \n",
       "Cabrera High School       Charter            1858              1081356   \n",
       "Figueroa High School     District            2949              1884411   \n",
       "Ford High School         District            2739              1763916   \n",
       "Griffin High School       Charter            1468               917500   \n",
       "Hernandez High School    District            4635              3022020   \n",
       "Holden High School        Charter             427               248087   \n",
       "Huang High School        District            2917              1910635   \n",
       "Johnson High School      District            4761              3094650   \n",
       "Pena High School          Charter             962               585858   \n",
       "Rodriguez High School    District            3999              2547363   \n",
       "Shelton High School       Charter            1761              1056600   \n",
       "Thomas High School        Charter            1635              1043130   \n",
       "Wilson High School        Charter            2283              1319574   \n",
       "Wright High School        Charter            1800              1049400   \n",
       "\n",
       "                       Avg Reading Score  Avg Math Score  % Passing Math  \n",
       "school_name                                                               \n",
       "Bailey High School                 81.03           77.05       66.680064  \n",
       "Cabrera High School                83.98           83.06       94.133477  \n",
       "Figueroa High School               81.16           76.71       65.988471  \n",
       "Ford High School                   80.75           77.10       68.309602  \n",
       "Griffin High School                83.82           83.35       93.392371  \n",
       "Hernandez High School              80.93           77.29       66.752967  \n",
       "Holden High School                 83.81           83.80       92.505855  \n",
       "Huang High School                  81.18           76.63       65.683922  \n",
       "Johnson High School                80.97           77.07       66.057551  \n",
       "Pena High School                   84.04           83.84       94.594595  \n",
       "Rodriguez High School              80.74           76.84       66.366592  \n",
       "Shelton High School                83.73           83.36       93.867121  \n",
       "Thomas High School                 83.85           83.42       93.272171  \n",
       "Wilson High School                 83.99           83.27       93.867718  \n",
       "Wright High School                 83.96           83.68       93.333333  "
      ],
      "text/html": "<div>\n<style scoped>\n    .dataframe tbody tr th:only-of-type {\n        vertical-align: middle;\n    }\n\n    .dataframe tbody tr th {\n        vertical-align: top;\n    }\n\n    .dataframe thead th {\n        text-align: right;\n    }\n</style>\n<table border=\"1\" class=\"dataframe\">\n  <thead>\n    <tr style=\"text-align: right;\">\n      <th></th>\n      <th>School Type</th>\n      <th>Total Students</th>\n      <th>Total School Budget</th>\n      <th>Avg Reading Score</th>\n      <th>Avg Math Score</th>\n      <th>% Passing Math</th>\n    </tr>\n    <tr>\n      <th>school_name</th>\n      <th></th>\n      <th></th>\n      <th></th>\n      <th></th>\n      <th></th>\n      <th></th>\n    </tr>\n  </thead>\n  <tbody>\n    <tr>\n      <th>Bailey High School</th>\n      <td>District</td>\n      <td>4976</td>\n      <td>3124928</td>\n      <td>81.03</td>\n      <td>77.05</td>\n      <td>66.680064</td>\n    </tr>\n    <tr>\n      <th>Cabrera High School</th>\n      <td>Charter</td>\n      <td>1858</td>\n      <td>1081356</td>\n      <td>83.98</td>\n      <td>83.06</td>\n      <td>94.133477</td>\n    </tr>\n    <tr>\n      <th>Figueroa High School</th>\n      <td>District</td>\n      <td>2949</td>\n      <td>1884411</td>\n      <td>81.16</td>\n      <td>76.71</td>\n      <td>65.988471</td>\n    </tr>\n    <tr>\n      <th>Ford High School</th>\n      <td>District</td>\n      <td>2739</td>\n      <td>1763916</td>\n      <td>80.75</td>\n      <td>77.10</td>\n      <td>68.309602</td>\n    </tr>\n    <tr>\n      <th>Griffin High School</th>\n      <td>Charter</td>\n      <td>1468</td>\n      <td>917500</td>\n      <td>83.82</td>\n      <td>83.35</td>\n      <td>93.392371</td>\n    </tr>\n    <tr>\n      <th>Hernandez High School</th>\n      <td>District</td>\n      <td>4635</td>\n      <td>3022020</td>\n      <td>80.93</td>\n      <td>77.29</td>\n      <td>66.752967</td>\n    </tr>\n    <tr>\n      <th>Holden High School</th>\n      <td>Charter</td>\n      <td>427</td>\n      <td>248087</td>\n      <td>83.81</td>\n      <td>83.80</td>\n      <td>92.505855</td>\n    </tr>\n    <tr>\n      <th>Huang High School</th>\n      <td>District</td>\n      <td>2917</td>\n      <td>1910635</td>\n      <td>81.18</td>\n      <td>76.63</td>\n      <td>65.683922</td>\n    </tr>\n    <tr>\n      <th>Johnson High School</th>\n      <td>District</td>\n      <td>4761</td>\n      <td>3094650</td>\n      <td>80.97</td>\n      <td>77.07</td>\n      <td>66.057551</td>\n    </tr>\n    <tr>\n      <th>Pena High School</th>\n      <td>Charter</td>\n      <td>962</td>\n      <td>585858</td>\n      <td>84.04</td>\n      <td>83.84</td>\n      <td>94.594595</td>\n    </tr>\n    <tr>\n      <th>Rodriguez High School</th>\n      <td>District</td>\n      <td>3999</td>\n      <td>2547363</td>\n      <td>80.74</td>\n      <td>76.84</td>\n      <td>66.366592</td>\n    </tr>\n    <tr>\n      <th>Shelton High School</th>\n      <td>Charter</td>\n      <td>1761</td>\n      <td>1056600</td>\n      <td>83.73</td>\n      <td>83.36</td>\n      <td>93.867121</td>\n    </tr>\n    <tr>\n      <th>Thomas High School</th>\n      <td>Charter</td>\n      <td>1635</td>\n      <td>1043130</td>\n      <td>83.85</td>\n      <td>83.42</td>\n      <td>93.272171</td>\n    </tr>\n    <tr>\n      <th>Wilson High School</th>\n      <td>Charter</td>\n      <td>2283</td>\n      <td>1319574</td>\n      <td>83.99</td>\n      <td>83.27</td>\n      <td>93.867718</td>\n    </tr>\n    <tr>\n      <th>Wright High School</th>\n      <td>Charter</td>\n      <td>1800</td>\n      <td>1049400</td>\n      <td>83.96</td>\n      <td>83.68</td>\n      <td>93.333333</td>\n    </tr>\n  </tbody>\n</table>\n</div>"
     },
     "metadata": {},
     "execution_count": 1211
    }
   ],
   "source": [
    "combined_district_df['% Passing Math'] = (mathgrouped_school_scores)*100\n",
    "combined_district_df"
   ]
  },
  {
   "cell_type": "code",
   "execution_count": 1212,
   "metadata": {},
   "outputs": [
    {
     "output_type": "execute_result",
     "data": {
      "text/plain": [
       "       Student ID     student_name gender grade         school_name  \\\n",
       "1               1     Victor Smith      M  12th   Huang High School   \n",
       "2               2  Kevin Rodriguez      M  12th   Huang High School   \n",
       "4               4       Bonnie Ray      F   9th   Huang High School   \n",
       "5               5    Bryan Miranda      M   9th   Huang High School   \n",
       "6               6    Sheena Carter      F  11th   Huang High School   \n",
       "...           ...              ...    ...   ...                 ...   \n",
       "39165       39165     Donna Howard      F  12th  Thomas High School   \n",
       "39166       39166        Dawn Bell      F  10th  Thomas High School   \n",
       "39167       39167   Rebecca Tanner      F   9th  Thomas High School   \n",
       "39168       39168     Desiree Kidd      F  10th  Thomas High School   \n",
       "39169       39169  Carolyn Jackson      F  11th  Thomas High School   \n",
       "\n",
       "      reading_score   math_score overall_passing  \n",
       "1           passing  not passing     not passing  \n",
       "2           passing  not passing     not passing  \n",
       "4           passing      passing         passing  \n",
       "5           passing      passing         passing  \n",
       "6           passing      passing         passing  \n",
       "...             ...          ...             ...  \n",
       "39165       passing      passing         passing  \n",
       "39166       passing      passing         passing  \n",
       "39167       passing      passing         passing  \n",
       "39168       passing      passing         passing  \n",
       "39169       passing      passing         passing  \n",
       "\n",
       "[33610 rows x 8 columns]"
      ],
      "text/html": "<div>\n<style scoped>\n    .dataframe tbody tr th:only-of-type {\n        vertical-align: middle;\n    }\n\n    .dataframe tbody tr th {\n        vertical-align: top;\n    }\n\n    .dataframe thead th {\n        text-align: right;\n    }\n</style>\n<table border=\"1\" class=\"dataframe\">\n  <thead>\n    <tr style=\"text-align: right;\">\n      <th></th>\n      <th>Student ID</th>\n      <th>student_name</th>\n      <th>gender</th>\n      <th>grade</th>\n      <th>school_name</th>\n      <th>reading_score</th>\n      <th>math_score</th>\n      <th>overall_passing</th>\n    </tr>\n  </thead>\n  <tbody>\n    <tr>\n      <th>1</th>\n      <td>1</td>\n      <td>Victor Smith</td>\n      <td>M</td>\n      <td>12th</td>\n      <td>Huang High School</td>\n      <td>passing</td>\n      <td>not passing</td>\n      <td>not passing</td>\n    </tr>\n    <tr>\n      <th>2</th>\n      <td>2</td>\n      <td>Kevin Rodriguez</td>\n      <td>M</td>\n      <td>12th</td>\n      <td>Huang High School</td>\n      <td>passing</td>\n      <td>not passing</td>\n      <td>not passing</td>\n    </tr>\n    <tr>\n      <th>4</th>\n      <td>4</td>\n      <td>Bonnie Ray</td>\n      <td>F</td>\n      <td>9th</td>\n      <td>Huang High School</td>\n      <td>passing</td>\n      <td>passing</td>\n      <td>passing</td>\n    </tr>\n    <tr>\n      <th>5</th>\n      <td>5</td>\n      <td>Bryan Miranda</td>\n      <td>M</td>\n      <td>9th</td>\n      <td>Huang High School</td>\n      <td>passing</td>\n      <td>passing</td>\n      <td>passing</td>\n    </tr>\n    <tr>\n      <th>6</th>\n      <td>6</td>\n      <td>Sheena Carter</td>\n      <td>F</td>\n      <td>11th</td>\n      <td>Huang High School</td>\n      <td>passing</td>\n      <td>passing</td>\n      <td>passing</td>\n    </tr>\n    <tr>\n      <th>...</th>\n      <td>...</td>\n      <td>...</td>\n      <td>...</td>\n      <td>...</td>\n      <td>...</td>\n      <td>...</td>\n      <td>...</td>\n      <td>...</td>\n    </tr>\n    <tr>\n      <th>39165</th>\n      <td>39165</td>\n      <td>Donna Howard</td>\n      <td>F</td>\n      <td>12th</td>\n      <td>Thomas High School</td>\n      <td>passing</td>\n      <td>passing</td>\n      <td>passing</td>\n    </tr>\n    <tr>\n      <th>39166</th>\n      <td>39166</td>\n      <td>Dawn Bell</td>\n      <td>F</td>\n      <td>10th</td>\n      <td>Thomas High School</td>\n      <td>passing</td>\n      <td>passing</td>\n      <td>passing</td>\n    </tr>\n    <tr>\n      <th>39167</th>\n      <td>39167</td>\n      <td>Rebecca Tanner</td>\n      <td>F</td>\n      <td>9th</td>\n      <td>Thomas High School</td>\n      <td>passing</td>\n      <td>passing</td>\n      <td>passing</td>\n    </tr>\n    <tr>\n      <th>39168</th>\n      <td>39168</td>\n      <td>Desiree Kidd</td>\n      <td>F</td>\n      <td>10th</td>\n      <td>Thomas High School</td>\n      <td>passing</td>\n      <td>passing</td>\n      <td>passing</td>\n    </tr>\n    <tr>\n      <th>39169</th>\n      <td>39169</td>\n      <td>Carolyn Jackson</td>\n      <td>F</td>\n      <td>11th</td>\n      <td>Thomas High School</td>\n      <td>passing</td>\n      <td>passing</td>\n      <td>passing</td>\n    </tr>\n  </tbody>\n</table>\n<p>33610 rows × 8 columns</p>\n</div>"
     },
     "metadata": {},
     "execution_count": 1212
    }
   ],
   "source": [
    "passingreading_df = copy_students_df.loc[copy_students_df['reading_score'] == 'passing']\n",
    "passingreading_df"
   ]
  },
  {
   "cell_type": "code",
   "execution_count": 1213,
   "metadata": {},
   "outputs": [
    {
     "output_type": "execute_result",
     "data": {
      "text/plain": [
       "school_name\n",
       "Bailey High School       0.819333\n",
       "Cabrera High School      0.970398\n",
       "Figueroa High School     0.807392\n",
       "Ford High School         0.792990\n",
       "Griffin High School      0.971390\n",
       "Hernandez High School    0.808630\n",
       "Holden High School       0.962529\n",
       "Huang High School        0.813164\n",
       "Johnson High School      0.812224\n",
       "Pena High School         0.959459\n",
       "Rodriguez High School    0.802201\n",
       "Shelton High School      0.958546\n",
       "Thomas High School       0.973089\n",
       "Wilson High School       0.965396\n",
       "Wright High School       0.966111\n",
       "dtype: float64"
      ]
     },
     "metadata": {},
     "execution_count": 1213
    }
   ],
   "source": [
    "readgrouped_school_scores = passingreading_df.groupby([\"school_name\"]).count()['student_name']/combined_district_df['Total Students']\n",
    "readgrouped_school_scores"
   ]
  },
  {
   "cell_type": "code",
   "execution_count": 1214,
   "metadata": {},
   "outputs": [
    {
     "output_type": "execute_result",
     "data": {
      "text/plain": [
       "                      School Type  Total Students  Total School Budget  \\\n",
       "school_name                                                              \n",
       "Bailey High School       District            4976              3124928   \n",
       "Cabrera High School       Charter            1858              1081356   \n",
       "Figueroa High School     District            2949              1884411   \n",
       "Ford High School         District            2739              1763916   \n",
       "Griffin High School       Charter            1468               917500   \n",
       "Hernandez High School    District            4635              3022020   \n",
       "Holden High School        Charter             427               248087   \n",
       "Huang High School        District            2917              1910635   \n",
       "Johnson High School      District            4761              3094650   \n",
       "Pena High School          Charter             962               585858   \n",
       "Rodriguez High School    District            3999              2547363   \n",
       "Shelton High School       Charter            1761              1056600   \n",
       "Thomas High School        Charter            1635              1043130   \n",
       "Wilson High School        Charter            2283              1319574   \n",
       "Wright High School        Charter            1800              1049400   \n",
       "\n",
       "                       Avg Reading Score  Avg Math Score  % Passing Math  \\\n",
       "school_name                                                                \n",
       "Bailey High School                 81.03           77.05       66.680064   \n",
       "Cabrera High School                83.98           83.06       94.133477   \n",
       "Figueroa High School               81.16           76.71       65.988471   \n",
       "Ford High School                   80.75           77.10       68.309602   \n",
       "Griffin High School                83.82           83.35       93.392371   \n",
       "Hernandez High School              80.93           77.29       66.752967   \n",
       "Holden High School                 83.81           83.80       92.505855   \n",
       "Huang High School                  81.18           76.63       65.683922   \n",
       "Johnson High School                80.97           77.07       66.057551   \n",
       "Pena High School                   84.04           83.84       94.594595   \n",
       "Rodriguez High School              80.74           76.84       66.366592   \n",
       "Shelton High School                83.73           83.36       93.867121   \n",
       "Thomas High School                 83.85           83.42       93.272171   \n",
       "Wilson High School                 83.99           83.27       93.867718   \n",
       "Wright High School                 83.96           83.68       93.333333   \n",
       "\n",
       "                       % Passing Reading  \n",
       "school_name                               \n",
       "Bailey High School             81.933280  \n",
       "Cabrera High School            97.039828  \n",
       "Figueroa High School           80.739234  \n",
       "Ford High School               79.299014  \n",
       "Griffin High School            97.138965  \n",
       "Hernandez High School          80.862999  \n",
       "Holden High School             96.252927  \n",
       "Huang High School              81.316421  \n",
       "Johnson High School            81.222432  \n",
       "Pena High School               95.945946  \n",
       "Rodriguez High School          80.220055  \n",
       "Shelton High School            95.854628  \n",
       "Thomas High School             97.308869  \n",
       "Wilson High School             96.539641  \n",
       "Wright High School             96.611111  "
      ],
      "text/html": "<div>\n<style scoped>\n    .dataframe tbody tr th:only-of-type {\n        vertical-align: middle;\n    }\n\n    .dataframe tbody tr th {\n        vertical-align: top;\n    }\n\n    .dataframe thead th {\n        text-align: right;\n    }\n</style>\n<table border=\"1\" class=\"dataframe\">\n  <thead>\n    <tr style=\"text-align: right;\">\n      <th></th>\n      <th>School Type</th>\n      <th>Total Students</th>\n      <th>Total School Budget</th>\n      <th>Avg Reading Score</th>\n      <th>Avg Math Score</th>\n      <th>% Passing Math</th>\n      <th>% Passing Reading</th>\n    </tr>\n    <tr>\n      <th>school_name</th>\n      <th></th>\n      <th></th>\n      <th></th>\n      <th></th>\n      <th></th>\n      <th></th>\n      <th></th>\n    </tr>\n  </thead>\n  <tbody>\n    <tr>\n      <th>Bailey High School</th>\n      <td>District</td>\n      <td>4976</td>\n      <td>3124928</td>\n      <td>81.03</td>\n      <td>77.05</td>\n      <td>66.680064</td>\n      <td>81.933280</td>\n    </tr>\n    <tr>\n      <th>Cabrera High School</th>\n      <td>Charter</td>\n      <td>1858</td>\n      <td>1081356</td>\n      <td>83.98</td>\n      <td>83.06</td>\n      <td>94.133477</td>\n      <td>97.039828</td>\n    </tr>\n    <tr>\n      <th>Figueroa High School</th>\n      <td>District</td>\n      <td>2949</td>\n      <td>1884411</td>\n      <td>81.16</td>\n      <td>76.71</td>\n      <td>65.988471</td>\n      <td>80.739234</td>\n    </tr>\n    <tr>\n      <th>Ford High School</th>\n      <td>District</td>\n      <td>2739</td>\n      <td>1763916</td>\n      <td>80.75</td>\n      <td>77.10</td>\n      <td>68.309602</td>\n      <td>79.299014</td>\n    </tr>\n    <tr>\n      <th>Griffin High School</th>\n      <td>Charter</td>\n      <td>1468</td>\n      <td>917500</td>\n      <td>83.82</td>\n      <td>83.35</td>\n      <td>93.392371</td>\n      <td>97.138965</td>\n    </tr>\n    <tr>\n      <th>Hernandez High School</th>\n      <td>District</td>\n      <td>4635</td>\n      <td>3022020</td>\n      <td>80.93</td>\n      <td>77.29</td>\n      <td>66.752967</td>\n      <td>80.862999</td>\n    </tr>\n    <tr>\n      <th>Holden High School</th>\n      <td>Charter</td>\n      <td>427</td>\n      <td>248087</td>\n      <td>83.81</td>\n      <td>83.80</td>\n      <td>92.505855</td>\n      <td>96.252927</td>\n    </tr>\n    <tr>\n      <th>Huang High School</th>\n      <td>District</td>\n      <td>2917</td>\n      <td>1910635</td>\n      <td>81.18</td>\n      <td>76.63</td>\n      <td>65.683922</td>\n      <td>81.316421</td>\n    </tr>\n    <tr>\n      <th>Johnson High School</th>\n      <td>District</td>\n      <td>4761</td>\n      <td>3094650</td>\n      <td>80.97</td>\n      <td>77.07</td>\n      <td>66.057551</td>\n      <td>81.222432</td>\n    </tr>\n    <tr>\n      <th>Pena High School</th>\n      <td>Charter</td>\n      <td>962</td>\n      <td>585858</td>\n      <td>84.04</td>\n      <td>83.84</td>\n      <td>94.594595</td>\n      <td>95.945946</td>\n    </tr>\n    <tr>\n      <th>Rodriguez High School</th>\n      <td>District</td>\n      <td>3999</td>\n      <td>2547363</td>\n      <td>80.74</td>\n      <td>76.84</td>\n      <td>66.366592</td>\n      <td>80.220055</td>\n    </tr>\n    <tr>\n      <th>Shelton High School</th>\n      <td>Charter</td>\n      <td>1761</td>\n      <td>1056600</td>\n      <td>83.73</td>\n      <td>83.36</td>\n      <td>93.867121</td>\n      <td>95.854628</td>\n    </tr>\n    <tr>\n      <th>Thomas High School</th>\n      <td>Charter</td>\n      <td>1635</td>\n      <td>1043130</td>\n      <td>83.85</td>\n      <td>83.42</td>\n      <td>93.272171</td>\n      <td>97.308869</td>\n    </tr>\n    <tr>\n      <th>Wilson High School</th>\n      <td>Charter</td>\n      <td>2283</td>\n      <td>1319574</td>\n      <td>83.99</td>\n      <td>83.27</td>\n      <td>93.867718</td>\n      <td>96.539641</td>\n    </tr>\n    <tr>\n      <th>Wright High School</th>\n      <td>Charter</td>\n      <td>1800</td>\n      <td>1049400</td>\n      <td>83.96</td>\n      <td>83.68</td>\n      <td>93.333333</td>\n      <td>96.611111</td>\n    </tr>\n  </tbody>\n</table>\n</div>"
     },
     "metadata": {},
     "execution_count": 1214
    }
   ],
   "source": [
    "combined_district_df['% Passing Reading'] = (readgrouped_school_scores)*100\n",
    "combined_district_df"
   ]
  },
  {
   "cell_type": "code",
   "execution_count": 1215,
   "metadata": {},
   "outputs": [
    {
     "output_type": "execute_result",
     "data": {
      "text/plain": [
       "       Student ID     student_name gender grade         school_name  \\\n",
       "4               4       Bonnie Ray      F   9th   Huang High School   \n",
       "5               5    Bryan Miranda      M   9th   Huang High School   \n",
       "6               6    Sheena Carter      F  11th   Huang High School   \n",
       "8               8     Michael Roth      M  10th   Huang High School   \n",
       "9               9   Matthew Greene      M  10th   Huang High School   \n",
       "...           ...              ...    ...   ...                 ...   \n",
       "39165       39165     Donna Howard      F  12th  Thomas High School   \n",
       "39166       39166        Dawn Bell      F  10th  Thomas High School   \n",
       "39167       39167   Rebecca Tanner      F   9th  Thomas High School   \n",
       "39168       39168     Desiree Kidd      F  10th  Thomas High School   \n",
       "39169       39169  Carolyn Jackson      F  11th  Thomas High School   \n",
       "\n",
       "      reading_score math_score overall_passing  \n",
       "4           passing    passing         passing  \n",
       "5           passing    passing         passing  \n",
       "6           passing    passing         passing  \n",
       "8           passing    passing         passing  \n",
       "9           passing    passing         passing  \n",
       "...             ...        ...             ...  \n",
       "39165       passing    passing         passing  \n",
       "39166       passing    passing         passing  \n",
       "39167       passing    passing         passing  \n",
       "39168       passing    passing         passing  \n",
       "39169       passing    passing         passing  \n",
       "\n",
       "[25528 rows x 8 columns]"
      ],
      "text/html": "<div>\n<style scoped>\n    .dataframe tbody tr th:only-of-type {\n        vertical-align: middle;\n    }\n\n    .dataframe tbody tr th {\n        vertical-align: top;\n    }\n\n    .dataframe thead th {\n        text-align: right;\n    }\n</style>\n<table border=\"1\" class=\"dataframe\">\n  <thead>\n    <tr style=\"text-align: right;\">\n      <th></th>\n      <th>Student ID</th>\n      <th>student_name</th>\n      <th>gender</th>\n      <th>grade</th>\n      <th>school_name</th>\n      <th>reading_score</th>\n      <th>math_score</th>\n      <th>overall_passing</th>\n    </tr>\n  </thead>\n  <tbody>\n    <tr>\n      <th>4</th>\n      <td>4</td>\n      <td>Bonnie Ray</td>\n      <td>F</td>\n      <td>9th</td>\n      <td>Huang High School</td>\n      <td>passing</td>\n      <td>passing</td>\n      <td>passing</td>\n    </tr>\n    <tr>\n      <th>5</th>\n      <td>5</td>\n      <td>Bryan Miranda</td>\n      <td>M</td>\n      <td>9th</td>\n      <td>Huang High School</td>\n      <td>passing</td>\n      <td>passing</td>\n      <td>passing</td>\n    </tr>\n    <tr>\n      <th>6</th>\n      <td>6</td>\n      <td>Sheena Carter</td>\n      <td>F</td>\n      <td>11th</td>\n      <td>Huang High School</td>\n      <td>passing</td>\n      <td>passing</td>\n      <td>passing</td>\n    </tr>\n    <tr>\n      <th>8</th>\n      <td>8</td>\n      <td>Michael Roth</td>\n      <td>M</td>\n      <td>10th</td>\n      <td>Huang High School</td>\n      <td>passing</td>\n      <td>passing</td>\n      <td>passing</td>\n    </tr>\n    <tr>\n      <th>9</th>\n      <td>9</td>\n      <td>Matthew Greene</td>\n      <td>M</td>\n      <td>10th</td>\n      <td>Huang High School</td>\n      <td>passing</td>\n      <td>passing</td>\n      <td>passing</td>\n    </tr>\n    <tr>\n      <th>...</th>\n      <td>...</td>\n      <td>...</td>\n      <td>...</td>\n      <td>...</td>\n      <td>...</td>\n      <td>...</td>\n      <td>...</td>\n      <td>...</td>\n    </tr>\n    <tr>\n      <th>39165</th>\n      <td>39165</td>\n      <td>Donna Howard</td>\n      <td>F</td>\n      <td>12th</td>\n      <td>Thomas High School</td>\n      <td>passing</td>\n      <td>passing</td>\n      <td>passing</td>\n    </tr>\n    <tr>\n      <th>39166</th>\n      <td>39166</td>\n      <td>Dawn Bell</td>\n      <td>F</td>\n      <td>10th</td>\n      <td>Thomas High School</td>\n      <td>passing</td>\n      <td>passing</td>\n      <td>passing</td>\n    </tr>\n    <tr>\n      <th>39167</th>\n      <td>39167</td>\n      <td>Rebecca Tanner</td>\n      <td>F</td>\n      <td>9th</td>\n      <td>Thomas High School</td>\n      <td>passing</td>\n      <td>passing</td>\n      <td>passing</td>\n    </tr>\n    <tr>\n      <th>39168</th>\n      <td>39168</td>\n      <td>Desiree Kidd</td>\n      <td>F</td>\n      <td>10th</td>\n      <td>Thomas High School</td>\n      <td>passing</td>\n      <td>passing</td>\n      <td>passing</td>\n    </tr>\n    <tr>\n      <th>39169</th>\n      <td>39169</td>\n      <td>Carolyn Jackson</td>\n      <td>F</td>\n      <td>11th</td>\n      <td>Thomas High School</td>\n      <td>passing</td>\n      <td>passing</td>\n      <td>passing</td>\n    </tr>\n  </tbody>\n</table>\n<p>25528 rows × 8 columns</p>\n</div>"
     },
     "metadata": {},
     "execution_count": 1215
    }
   ],
   "source": [
    "passingoverall_df = copy_students_df.loc[copy_students_df['overall_passing'] == 'passing']\n",
    "passingoverall_df"
   ]
  },
  {
   "cell_type": "code",
   "execution_count": 1216,
   "metadata": {},
   "outputs": [
    {
     "output_type": "execute_result",
     "data": {
      "text/plain": [
       "school_name\n",
       "Bailey High School       0.546423\n",
       "Cabrera High School      0.913348\n",
       "Figueroa High School     0.532045\n",
       "Ford High School         0.542899\n",
       "Griffin High School      0.905995\n",
       "Hernandez High School    0.535275\n",
       "Holden High School       0.892272\n",
       "Huang High School        0.535139\n",
       "Johnson High School      0.535392\n",
       "Pena High School         0.905405\n",
       "Rodriguez High School    0.529882\n",
       "Shelton High School      0.898921\n",
       "Thomas High School       0.909480\n",
       "Wilson High School       0.905826\n",
       "Wright High School       0.903333\n",
       "dtype: float64"
      ]
     },
     "metadata": {},
     "execution_count": 1216
    }
   ],
   "source": [
    "overallpass_school_scores = passingoverall_df.groupby([\"school_name\"]).count()['student_name']/combined_district_df['Total Students']\n",
    "overallpass_school_scores"
   ]
  },
  {
   "cell_type": "code",
   "execution_count": 1217,
   "metadata": {},
   "outputs": [
    {
     "output_type": "execute_result",
     "data": {
      "text/plain": [
       "                      School Type  Total Students  Total School Budget  \\\n",
       "                                                                         \n",
       "Bailey High School       District            4976              3124928   \n",
       "Cabrera High School       Charter            1858              1081356   \n",
       "Figueroa High School     District            2949              1884411   \n",
       "Ford High School         District            2739              1763916   \n",
       "Griffin High School       Charter            1468               917500   \n",
       "Hernandez High School    District            4635              3022020   \n",
       "Holden High School        Charter             427               248087   \n",
       "Huang High School        District            2917              1910635   \n",
       "Johnson High School      District            4761              3094650   \n",
       "Pena High School          Charter             962               585858   \n",
       "Rodriguez High School    District            3999              2547363   \n",
       "Shelton High School       Charter            1761              1056600   \n",
       "Thomas High School        Charter            1635              1043130   \n",
       "Wilson High School        Charter            2283              1319574   \n",
       "Wright High School        Charter            1800              1049400   \n",
       "\n",
       "                       Avg Reading Score  Avg Math Score  % Passing Math  \\\n",
       "                                                                           \n",
       "Bailey High School                 81.03           77.05       66.680064   \n",
       "Cabrera High School                83.98           83.06       94.133477   \n",
       "Figueroa High School               81.16           76.71       65.988471   \n",
       "Ford High School                   80.75           77.10       68.309602   \n",
       "Griffin High School                83.82           83.35       93.392371   \n",
       "Hernandez High School              80.93           77.29       66.752967   \n",
       "Holden High School                 83.81           83.80       92.505855   \n",
       "Huang High School                  81.18           76.63       65.683922   \n",
       "Johnson High School                80.97           77.07       66.057551   \n",
       "Pena High School                   84.04           83.84       94.594595   \n",
       "Rodriguez High School              80.74           76.84       66.366592   \n",
       "Shelton High School                83.73           83.36       93.867121   \n",
       "Thomas High School                 83.85           83.42       93.272171   \n",
       "Wilson High School                 83.99           83.27       93.867718   \n",
       "Wright High School                 83.96           83.68       93.333333   \n",
       "\n",
       "                       % Passing Reading  % Overall Passing  \n",
       "                                                             \n",
       "Bailey High School             81.933280          54.642283  \n",
       "Cabrera High School            97.039828          91.334769  \n",
       "Figueroa High School           80.739234          53.204476  \n",
       "Ford High School               79.299014          54.289887  \n",
       "Griffin High School            97.138965          90.599455  \n",
       "Hernandez High School          80.862999          53.527508  \n",
       "Holden High School             96.252927          89.227166  \n",
       "Huang High School              81.316421          53.513884  \n",
       "Johnson High School            81.222432          53.539172  \n",
       "Pena High School               95.945946          90.540541  \n",
       "Rodriguez High School          80.220055          52.988247  \n",
       "Shelton High School            95.854628          89.892107  \n",
       "Thomas High School             97.308869          90.948012  \n",
       "Wilson High School             96.539641          90.582567  \n",
       "Wright High School             96.611111          90.333333  "
      ],
      "text/html": "<div>\n<style scoped>\n    .dataframe tbody tr th:only-of-type {\n        vertical-align: middle;\n    }\n\n    .dataframe tbody tr th {\n        vertical-align: top;\n    }\n\n    .dataframe thead th {\n        text-align: right;\n    }\n</style>\n<table border=\"1\" class=\"dataframe\">\n  <thead>\n    <tr style=\"text-align: right;\">\n      <th></th>\n      <th>School Type</th>\n      <th>Total Students</th>\n      <th>Total School Budget</th>\n      <th>Avg Reading Score</th>\n      <th>Avg Math Score</th>\n      <th>% Passing Math</th>\n      <th>% Passing Reading</th>\n      <th>% Overall Passing</th>\n    </tr>\n    <tr>\n      <th></th>\n      <th></th>\n      <th></th>\n      <th></th>\n      <th></th>\n      <th></th>\n      <th></th>\n      <th></th>\n      <th></th>\n    </tr>\n  </thead>\n  <tbody>\n    <tr>\n      <th>Bailey High School</th>\n      <td>District</td>\n      <td>4976</td>\n      <td>3124928</td>\n      <td>81.03</td>\n      <td>77.05</td>\n      <td>66.680064</td>\n      <td>81.933280</td>\n      <td>54.642283</td>\n    </tr>\n    <tr>\n      <th>Cabrera High School</th>\n      <td>Charter</td>\n      <td>1858</td>\n      <td>1081356</td>\n      <td>83.98</td>\n      <td>83.06</td>\n      <td>94.133477</td>\n      <td>97.039828</td>\n      <td>91.334769</td>\n    </tr>\n    <tr>\n      <th>Figueroa High School</th>\n      <td>District</td>\n      <td>2949</td>\n      <td>1884411</td>\n      <td>81.16</td>\n      <td>76.71</td>\n      <td>65.988471</td>\n      <td>80.739234</td>\n      <td>53.204476</td>\n    </tr>\n    <tr>\n      <th>Ford High School</th>\n      <td>District</td>\n      <td>2739</td>\n      <td>1763916</td>\n      <td>80.75</td>\n      <td>77.10</td>\n      <td>68.309602</td>\n      <td>79.299014</td>\n      <td>54.289887</td>\n    </tr>\n    <tr>\n      <th>Griffin High School</th>\n      <td>Charter</td>\n      <td>1468</td>\n      <td>917500</td>\n      <td>83.82</td>\n      <td>83.35</td>\n      <td>93.392371</td>\n      <td>97.138965</td>\n      <td>90.599455</td>\n    </tr>\n    <tr>\n      <th>Hernandez High School</th>\n      <td>District</td>\n      <td>4635</td>\n      <td>3022020</td>\n      <td>80.93</td>\n      <td>77.29</td>\n      <td>66.752967</td>\n      <td>80.862999</td>\n      <td>53.527508</td>\n    </tr>\n    <tr>\n      <th>Holden High School</th>\n      <td>Charter</td>\n      <td>427</td>\n      <td>248087</td>\n      <td>83.81</td>\n      <td>83.80</td>\n      <td>92.505855</td>\n      <td>96.252927</td>\n      <td>89.227166</td>\n    </tr>\n    <tr>\n      <th>Huang High School</th>\n      <td>District</td>\n      <td>2917</td>\n      <td>1910635</td>\n      <td>81.18</td>\n      <td>76.63</td>\n      <td>65.683922</td>\n      <td>81.316421</td>\n      <td>53.513884</td>\n    </tr>\n    <tr>\n      <th>Johnson High School</th>\n      <td>District</td>\n      <td>4761</td>\n      <td>3094650</td>\n      <td>80.97</td>\n      <td>77.07</td>\n      <td>66.057551</td>\n      <td>81.222432</td>\n      <td>53.539172</td>\n    </tr>\n    <tr>\n      <th>Pena High School</th>\n      <td>Charter</td>\n      <td>962</td>\n      <td>585858</td>\n      <td>84.04</td>\n      <td>83.84</td>\n      <td>94.594595</td>\n      <td>95.945946</td>\n      <td>90.540541</td>\n    </tr>\n    <tr>\n      <th>Rodriguez High School</th>\n      <td>District</td>\n      <td>3999</td>\n      <td>2547363</td>\n      <td>80.74</td>\n      <td>76.84</td>\n      <td>66.366592</td>\n      <td>80.220055</td>\n      <td>52.988247</td>\n    </tr>\n    <tr>\n      <th>Shelton High School</th>\n      <td>Charter</td>\n      <td>1761</td>\n      <td>1056600</td>\n      <td>83.73</td>\n      <td>83.36</td>\n      <td>93.867121</td>\n      <td>95.854628</td>\n      <td>89.892107</td>\n    </tr>\n    <tr>\n      <th>Thomas High School</th>\n      <td>Charter</td>\n      <td>1635</td>\n      <td>1043130</td>\n      <td>83.85</td>\n      <td>83.42</td>\n      <td>93.272171</td>\n      <td>97.308869</td>\n      <td>90.948012</td>\n    </tr>\n    <tr>\n      <th>Wilson High School</th>\n      <td>Charter</td>\n      <td>2283</td>\n      <td>1319574</td>\n      <td>83.99</td>\n      <td>83.27</td>\n      <td>93.867718</td>\n      <td>96.539641</td>\n      <td>90.582567</td>\n    </tr>\n    <tr>\n      <th>Wright High School</th>\n      <td>Charter</td>\n      <td>1800</td>\n      <td>1049400</td>\n      <td>83.96</td>\n      <td>83.68</td>\n      <td>93.333333</td>\n      <td>96.611111</td>\n      <td>90.333333</td>\n    </tr>\n  </tbody>\n</table>\n</div>"
     },
     "metadata": {},
     "execution_count": 1217
    }
   ],
   "source": [
    "combined_district_df['% Overall Passing'] = (overallpass_school_scores)*100\n",
    "combined_district_df.index.names = ['']\n",
    "combined_district_df"
   ]
  },
  {
   "cell_type": "code",
   "execution_count": 1218,
   "metadata": {},
   "outputs": [
    {
     "output_type": "execute_result",
     "data": {
      "text/plain": [
       "                      School Type  Total Students  Total School Budget  \\\n",
       "                                                                         \n",
       "Bailey High School       District            4976              3124928   \n",
       "Cabrera High School       Charter            1858              1081356   \n",
       "Figueroa High School     District            2949              1884411   \n",
       "Ford High School         District            2739              1763916   \n",
       "Griffin High School       Charter            1468               917500   \n",
       "Hernandez High School    District            4635              3022020   \n",
       "Holden High School        Charter             427               248087   \n",
       "Huang High School        District            2917              1910635   \n",
       "Johnson High School      District            4761              3094650   \n",
       "Pena High School          Charter             962               585858   \n",
       "Rodriguez High School    District            3999              2547363   \n",
       "Shelton High School       Charter            1761              1056600   \n",
       "Thomas High School        Charter            1635              1043130   \n",
       "Wilson High School        Charter            2283              1319574   \n",
       "Wright High School        Charter            1800              1049400   \n",
       "\n",
       "                       Avg Reading Score  Avg Math Score  % Passing Math  \\\n",
       "                                                                           \n",
       "Bailey High School                 81.03           77.05       66.680064   \n",
       "Cabrera High School                83.98           83.06       94.133477   \n",
       "Figueroa High School               81.16           76.71       65.988471   \n",
       "Ford High School                   80.75           77.10       68.309602   \n",
       "Griffin High School                83.82           83.35       93.392371   \n",
       "Hernandez High School              80.93           77.29       66.752967   \n",
       "Holden High School                 83.81           83.80       92.505855   \n",
       "Huang High School                  81.18           76.63       65.683922   \n",
       "Johnson High School                80.97           77.07       66.057551   \n",
       "Pena High School                   84.04           83.84       94.594595   \n",
       "Rodriguez High School              80.74           76.84       66.366592   \n",
       "Shelton High School                83.73           83.36       93.867121   \n",
       "Thomas High School                 83.85           83.42       93.272171   \n",
       "Wilson High School                 83.99           83.27       93.867718   \n",
       "Wright High School                 83.96           83.68       93.333333   \n",
       "\n",
       "                       % Passing Reading  % Overall Passing  \\\n",
       "                                                              \n",
       "Bailey High School             81.933280          54.642283   \n",
       "Cabrera High School            97.039828          91.334769   \n",
       "Figueroa High School           80.739234          53.204476   \n",
       "Ford High School               79.299014          54.289887   \n",
       "Griffin High School            97.138965          90.599455   \n",
       "Hernandez High School          80.862999          53.527508   \n",
       "Holden High School             96.252927          89.227166   \n",
       "Huang High School              81.316421          53.513884   \n",
       "Johnson High School            81.222432          53.539172   \n",
       "Pena High School               95.945946          90.540541   \n",
       "Rodriguez High School          80.220055          52.988247   \n",
       "Shelton High School            95.854628          89.892107   \n",
       "Thomas High School             97.308869          90.948012   \n",
       "Wilson High School             96.539641          90.582567   \n",
       "Wright High School             96.611111          90.333333   \n",
       "\n",
       "                       Per Student Budget  \n",
       "                                           \n",
       "Bailey High School                  628.0  \n",
       "Cabrera High School                 582.0  \n",
       "Figueroa High School                639.0  \n",
       "Ford High School                    644.0  \n",
       "Griffin High School                 625.0  \n",
       "Hernandez High School               652.0  \n",
       "Holden High School                  581.0  \n",
       "Huang High School                   655.0  \n",
       "Johnson High School                 650.0  \n",
       "Pena High School                    609.0  \n",
       "Rodriguez High School               637.0  \n",
       "Shelton High School                 600.0  \n",
       "Thomas High School                  638.0  \n",
       "Wilson High School                  578.0  \n",
       "Wright High School                  583.0  "
      ],
      "text/html": "<div>\n<style scoped>\n    .dataframe tbody tr th:only-of-type {\n        vertical-align: middle;\n    }\n\n    .dataframe tbody tr th {\n        vertical-align: top;\n    }\n\n    .dataframe thead th {\n        text-align: right;\n    }\n</style>\n<table border=\"1\" class=\"dataframe\">\n  <thead>\n    <tr style=\"text-align: right;\">\n      <th></th>\n      <th>School Type</th>\n      <th>Total Students</th>\n      <th>Total School Budget</th>\n      <th>Avg Reading Score</th>\n      <th>Avg Math Score</th>\n      <th>% Passing Math</th>\n      <th>% Passing Reading</th>\n      <th>% Overall Passing</th>\n      <th>Per Student Budget</th>\n    </tr>\n    <tr>\n      <th></th>\n      <th></th>\n      <th></th>\n      <th></th>\n      <th></th>\n      <th></th>\n      <th></th>\n      <th></th>\n      <th></th>\n      <th></th>\n    </tr>\n  </thead>\n  <tbody>\n    <tr>\n      <th>Bailey High School</th>\n      <td>District</td>\n      <td>4976</td>\n      <td>3124928</td>\n      <td>81.03</td>\n      <td>77.05</td>\n      <td>66.680064</td>\n      <td>81.933280</td>\n      <td>54.642283</td>\n      <td>628.0</td>\n    </tr>\n    <tr>\n      <th>Cabrera High School</th>\n      <td>Charter</td>\n      <td>1858</td>\n      <td>1081356</td>\n      <td>83.98</td>\n      <td>83.06</td>\n      <td>94.133477</td>\n      <td>97.039828</td>\n      <td>91.334769</td>\n      <td>582.0</td>\n    </tr>\n    <tr>\n      <th>Figueroa High School</th>\n      <td>District</td>\n      <td>2949</td>\n      <td>1884411</td>\n      <td>81.16</td>\n      <td>76.71</td>\n      <td>65.988471</td>\n      <td>80.739234</td>\n      <td>53.204476</td>\n      <td>639.0</td>\n    </tr>\n    <tr>\n      <th>Ford High School</th>\n      <td>District</td>\n      <td>2739</td>\n      <td>1763916</td>\n      <td>80.75</td>\n      <td>77.10</td>\n      <td>68.309602</td>\n      <td>79.299014</td>\n      <td>54.289887</td>\n      <td>644.0</td>\n    </tr>\n    <tr>\n      <th>Griffin High School</th>\n      <td>Charter</td>\n      <td>1468</td>\n      <td>917500</td>\n      <td>83.82</td>\n      <td>83.35</td>\n      <td>93.392371</td>\n      <td>97.138965</td>\n      <td>90.599455</td>\n      <td>625.0</td>\n    </tr>\n    <tr>\n      <th>Hernandez High School</th>\n      <td>District</td>\n      <td>4635</td>\n      <td>3022020</td>\n      <td>80.93</td>\n      <td>77.29</td>\n      <td>66.752967</td>\n      <td>80.862999</td>\n      <td>53.527508</td>\n      <td>652.0</td>\n    </tr>\n    <tr>\n      <th>Holden High School</th>\n      <td>Charter</td>\n      <td>427</td>\n      <td>248087</td>\n      <td>83.81</td>\n      <td>83.80</td>\n      <td>92.505855</td>\n      <td>96.252927</td>\n      <td>89.227166</td>\n      <td>581.0</td>\n    </tr>\n    <tr>\n      <th>Huang High School</th>\n      <td>District</td>\n      <td>2917</td>\n      <td>1910635</td>\n      <td>81.18</td>\n      <td>76.63</td>\n      <td>65.683922</td>\n      <td>81.316421</td>\n      <td>53.513884</td>\n      <td>655.0</td>\n    </tr>\n    <tr>\n      <th>Johnson High School</th>\n      <td>District</td>\n      <td>4761</td>\n      <td>3094650</td>\n      <td>80.97</td>\n      <td>77.07</td>\n      <td>66.057551</td>\n      <td>81.222432</td>\n      <td>53.539172</td>\n      <td>650.0</td>\n    </tr>\n    <tr>\n      <th>Pena High School</th>\n      <td>Charter</td>\n      <td>962</td>\n      <td>585858</td>\n      <td>84.04</td>\n      <td>83.84</td>\n      <td>94.594595</td>\n      <td>95.945946</td>\n      <td>90.540541</td>\n      <td>609.0</td>\n    </tr>\n    <tr>\n      <th>Rodriguez High School</th>\n      <td>District</td>\n      <td>3999</td>\n      <td>2547363</td>\n      <td>80.74</td>\n      <td>76.84</td>\n      <td>66.366592</td>\n      <td>80.220055</td>\n      <td>52.988247</td>\n      <td>637.0</td>\n    </tr>\n    <tr>\n      <th>Shelton High School</th>\n      <td>Charter</td>\n      <td>1761</td>\n      <td>1056600</td>\n      <td>83.73</td>\n      <td>83.36</td>\n      <td>93.867121</td>\n      <td>95.854628</td>\n      <td>89.892107</td>\n      <td>600.0</td>\n    </tr>\n    <tr>\n      <th>Thomas High School</th>\n      <td>Charter</td>\n      <td>1635</td>\n      <td>1043130</td>\n      <td>83.85</td>\n      <td>83.42</td>\n      <td>93.272171</td>\n      <td>97.308869</td>\n      <td>90.948012</td>\n      <td>638.0</td>\n    </tr>\n    <tr>\n      <th>Wilson High School</th>\n      <td>Charter</td>\n      <td>2283</td>\n      <td>1319574</td>\n      <td>83.99</td>\n      <td>83.27</td>\n      <td>93.867718</td>\n      <td>96.539641</td>\n      <td>90.582567</td>\n      <td>578.0</td>\n    </tr>\n    <tr>\n      <th>Wright High School</th>\n      <td>Charter</td>\n      <td>1800</td>\n      <td>1049400</td>\n      <td>83.96</td>\n      <td>83.68</td>\n      <td>93.333333</td>\n      <td>96.611111</td>\n      <td>90.333333</td>\n      <td>583.0</td>\n    </tr>\n  </tbody>\n</table>\n</div>"
     },
     "metadata": {},
     "execution_count": 1218
    }
   ],
   "source": [
    "combined_district_df['Per Student Budget'] = combined_district_df['Total School Budget']/combined_district_df['Total Students']\n",
    "combined_district_df"
   ]
  },
  {
   "cell_type": "code",
   "execution_count": 1219,
   "metadata": {},
   "outputs": [
    {
     "output_type": "execute_result",
     "data": {
      "text/plain": [
       "                      School Type  Total Students  Total School Budget  \\\n",
       "                                                                         \n",
       "Bailey High School       District            4976              3124928   \n",
       "Cabrera High School       Charter            1858              1081356   \n",
       "Figueroa High School     District            2949              1884411   \n",
       "Ford High School         District            2739              1763916   \n",
       "Griffin High School       Charter            1468               917500   \n",
       "Hernandez High School    District            4635              3022020   \n",
       "Holden High School        Charter             427               248087   \n",
       "Huang High School        District            2917              1910635   \n",
       "Johnson High School      District            4761              3094650   \n",
       "Pena High School          Charter             962               585858   \n",
       "Rodriguez High School    District            3999              2547363   \n",
       "Shelton High School       Charter            1761              1056600   \n",
       "Thomas High School        Charter            1635              1043130   \n",
       "Wilson High School        Charter            2283              1319574   \n",
       "Wright High School        Charter            1800              1049400   \n",
       "\n",
       "                       Per Student Budget  Avg Math Score  Avg Reading Score  \\\n",
       "                                                                               \n",
       "Bailey High School                  628.0           77.05              81.03   \n",
       "Cabrera High School                 582.0           83.06              83.98   \n",
       "Figueroa High School                639.0           76.71              81.16   \n",
       "Ford High School                    644.0           77.10              80.75   \n",
       "Griffin High School                 625.0           83.35              83.82   \n",
       "Hernandez High School               652.0           77.29              80.93   \n",
       "Holden High School                  581.0           83.80              83.81   \n",
       "Huang High School                   655.0           76.63              81.18   \n",
       "Johnson High School                 650.0           77.07              80.97   \n",
       "Pena High School                    609.0           83.84              84.04   \n",
       "Rodriguez High School               637.0           76.84              80.74   \n",
       "Shelton High School                 600.0           83.36              83.73   \n",
       "Thomas High School                  638.0           83.42              83.85   \n",
       "Wilson High School                  578.0           83.27              83.99   \n",
       "Wright High School                  583.0           83.68              83.96   \n",
       "\n",
       "                       % Passing Math  % Passing Reading  % Overall Passing  \n",
       "                                                                             \n",
       "Bailey High School          66.680064          81.933280          54.642283  \n",
       "Cabrera High School         94.133477          97.039828          91.334769  \n",
       "Figueroa High School        65.988471          80.739234          53.204476  \n",
       "Ford High School            68.309602          79.299014          54.289887  \n",
       "Griffin High School         93.392371          97.138965          90.599455  \n",
       "Hernandez High School       66.752967          80.862999          53.527508  \n",
       "Holden High School          92.505855          96.252927          89.227166  \n",
       "Huang High School           65.683922          81.316421          53.513884  \n",
       "Johnson High School         66.057551          81.222432          53.539172  \n",
       "Pena High School            94.594595          95.945946          90.540541  \n",
       "Rodriguez High School       66.366592          80.220055          52.988247  \n",
       "Shelton High School         93.867121          95.854628          89.892107  \n",
       "Thomas High School          93.272171          97.308869          90.948012  \n",
       "Wilson High School          93.867718          96.539641          90.582567  \n",
       "Wright High School          93.333333          96.611111          90.333333  "
      ],
      "text/html": "<div>\n<style scoped>\n    .dataframe tbody tr th:only-of-type {\n        vertical-align: middle;\n    }\n\n    .dataframe tbody tr th {\n        vertical-align: top;\n    }\n\n    .dataframe thead th {\n        text-align: right;\n    }\n</style>\n<table border=\"1\" class=\"dataframe\">\n  <thead>\n    <tr style=\"text-align: right;\">\n      <th></th>\n      <th>School Type</th>\n      <th>Total Students</th>\n      <th>Total School Budget</th>\n      <th>Per Student Budget</th>\n      <th>Avg Math Score</th>\n      <th>Avg Reading Score</th>\n      <th>% Passing Math</th>\n      <th>% Passing Reading</th>\n      <th>% Overall Passing</th>\n    </tr>\n    <tr>\n      <th></th>\n      <th></th>\n      <th></th>\n      <th></th>\n      <th></th>\n      <th></th>\n      <th></th>\n      <th></th>\n      <th></th>\n      <th></th>\n    </tr>\n  </thead>\n  <tbody>\n    <tr>\n      <th>Bailey High School</th>\n      <td>District</td>\n      <td>4976</td>\n      <td>3124928</td>\n      <td>628.0</td>\n      <td>77.05</td>\n      <td>81.03</td>\n      <td>66.680064</td>\n      <td>81.933280</td>\n      <td>54.642283</td>\n    </tr>\n    <tr>\n      <th>Cabrera High School</th>\n      <td>Charter</td>\n      <td>1858</td>\n      <td>1081356</td>\n      <td>582.0</td>\n      <td>83.06</td>\n      <td>83.98</td>\n      <td>94.133477</td>\n      <td>97.039828</td>\n      <td>91.334769</td>\n    </tr>\n    <tr>\n      <th>Figueroa High School</th>\n      <td>District</td>\n      <td>2949</td>\n      <td>1884411</td>\n      <td>639.0</td>\n      <td>76.71</td>\n      <td>81.16</td>\n      <td>65.988471</td>\n      <td>80.739234</td>\n      <td>53.204476</td>\n    </tr>\n    <tr>\n      <th>Ford High School</th>\n      <td>District</td>\n      <td>2739</td>\n      <td>1763916</td>\n      <td>644.0</td>\n      <td>77.10</td>\n      <td>80.75</td>\n      <td>68.309602</td>\n      <td>79.299014</td>\n      <td>54.289887</td>\n    </tr>\n    <tr>\n      <th>Griffin High School</th>\n      <td>Charter</td>\n      <td>1468</td>\n      <td>917500</td>\n      <td>625.0</td>\n      <td>83.35</td>\n      <td>83.82</td>\n      <td>93.392371</td>\n      <td>97.138965</td>\n      <td>90.599455</td>\n    </tr>\n    <tr>\n      <th>Hernandez High School</th>\n      <td>District</td>\n      <td>4635</td>\n      <td>3022020</td>\n      <td>652.0</td>\n      <td>77.29</td>\n      <td>80.93</td>\n      <td>66.752967</td>\n      <td>80.862999</td>\n      <td>53.527508</td>\n    </tr>\n    <tr>\n      <th>Holden High School</th>\n      <td>Charter</td>\n      <td>427</td>\n      <td>248087</td>\n      <td>581.0</td>\n      <td>83.80</td>\n      <td>83.81</td>\n      <td>92.505855</td>\n      <td>96.252927</td>\n      <td>89.227166</td>\n    </tr>\n    <tr>\n      <th>Huang High School</th>\n      <td>District</td>\n      <td>2917</td>\n      <td>1910635</td>\n      <td>655.0</td>\n      <td>76.63</td>\n      <td>81.18</td>\n      <td>65.683922</td>\n      <td>81.316421</td>\n      <td>53.513884</td>\n    </tr>\n    <tr>\n      <th>Johnson High School</th>\n      <td>District</td>\n      <td>4761</td>\n      <td>3094650</td>\n      <td>650.0</td>\n      <td>77.07</td>\n      <td>80.97</td>\n      <td>66.057551</td>\n      <td>81.222432</td>\n      <td>53.539172</td>\n    </tr>\n    <tr>\n      <th>Pena High School</th>\n      <td>Charter</td>\n      <td>962</td>\n      <td>585858</td>\n      <td>609.0</td>\n      <td>83.84</td>\n      <td>84.04</td>\n      <td>94.594595</td>\n      <td>95.945946</td>\n      <td>90.540541</td>\n    </tr>\n    <tr>\n      <th>Rodriguez High School</th>\n      <td>District</td>\n      <td>3999</td>\n      <td>2547363</td>\n      <td>637.0</td>\n      <td>76.84</td>\n      <td>80.74</td>\n      <td>66.366592</td>\n      <td>80.220055</td>\n      <td>52.988247</td>\n    </tr>\n    <tr>\n      <th>Shelton High School</th>\n      <td>Charter</td>\n      <td>1761</td>\n      <td>1056600</td>\n      <td>600.0</td>\n      <td>83.36</td>\n      <td>83.73</td>\n      <td>93.867121</td>\n      <td>95.854628</td>\n      <td>89.892107</td>\n    </tr>\n    <tr>\n      <th>Thomas High School</th>\n      <td>Charter</td>\n      <td>1635</td>\n      <td>1043130</td>\n      <td>638.0</td>\n      <td>83.42</td>\n      <td>83.85</td>\n      <td>93.272171</td>\n      <td>97.308869</td>\n      <td>90.948012</td>\n    </tr>\n    <tr>\n      <th>Wilson High School</th>\n      <td>Charter</td>\n      <td>2283</td>\n      <td>1319574</td>\n      <td>578.0</td>\n      <td>83.27</td>\n      <td>83.99</td>\n      <td>93.867718</td>\n      <td>96.539641</td>\n      <td>90.582567</td>\n    </tr>\n    <tr>\n      <th>Wright High School</th>\n      <td>Charter</td>\n      <td>1800</td>\n      <td>1049400</td>\n      <td>583.0</td>\n      <td>83.68</td>\n      <td>83.96</td>\n      <td>93.333333</td>\n      <td>96.611111</td>\n      <td>90.333333</td>\n    </tr>\n  </tbody>\n</table>\n</div>"
     },
     "metadata": {},
     "execution_count": 1219
    }
   ],
   "source": [
    "combined_district_df = combined_district_df[['School Type',\"Total Students\",'Total School Budget','Per Student Budget','Avg Math Score', 'Avg Reading Score', '% Passing Math', '% Passing Reading', '% Overall Passing']]\n",
    "combined_district_df"
   ]
  },
  {
   "cell_type": "code",
   "execution_count": 1220,
   "metadata": {},
   "outputs": [
    {
     "output_type": "execute_result",
     "data": {
      "text/plain": [
       "                    School Type  Total Students  Total School Budget  \\\n",
       "                                                                       \n",
       "Cabrera High School     Charter            1858              1081356   \n",
       "Thomas High School      Charter            1635              1043130   \n",
       "Griffin High School     Charter            1468               917500   \n",
       "Wilson High School      Charter            2283              1319574   \n",
       "Pena High School        Charter             962               585858   \n",
       "\n",
       "                     Per Student Budget  Avg Math Score  Avg Reading Score  \\\n",
       "                                                                             \n",
       "Cabrera High School               582.0           83.06              83.98   \n",
       "Thomas High School                638.0           83.42              83.85   \n",
       "Griffin High School               625.0           83.35              83.82   \n",
       "Wilson High School                578.0           83.27              83.99   \n",
       "Pena High School                  609.0           83.84              84.04   \n",
       "\n",
       "                     % Passing Math  % Passing Reading  % Overall Passing  \n",
       "                                                                           \n",
       "Cabrera High School       94.133477          97.039828          91.334769  \n",
       "Thomas High School        93.272171          97.308869          90.948012  \n",
       "Griffin High School       93.392371          97.138965          90.599455  \n",
       "Wilson High School        93.867718          96.539641          90.582567  \n",
       "Pena High School          94.594595          95.945946          90.540541  "
      ],
      "text/html": "<div>\n<style scoped>\n    .dataframe tbody tr th:only-of-type {\n        vertical-align: middle;\n    }\n\n    .dataframe tbody tr th {\n        vertical-align: top;\n    }\n\n    .dataframe thead th {\n        text-align: right;\n    }\n</style>\n<table border=\"1\" class=\"dataframe\">\n  <thead>\n    <tr style=\"text-align: right;\">\n      <th></th>\n      <th>School Type</th>\n      <th>Total Students</th>\n      <th>Total School Budget</th>\n      <th>Per Student Budget</th>\n      <th>Avg Math Score</th>\n      <th>Avg Reading Score</th>\n      <th>% Passing Math</th>\n      <th>% Passing Reading</th>\n      <th>% Overall Passing</th>\n    </tr>\n    <tr>\n      <th></th>\n      <th></th>\n      <th></th>\n      <th></th>\n      <th></th>\n      <th></th>\n      <th></th>\n      <th></th>\n      <th></th>\n      <th></th>\n    </tr>\n  </thead>\n  <tbody>\n    <tr>\n      <th>Cabrera High School</th>\n      <td>Charter</td>\n      <td>1858</td>\n      <td>1081356</td>\n      <td>582.0</td>\n      <td>83.06</td>\n      <td>83.98</td>\n      <td>94.133477</td>\n      <td>97.039828</td>\n      <td>91.334769</td>\n    </tr>\n    <tr>\n      <th>Thomas High School</th>\n      <td>Charter</td>\n      <td>1635</td>\n      <td>1043130</td>\n      <td>638.0</td>\n      <td>83.42</td>\n      <td>83.85</td>\n      <td>93.272171</td>\n      <td>97.308869</td>\n      <td>90.948012</td>\n    </tr>\n    <tr>\n      <th>Griffin High School</th>\n      <td>Charter</td>\n      <td>1468</td>\n      <td>917500</td>\n      <td>625.0</td>\n      <td>83.35</td>\n      <td>83.82</td>\n      <td>93.392371</td>\n      <td>97.138965</td>\n      <td>90.599455</td>\n    </tr>\n    <tr>\n      <th>Wilson High School</th>\n      <td>Charter</td>\n      <td>2283</td>\n      <td>1319574</td>\n      <td>578.0</td>\n      <td>83.27</td>\n      <td>83.99</td>\n      <td>93.867718</td>\n      <td>96.539641</td>\n      <td>90.582567</td>\n    </tr>\n    <tr>\n      <th>Pena High School</th>\n      <td>Charter</td>\n      <td>962</td>\n      <td>585858</td>\n      <td>609.0</td>\n      <td>83.84</td>\n      <td>84.04</td>\n      <td>94.594595</td>\n      <td>95.945946</td>\n      <td>90.540541</td>\n    </tr>\n  </tbody>\n</table>\n</div>"
     },
     "metadata": {},
     "execution_count": 1220
    }
   ],
   "source": [
    "topschools_district_df = combined_district_df.sort_values(['% Overall Passing'], ascending = False)\n",
    "topschools_district_df.head(5)"
   ]
  },
  {
   "cell_type": "code",
   "execution_count": 1221,
   "metadata": {},
   "outputs": [
    {
     "output_type": "execute_result",
     "data": {
      "text/plain": [
       "                      School Type  Total Students  Total School Budget  \\\n",
       "                                                                         \n",
       "Rodriguez High School    District            3999              2547363   \n",
       "Figueroa High School     District            2949              1884411   \n",
       "Huang High School        District            2917              1910635   \n",
       "Hernandez High School    District            4635              3022020   \n",
       "Johnson High School      District            4761              3094650   \n",
       "\n",
       "                       Per Student Budget  Avg Math Score  Avg Reading Score  \\\n",
       "                                                                               \n",
       "Rodriguez High School               637.0           76.84              80.74   \n",
       "Figueroa High School                639.0           76.71              81.16   \n",
       "Huang High School                   655.0           76.63              81.18   \n",
       "Hernandez High School               652.0           77.29              80.93   \n",
       "Johnson High School                 650.0           77.07              80.97   \n",
       "\n",
       "                       % Passing Math  % Passing Reading  % Overall Passing  \n",
       "                                                                             \n",
       "Rodriguez High School       66.366592          80.220055          52.988247  \n",
       "Figueroa High School        65.988471          80.739234          53.204476  \n",
       "Huang High School           65.683922          81.316421          53.513884  \n",
       "Hernandez High School       66.752967          80.862999          53.527508  \n",
       "Johnson High School         66.057551          81.222432          53.539172  "
      ],
      "text/html": "<div>\n<style scoped>\n    .dataframe tbody tr th:only-of-type {\n        vertical-align: middle;\n    }\n\n    .dataframe tbody tr th {\n        vertical-align: top;\n    }\n\n    .dataframe thead th {\n        text-align: right;\n    }\n</style>\n<table border=\"1\" class=\"dataframe\">\n  <thead>\n    <tr style=\"text-align: right;\">\n      <th></th>\n      <th>School Type</th>\n      <th>Total Students</th>\n      <th>Total School Budget</th>\n      <th>Per Student Budget</th>\n      <th>Avg Math Score</th>\n      <th>Avg Reading Score</th>\n      <th>% Passing Math</th>\n      <th>% Passing Reading</th>\n      <th>% Overall Passing</th>\n    </tr>\n    <tr>\n      <th></th>\n      <th></th>\n      <th></th>\n      <th></th>\n      <th></th>\n      <th></th>\n      <th></th>\n      <th></th>\n      <th></th>\n      <th></th>\n    </tr>\n  </thead>\n  <tbody>\n    <tr>\n      <th>Rodriguez High School</th>\n      <td>District</td>\n      <td>3999</td>\n      <td>2547363</td>\n      <td>637.0</td>\n      <td>76.84</td>\n      <td>80.74</td>\n      <td>66.366592</td>\n      <td>80.220055</td>\n      <td>52.988247</td>\n    </tr>\n    <tr>\n      <th>Figueroa High School</th>\n      <td>District</td>\n      <td>2949</td>\n      <td>1884411</td>\n      <td>639.0</td>\n      <td>76.71</td>\n      <td>81.16</td>\n      <td>65.988471</td>\n      <td>80.739234</td>\n      <td>53.204476</td>\n    </tr>\n    <tr>\n      <th>Huang High School</th>\n      <td>District</td>\n      <td>2917</td>\n      <td>1910635</td>\n      <td>655.0</td>\n      <td>76.63</td>\n      <td>81.18</td>\n      <td>65.683922</td>\n      <td>81.316421</td>\n      <td>53.513884</td>\n    </tr>\n    <tr>\n      <th>Hernandez High School</th>\n      <td>District</td>\n      <td>4635</td>\n      <td>3022020</td>\n      <td>652.0</td>\n      <td>77.29</td>\n      <td>80.93</td>\n      <td>66.752967</td>\n      <td>80.862999</td>\n      <td>53.527508</td>\n    </tr>\n    <tr>\n      <th>Johnson High School</th>\n      <td>District</td>\n      <td>4761</td>\n      <td>3094650</td>\n      <td>650.0</td>\n      <td>77.07</td>\n      <td>80.97</td>\n      <td>66.057551</td>\n      <td>81.222432</td>\n      <td>53.539172</td>\n    </tr>\n  </tbody>\n</table>\n</div>"
     },
     "metadata": {},
     "execution_count": 1221
    }
   ],
   "source": [
    "bottomschools_district_df = combined_district_df.sort_values(['% Overall Passing'], ascending = True)\n",
    "bottomschools_district_df.head(5)"
   ]
  },
  {
   "cell_type": "code",
   "execution_count": 1222,
   "metadata": {},
   "outputs": [
    {
     "output_type": "execute_result",
     "data": {
      "text/plain": [
       "   Student ID     student_name gender grade        school_name  reading_score  \\\n",
       "0           0     Paul Bradley      M   9th  Huang High School             66   \n",
       "1           1     Victor Smith      M  12th  Huang High School             94   \n",
       "2           2  Kevin Rodriguez      M  12th  Huang High School             90   \n",
       "\n",
       "   math_score  \n",
       "0          79  \n",
       "1          61  \n",
       "2          60  "
      ],
      "text/html": "<div>\n<style scoped>\n    .dataframe tbody tr th:only-of-type {\n        vertical-align: middle;\n    }\n\n    .dataframe tbody tr th {\n        vertical-align: top;\n    }\n\n    .dataframe thead th {\n        text-align: right;\n    }\n</style>\n<table border=\"1\" class=\"dataframe\">\n  <thead>\n    <tr style=\"text-align: right;\">\n      <th></th>\n      <th>Student ID</th>\n      <th>student_name</th>\n      <th>gender</th>\n      <th>grade</th>\n      <th>school_name</th>\n      <th>reading_score</th>\n      <th>math_score</th>\n    </tr>\n  </thead>\n  <tbody>\n    <tr>\n      <th>0</th>\n      <td>0</td>\n      <td>Paul Bradley</td>\n      <td>M</td>\n      <td>9th</td>\n      <td>Huang High School</td>\n      <td>66</td>\n      <td>79</td>\n    </tr>\n    <tr>\n      <th>1</th>\n      <td>1</td>\n      <td>Victor Smith</td>\n      <td>M</td>\n      <td>12th</td>\n      <td>Huang High School</td>\n      <td>94</td>\n      <td>61</td>\n    </tr>\n    <tr>\n      <th>2</th>\n      <td>2</td>\n      <td>Kevin Rodriguez</td>\n      <td>M</td>\n      <td>12th</td>\n      <td>Huang High School</td>\n      <td>90</td>\n      <td>60</td>\n    </tr>\n  </tbody>\n</table>\n</div>"
     },
     "metadata": {},
     "execution_count": 1222
    }
   ],
   "source": [
    "students_df.head(3)"
   ]
  },
  {
   "cell_type": "code",
   "execution_count": 1223,
   "metadata": {},
   "outputs": [
    {
     "output_type": "execute_result",
     "data": {
      "text/plain": [
       "       Student ID      student_name gender grade         school_name  \\\n",
       "0               0      Paul Bradley      M   9th   Huang High School   \n",
       "4               4        Bonnie Ray      F   9th   Huang High School   \n",
       "5               5     Bryan Miranda      M   9th   Huang High School   \n",
       "12             12   Brittney Walker      F   9th   Huang High School   \n",
       "13             13      William Long      M   9th   Huang High School   \n",
       "...           ...               ...    ...   ...                 ...   \n",
       "39152       39152        Lori Moore      F   9th  Thomas High School   \n",
       "39153       39153   William Hubbard      M   9th  Thomas High School   \n",
       "39157       39157  Kristen Gonzalez      F   9th  Thomas High School   \n",
       "39164       39164    Joseph Anthony      M   9th  Thomas High School   \n",
       "39167       39167    Rebecca Tanner      F   9th  Thomas High School   \n",
       "\n",
       "       reading_score  math_score  \n",
       "0                 66          79  \n",
       "4                 97          84  \n",
       "5                 94          94  \n",
       "12                64          79  \n",
       "13                71          79  \n",
       "...              ...         ...  \n",
       "39152             98          84  \n",
       "39153             80          75  \n",
       "39157             79          94  \n",
       "39164             97          76  \n",
       "39167             73          84  \n",
       "\n",
       "[11408 rows x 7 columns]"
      ],
      "text/html": "<div>\n<style scoped>\n    .dataframe tbody tr th:only-of-type {\n        vertical-align: middle;\n    }\n\n    .dataframe tbody tr th {\n        vertical-align: top;\n    }\n\n    .dataframe thead th {\n        text-align: right;\n    }\n</style>\n<table border=\"1\" class=\"dataframe\">\n  <thead>\n    <tr style=\"text-align: right;\">\n      <th></th>\n      <th>Student ID</th>\n      <th>student_name</th>\n      <th>gender</th>\n      <th>grade</th>\n      <th>school_name</th>\n      <th>reading_score</th>\n      <th>math_score</th>\n    </tr>\n  </thead>\n  <tbody>\n    <tr>\n      <th>0</th>\n      <td>0</td>\n      <td>Paul Bradley</td>\n      <td>M</td>\n      <td>9th</td>\n      <td>Huang High School</td>\n      <td>66</td>\n      <td>79</td>\n    </tr>\n    <tr>\n      <th>4</th>\n      <td>4</td>\n      <td>Bonnie Ray</td>\n      <td>F</td>\n      <td>9th</td>\n      <td>Huang High School</td>\n      <td>97</td>\n      <td>84</td>\n    </tr>\n    <tr>\n      <th>5</th>\n      <td>5</td>\n      <td>Bryan Miranda</td>\n      <td>M</td>\n      <td>9th</td>\n      <td>Huang High School</td>\n      <td>94</td>\n      <td>94</td>\n    </tr>\n    <tr>\n      <th>12</th>\n      <td>12</td>\n      <td>Brittney Walker</td>\n      <td>F</td>\n      <td>9th</td>\n      <td>Huang High School</td>\n      <td>64</td>\n      <td>79</td>\n    </tr>\n    <tr>\n      <th>13</th>\n      <td>13</td>\n      <td>William Long</td>\n      <td>M</td>\n      <td>9th</td>\n      <td>Huang High School</td>\n      <td>71</td>\n      <td>79</td>\n    </tr>\n    <tr>\n      <th>...</th>\n      <td>...</td>\n      <td>...</td>\n      <td>...</td>\n      <td>...</td>\n      <td>...</td>\n      <td>...</td>\n      <td>...</td>\n    </tr>\n    <tr>\n      <th>39152</th>\n      <td>39152</td>\n      <td>Lori Moore</td>\n      <td>F</td>\n      <td>9th</td>\n      <td>Thomas High School</td>\n      <td>98</td>\n      <td>84</td>\n    </tr>\n    <tr>\n      <th>39153</th>\n      <td>39153</td>\n      <td>William Hubbard</td>\n      <td>M</td>\n      <td>9th</td>\n      <td>Thomas High School</td>\n      <td>80</td>\n      <td>75</td>\n    </tr>\n    <tr>\n      <th>39157</th>\n      <td>39157</td>\n      <td>Kristen Gonzalez</td>\n      <td>F</td>\n      <td>9th</td>\n      <td>Thomas High School</td>\n      <td>79</td>\n      <td>94</td>\n    </tr>\n    <tr>\n      <th>39164</th>\n      <td>39164</td>\n      <td>Joseph Anthony</td>\n      <td>M</td>\n      <td>9th</td>\n      <td>Thomas High School</td>\n      <td>97</td>\n      <td>76</td>\n    </tr>\n    <tr>\n      <th>39167</th>\n      <td>39167</td>\n      <td>Rebecca Tanner</td>\n      <td>F</td>\n      <td>9th</td>\n      <td>Thomas High School</td>\n      <td>73</td>\n      <td>84</td>\n    </tr>\n  </tbody>\n</table>\n<p>11408 rows × 7 columns</p>\n</div>"
     },
     "metadata": {},
     "execution_count": 1223
    }
   ],
   "source": [
    "ninthgrade_df = students_df.loc[students_df['grade'] == '9th']\n",
    "ninthgrade_df"
   ]
  },
  {
   "cell_type": "code",
   "execution_count": 1224,
   "metadata": {},
   "outputs": [
    {
     "output_type": "execute_result",
     "data": {
      "text/plain": [
       "school_name\n",
       "Bailey High School       77.08\n",
       "Cabrera High School      83.09\n",
       "Figueroa High School     76.40\n",
       "Ford High School         77.36\n",
       "Griffin High School      82.04\n",
       "Hernandez High School    77.44\n",
       "Holden High School       83.79\n",
       "Huang High School        77.03\n",
       "Johnson High School      77.19\n",
       "Pena High School         83.63\n",
       "Rodriguez High School    76.86\n",
       "Shelton High School      83.42\n",
       "Thomas High School       83.59\n",
       "Wilson High School       83.09\n",
       "Wright High School       83.26\n",
       "Name: math_score, dtype: float64"
      ]
     },
     "metadata": {},
     "execution_count": 1224
    }
   ],
   "source": [
    "ninthgrade_math = round(ninthgrade_df.groupby(['school_name'])['math_score'].mean(),2)\n",
    "ninthgrade_math"
   ]
  },
  {
   "cell_type": "code",
   "execution_count": 1225,
   "metadata": {},
   "outputs": [
    {
     "output_type": "execute_result",
     "data": {
      "text/plain": [
       "school_name\n",
       "Bailey High School       77.00\n",
       "Cabrera High School      83.15\n",
       "Figueroa High School     76.54\n",
       "Ford High School         77.67\n",
       "Griffin High School      84.23\n",
       "Hernandez High School    77.34\n",
       "Holden High School       83.43\n",
       "Huang High School        75.91\n",
       "Johnson High School      76.69\n",
       "Pena High School         83.37\n",
       "Rodriguez High School    76.61\n",
       "Shelton High School      82.92\n",
       "Thomas High School       83.09\n",
       "Wilson High School       83.72\n",
       "Wright High School       84.01\n",
       "Name: math_score, dtype: float64"
      ]
     },
     "metadata": {},
     "execution_count": 1225
    }
   ],
   "source": [
    "tenthgrade_df = students_df.loc[students_df['grade'] == '10th']\n",
    "tenthgrade_math = round(tenthgrade_df.groupby(['school_name'])['math_score'].mean(),2)\n",
    "tenthgrade_math"
   ]
  },
  {
   "cell_type": "code",
   "execution_count": 1226,
   "metadata": {},
   "outputs": [
    {
     "output_type": "execute_result",
     "data": {
      "text/plain": [
       "school_name\n",
       "Bailey High School       77.52\n",
       "Cabrera High School      82.77\n",
       "Figueroa High School     76.88\n",
       "Ford High School         76.92\n",
       "Griffin High School      83.84\n",
       "Hernandez High School    77.14\n",
       "Holden High School       85.00\n",
       "Huang High School        76.45\n",
       "Johnson High School      77.49\n",
       "Pena High School         84.33\n",
       "Rodriguez High School    76.40\n",
       "Shelton High School      83.38\n",
       "Thomas High School       83.50\n",
       "Wilson High School       83.20\n",
       "Wright High School       83.84\n",
       "Name: math_score, dtype: float64"
      ]
     },
     "metadata": {},
     "execution_count": 1226
    }
   ],
   "source": [
    "eleventhgrade_df = students_df.loc[students_df['grade'] == '11th']\n",
    "eleventhgrade_math = round(eleventhgrade_df.groupby(['school_name'])['math_score'].mean(),2)\n",
    "eleventhgrade_math"
   ]
  },
  {
   "cell_type": "code",
   "execution_count": 1227,
   "metadata": {},
   "outputs": [
    {
     "output_type": "execute_result",
     "data": {
      "text/plain": [
       "school_name\n",
       "Bailey High School       76.49\n",
       "Cabrera High School      83.28\n",
       "Figueroa High School     77.15\n",
       "Ford High School         76.18\n",
       "Griffin High School      83.36\n",
       "Hernandez High School    77.19\n",
       "Holden High School       82.86\n",
       "Huang High School        77.23\n",
       "Johnson High School      76.86\n",
       "Pena High School         84.12\n",
       "Rodriguez High School    77.69\n",
       "Shelton High School      83.78\n",
       "Thomas High School       83.50\n",
       "Wilson High School       83.04\n",
       "Wright High School       83.64\n",
       "Name: math_score, dtype: float64"
      ]
     },
     "metadata": {},
     "execution_count": 1227
    }
   ],
   "source": [
    "twelfthgrade_df = students_df.loc[students_df['grade'] == '12th']\n",
    "twelfthgrade_math = round(twelfthgrade_df.groupby(['school_name'])['math_score'].mean(),2)\n",
    "twelfthgrade_math"
   ]
  },
  {
   "cell_type": "code",
   "execution_count": 1228,
   "metadata": {},
   "outputs": [
    {
     "output_type": "execute_result",
     "data": {
      "text/plain": [
       "                         9th   10th   11th   12th\n",
       "                                                 \n",
       "Bailey High School     77.08  77.00  77.52  76.49\n",
       "Cabrera High School    83.09  83.15  82.77  83.28\n",
       "Figueroa High School   76.40  76.54  76.88  77.15\n",
       "Ford High School       77.36  77.67  76.92  76.18\n",
       "Griffin High School    82.04  84.23  83.84  83.36\n",
       "Hernandez High School  77.44  77.34  77.14  77.19\n",
       "Holden High School     83.79  83.43  85.00  82.86\n",
       "Huang High School      77.03  75.91  76.45  77.23\n",
       "Johnson High School    77.19  76.69  77.49  76.86\n",
       "Pena High School       83.63  83.37  84.33  84.12\n",
       "Rodriguez High School  76.86  76.61  76.40  77.69\n",
       "Shelton High School    83.42  82.92  83.38  83.78\n",
       "Thomas High School     83.59  83.09  83.50  83.50\n",
       "Wilson High School     83.09  83.72  83.20  83.04\n",
       "Wright High School     83.26  84.01  83.84  83.64"
      ],
      "text/html": "<div>\n<style scoped>\n    .dataframe tbody tr th:only-of-type {\n        vertical-align: middle;\n    }\n\n    .dataframe tbody tr th {\n        vertical-align: top;\n    }\n\n    .dataframe thead th {\n        text-align: right;\n    }\n</style>\n<table border=\"1\" class=\"dataframe\">\n  <thead>\n    <tr style=\"text-align: right;\">\n      <th></th>\n      <th>9th</th>\n      <th>10th</th>\n      <th>11th</th>\n      <th>12th</th>\n    </tr>\n    <tr>\n      <th></th>\n      <th></th>\n      <th></th>\n      <th></th>\n      <th></th>\n    </tr>\n  </thead>\n  <tbody>\n    <tr>\n      <th>Bailey High School</th>\n      <td>77.08</td>\n      <td>77.00</td>\n      <td>77.52</td>\n      <td>76.49</td>\n    </tr>\n    <tr>\n      <th>Cabrera High School</th>\n      <td>83.09</td>\n      <td>83.15</td>\n      <td>82.77</td>\n      <td>83.28</td>\n    </tr>\n    <tr>\n      <th>Figueroa High School</th>\n      <td>76.40</td>\n      <td>76.54</td>\n      <td>76.88</td>\n      <td>77.15</td>\n    </tr>\n    <tr>\n      <th>Ford High School</th>\n      <td>77.36</td>\n      <td>77.67</td>\n      <td>76.92</td>\n      <td>76.18</td>\n    </tr>\n    <tr>\n      <th>Griffin High School</th>\n      <td>82.04</td>\n      <td>84.23</td>\n      <td>83.84</td>\n      <td>83.36</td>\n    </tr>\n    <tr>\n      <th>Hernandez High School</th>\n      <td>77.44</td>\n      <td>77.34</td>\n      <td>77.14</td>\n      <td>77.19</td>\n    </tr>\n    <tr>\n      <th>Holden High School</th>\n      <td>83.79</td>\n      <td>83.43</td>\n      <td>85.00</td>\n      <td>82.86</td>\n    </tr>\n    <tr>\n      <th>Huang High School</th>\n      <td>77.03</td>\n      <td>75.91</td>\n      <td>76.45</td>\n      <td>77.23</td>\n    </tr>\n    <tr>\n      <th>Johnson High School</th>\n      <td>77.19</td>\n      <td>76.69</td>\n      <td>77.49</td>\n      <td>76.86</td>\n    </tr>\n    <tr>\n      <th>Pena High School</th>\n      <td>83.63</td>\n      <td>83.37</td>\n      <td>84.33</td>\n      <td>84.12</td>\n    </tr>\n    <tr>\n      <th>Rodriguez High School</th>\n      <td>76.86</td>\n      <td>76.61</td>\n      <td>76.40</td>\n      <td>77.69</td>\n    </tr>\n    <tr>\n      <th>Shelton High School</th>\n      <td>83.42</td>\n      <td>82.92</td>\n      <td>83.38</td>\n      <td>83.78</td>\n    </tr>\n    <tr>\n      <th>Thomas High School</th>\n      <td>83.59</td>\n      <td>83.09</td>\n      <td>83.50</td>\n      <td>83.50</td>\n    </tr>\n    <tr>\n      <th>Wilson High School</th>\n      <td>83.09</td>\n      <td>83.72</td>\n      <td>83.20</td>\n      <td>83.04</td>\n    </tr>\n    <tr>\n      <th>Wright High School</th>\n      <td>83.26</td>\n      <td>84.01</td>\n      <td>83.84</td>\n      <td>83.64</td>\n    </tr>\n  </tbody>\n</table>\n</div>"
     },
     "metadata": {},
     "execution_count": 1228
    }
   ],
   "source": [
    "mathscores_by_grade = pd.DataFrame(ninthgrade_math)\n",
    "mathscores_by_grade = mathscores_by_grade.rename(columns={\"math_score\": \"9th\"})\n",
    "mathscores_by_grade['10th'] = tenthgrade_math\n",
    "mathscores_by_grade['11th'] = eleventhgrade_math\n",
    "mathscores_by_grade['12th'] = twelfthgrade_math\n",
    "mathscores_by_grade.index.names = ['']\n",
    "mathscores_by_grade"
   ]
  },
  {
   "cell_type": "code",
   "execution_count": 1229,
   "metadata": {},
   "outputs": [
    {
     "output_type": "execute_result",
     "data": {
      "text/plain": [
       "school_name\n",
       "Bailey High School       81.30\n",
       "Cabrera High School      83.68\n",
       "Figueroa High School     81.20\n",
       "Ford High School         80.63\n",
       "Griffin High School      83.37\n",
       "Hernandez High School    80.87\n",
       "Holden High School       83.68\n",
       "Huang High School        81.29\n",
       "Johnson High School      81.26\n",
       "Pena High School         83.81\n",
       "Rodriguez High School    80.99\n",
       "Shelton High School      84.12\n",
       "Thomas High School       83.73\n",
       "Wilson High School       83.94\n",
       "Wright High School       83.83\n",
       "Name: reading_score, dtype: float64"
      ]
     },
     "metadata": {},
     "execution_count": 1229
    }
   ],
   "source": [
    "ninthgrade_reading = round(ninthgrade_df.groupby(['school_name'])['reading_score'].mean(),2)\n",
    "ninthgrade_reading"
   ]
  },
  {
   "cell_type": "code",
   "execution_count": 1230,
   "metadata": {},
   "outputs": [
    {
     "output_type": "execute_result",
     "data": {
      "text/plain": [
       "school_name\n",
       "Bailey High School       80.91\n",
       "Cabrera High School      84.25\n",
       "Figueroa High School     81.41\n",
       "Ford High School         81.26\n",
       "Griffin High School      83.71\n",
       "Hernandez High School    80.66\n",
       "Holden High School       83.32\n",
       "Huang High School        81.51\n",
       "Johnson High School      80.77\n",
       "Pena High School         83.61\n",
       "Rodriguez High School    80.63\n",
       "Shelton High School      83.44\n",
       "Thomas High School       84.25\n",
       "Wilson High School       84.02\n",
       "Wright High School       83.81\n",
       "Name: reading_score, dtype: float64"
      ]
     },
     "metadata": {},
     "execution_count": 1230
    }
   ],
   "source": [
    "tenthgrade_df = students_df.loc[students_df['grade'] == '10th']\n",
    "tenthgrade_reading = round(tenthgrade_df.groupby(['school_name'])['reading_score'].mean(),2)\n",
    "tenthgrade_reading"
   ]
  },
  {
   "cell_type": "code",
   "execution_count": 1231,
   "metadata": {},
   "outputs": [
    {
     "output_type": "execute_result",
     "data": {
      "text/plain": [
       "school_name\n",
       "Bailey High School       80.95\n",
       "Cabrera High School      83.79\n",
       "Figueroa High School     80.64\n",
       "Ford High School         80.40\n",
       "Griffin High School      84.29\n",
       "Hernandez High School    81.40\n",
       "Holden High School       83.82\n",
       "Huang High School        81.42\n",
       "Johnson High School      80.62\n",
       "Pena High School         84.34\n",
       "Rodriguez High School    80.86\n",
       "Shelton High School      84.37\n",
       "Thomas High School       83.59\n",
       "Wilson High School       83.76\n",
       "Wright High School       84.16\n",
       "Name: reading_score, dtype: float64"
      ]
     },
     "metadata": {},
     "execution_count": 1231
    }
   ],
   "source": [
    "eleventhgrade_df = students_df.loc[students_df['grade'] == '11th']\n",
    "eleventhgrade_reading = round(eleventhgrade_df.groupby(['school_name'])['reading_score'].mean(),2)\n",
    "eleventhgrade_reading"
   ]
  },
  {
   "cell_type": "code",
   "execution_count": 1232,
   "metadata": {},
   "outputs": [
    {
     "output_type": "execute_result",
     "data": {
      "text/plain": [
       "school_name\n",
       "Bailey High School       80.91\n",
       "Cabrera High School      84.29\n",
       "Figueroa High School     81.38\n",
       "Ford High School         80.66\n",
       "Griffin High School      84.01\n",
       "Hernandez High School    80.86\n",
       "Holden High School       84.70\n",
       "Huang High School        80.31\n",
       "Johnson High School      81.23\n",
       "Pena High School         84.59\n",
       "Rodriguez High School    80.38\n",
       "Shelton High School      82.78\n",
       "Thomas High School       83.83\n",
       "Wilson High School       84.32\n",
       "Wright High School       84.07\n",
       "Name: reading_score, dtype: float64"
      ]
     },
     "metadata": {},
     "execution_count": 1232
    }
   ],
   "source": [
    "twelfthgrade_df = students_df.loc[students_df['grade'] == '12th']\n",
    "twelfthgrade_reading = round(twelfthgrade_df.groupby(['school_name'])['reading_score'].mean(),2)\n",
    "twelfthgrade_reading"
   ]
  },
  {
   "cell_type": "code",
   "execution_count": 1233,
   "metadata": {},
   "outputs": [
    {
     "output_type": "execute_result",
     "data": {
      "text/plain": [
       "                         9th   10th   11th   12th\n",
       "                                                 \n",
       "Bailey High School     77.08  80.91  80.95  80.91\n",
       "Cabrera High School    83.09  84.25  83.79  84.29\n",
       "Figueroa High School   76.40  81.41  80.64  81.38\n",
       "Ford High School       77.36  81.26  80.40  80.66\n",
       "Griffin High School    82.04  83.71  84.29  84.01\n",
       "Hernandez High School  77.44  80.66  81.40  80.86\n",
       "Holden High School     83.79  83.32  83.82  84.70\n",
       "Huang High School      77.03  81.51  81.42  80.31\n",
       "Johnson High School    77.19  80.77  80.62  81.23\n",
       "Pena High School       83.63  83.61  84.34  84.59\n",
       "Rodriguez High School  76.86  80.63  80.86  80.38\n",
       "Shelton High School    83.42  83.44  84.37  82.78\n",
       "Thomas High School     83.59  84.25  83.59  83.83\n",
       "Wilson High School     83.09  84.02  83.76  84.32\n",
       "Wright High School     83.26  83.81  84.16  84.07"
      ],
      "text/html": "<div>\n<style scoped>\n    .dataframe tbody tr th:only-of-type {\n        vertical-align: middle;\n    }\n\n    .dataframe tbody tr th {\n        vertical-align: top;\n    }\n\n    .dataframe thead th {\n        text-align: right;\n    }\n</style>\n<table border=\"1\" class=\"dataframe\">\n  <thead>\n    <tr style=\"text-align: right;\">\n      <th></th>\n      <th>9th</th>\n      <th>10th</th>\n      <th>11th</th>\n      <th>12th</th>\n    </tr>\n    <tr>\n      <th></th>\n      <th></th>\n      <th></th>\n      <th></th>\n      <th></th>\n    </tr>\n  </thead>\n  <tbody>\n    <tr>\n      <th>Bailey High School</th>\n      <td>77.08</td>\n      <td>80.91</td>\n      <td>80.95</td>\n      <td>80.91</td>\n    </tr>\n    <tr>\n      <th>Cabrera High School</th>\n      <td>83.09</td>\n      <td>84.25</td>\n      <td>83.79</td>\n      <td>84.29</td>\n    </tr>\n    <tr>\n      <th>Figueroa High School</th>\n      <td>76.40</td>\n      <td>81.41</td>\n      <td>80.64</td>\n      <td>81.38</td>\n    </tr>\n    <tr>\n      <th>Ford High School</th>\n      <td>77.36</td>\n      <td>81.26</td>\n      <td>80.40</td>\n      <td>80.66</td>\n    </tr>\n    <tr>\n      <th>Griffin High School</th>\n      <td>82.04</td>\n      <td>83.71</td>\n      <td>84.29</td>\n      <td>84.01</td>\n    </tr>\n    <tr>\n      <th>Hernandez High School</th>\n      <td>77.44</td>\n      <td>80.66</td>\n      <td>81.40</td>\n      <td>80.86</td>\n    </tr>\n    <tr>\n      <th>Holden High School</th>\n      <td>83.79</td>\n      <td>83.32</td>\n      <td>83.82</td>\n      <td>84.70</td>\n    </tr>\n    <tr>\n      <th>Huang High School</th>\n      <td>77.03</td>\n      <td>81.51</td>\n      <td>81.42</td>\n      <td>80.31</td>\n    </tr>\n    <tr>\n      <th>Johnson High School</th>\n      <td>77.19</td>\n      <td>80.77</td>\n      <td>80.62</td>\n      <td>81.23</td>\n    </tr>\n    <tr>\n      <th>Pena High School</th>\n      <td>83.63</td>\n      <td>83.61</td>\n      <td>84.34</td>\n      <td>84.59</td>\n    </tr>\n    <tr>\n      <th>Rodriguez High School</th>\n      <td>76.86</td>\n      <td>80.63</td>\n      <td>80.86</td>\n      <td>80.38</td>\n    </tr>\n    <tr>\n      <th>Shelton High School</th>\n      <td>83.42</td>\n      <td>83.44</td>\n      <td>84.37</td>\n      <td>82.78</td>\n    </tr>\n    <tr>\n      <th>Thomas High School</th>\n      <td>83.59</td>\n      <td>84.25</td>\n      <td>83.59</td>\n      <td>83.83</td>\n    </tr>\n    <tr>\n      <th>Wilson High School</th>\n      <td>83.09</td>\n      <td>84.02</td>\n      <td>83.76</td>\n      <td>84.32</td>\n    </tr>\n    <tr>\n      <th>Wright High School</th>\n      <td>83.26</td>\n      <td>83.81</td>\n      <td>84.16</td>\n      <td>84.07</td>\n    </tr>\n  </tbody>\n</table>\n</div>"
     },
     "metadata": {},
     "execution_count": 1233
    }
   ],
   "source": [
    "readscores_by_grade = pd.DataFrame(ninthgrade_math)\n",
    "readscores_by_grade = readscores_by_grade.rename(columns={\"math_score\": \"9th\"})\n",
    "readscores_by_grade['10th'] = tenthgrade_reading\n",
    "readscores_by_grade['11th'] = eleventhgrade_reading\n",
    "readscores_by_grade['12th'] = twelfthgrade_reading\n",
    "readscores_by_grade.index.names = ['']\n",
    "readscores_by_grade"
   ]
  },
  {
   "cell_type": "code",
   "execution_count": 1234,
   "metadata": {},
   "outputs": [
    {
     "output_type": "execute_result",
     "data": {
      "text/plain": [
       "Per Student Budget\n",
       "578.0    83.99\n",
       "581.0    83.81\n",
       "582.0    83.98\n",
       "583.0    83.96\n",
       "600.0    83.73\n",
       "609.0    84.04\n",
       "625.0    83.82\n",
       "628.0    81.03\n",
       "637.0    80.74\n",
       "638.0    83.85\n",
       "639.0    81.16\n",
       "644.0    80.75\n",
       "650.0    80.97\n",
       "652.0    80.93\n",
       "655.0    81.18\n",
       "Name: Avg Reading Score, dtype: float64"
      ]
     },
     "metadata": {},
     "execution_count": 1234
    }
   ],
   "source": [
    "spending_scores_read = combined_district_df.groupby(['Per Student Budget'])['Avg Reading Score'].mean()\n",
    "spending_scores_read"
   ]
  },
  {
   "cell_type": "code",
   "execution_count": 1235,
   "metadata": {},
   "outputs": [
    {
     "output_type": "execute_result",
     "data": {
      "text/plain": [
       "Per Student Budget\n",
       "578.0    83.27\n",
       "581.0    83.80\n",
       "582.0    83.06\n",
       "583.0    83.68\n",
       "600.0    83.36\n",
       "609.0    83.84\n",
       "625.0    83.35\n",
       "628.0    77.05\n",
       "637.0    76.84\n",
       "638.0    83.42\n",
       "639.0    76.71\n",
       "644.0    77.10\n",
       "650.0    77.07\n",
       "652.0    77.29\n",
       "655.0    76.63\n",
       "Name: Avg Math Score, dtype: float64"
      ]
     },
     "metadata": {},
     "execution_count": 1235
    }
   ],
   "source": [
    "spending_scores_math = combined_district_df.groupby(['Per Student Budget'])['Avg Math Score'].mean()\n",
    "spending_scores_math\n"
   ]
  },
  {
   "cell_type": "code",
   "execution_count": 1236,
   "metadata": {},
   "outputs": [
    {
     "output_type": "execute_result",
     "data": {
      "text/plain": [
       "Per Student Budget\n",
       "578.0    93.87\n",
       "581.0    92.51\n",
       "582.0    94.13\n",
       "583.0    93.33\n",
       "600.0    93.87\n",
       "609.0    94.59\n",
       "625.0    93.39\n",
       "628.0    66.68\n",
       "637.0    66.37\n",
       "638.0    93.27\n",
       "639.0    65.99\n",
       "644.0    68.31\n",
       "650.0    66.06\n",
       "652.0    66.75\n",
       "655.0    65.68\n",
       "Name: % Passing Math, dtype: float64"
      ]
     },
     "metadata": {},
     "execution_count": 1236
    }
   ],
   "source": [
    "spending_perc_math = round(combined_district_df.groupby(['Per Student Budget'])['% Passing Math'].mean(),2)\n",
    "spending_perc_math"
   ]
  },
  {
   "cell_type": "code",
   "execution_count": 1237,
   "metadata": {},
   "outputs": [
    {
     "output_type": "execute_result",
     "data": {
      "text/plain": [
       "Per Student Budget\n",
       "578.0    96.54\n",
       "581.0    96.25\n",
       "582.0    97.04\n",
       "583.0    96.61\n",
       "600.0    95.85\n",
       "609.0    95.95\n",
       "625.0    97.14\n",
       "628.0    81.93\n",
       "637.0    80.22\n",
       "638.0    97.31\n",
       "639.0    80.74\n",
       "644.0    79.30\n",
       "650.0    81.22\n",
       "652.0    80.86\n",
       "655.0    81.32\n",
       "Name: % Passing Reading, dtype: float64"
      ]
     },
     "metadata": {},
     "execution_count": 1237
    }
   ],
   "source": [
    "spending_perc_reading = round(combined_district_df.groupby(['Per Student Budget'])['% Passing Reading'].mean(),2)\n",
    "spending_perc_reading"
   ]
  },
  {
   "cell_type": "code",
   "execution_count": 1238,
   "metadata": {},
   "outputs": [
    {
     "output_type": "execute_result",
     "data": {
      "text/plain": [
       "Per Student Budget\n",
       "578.0    90.58\n",
       "581.0    89.23\n",
       "582.0    91.33\n",
       "583.0    90.33\n",
       "600.0    89.89\n",
       "609.0    90.54\n",
       "625.0    90.60\n",
       "628.0    54.64\n",
       "637.0    52.99\n",
       "638.0    90.95\n",
       "639.0    53.20\n",
       "644.0    54.29\n",
       "650.0    53.54\n",
       "652.0    53.53\n",
       "655.0    53.51\n",
       "Name: % Overall Passing, dtype: float64"
      ]
     },
     "metadata": {},
     "execution_count": 1238
    }
   ],
   "source": [
    "spending_perc_overall = round(combined_district_df.groupby(['Per Student Budget'])['% Overall Passing'].mean(),2)\n",
    "spending_perc_overall"
   ]
  },
  {
   "cell_type": "code",
   "execution_count": 1239,
   "metadata": {},
   "outputs": [
    {
     "output_type": "execute_result",
     "data": {
      "text/plain": [
       "    Per Student Budget  Avg Math Score  Avg Reading Score  % Passing Math  \\\n",
       "0                578.0           83.27              83.99           93.87   \n",
       "1                581.0           83.80              83.81           92.51   \n",
       "2                582.0           83.06              83.98           94.13   \n",
       "3                583.0           83.68              83.96           93.33   \n",
       "4                600.0           83.36              83.73           93.87   \n",
       "5                609.0           83.84              84.04           94.59   \n",
       "6                625.0           83.35              83.82           93.39   \n",
       "7                628.0           77.05              81.03           66.68   \n",
       "8                637.0           76.84              80.74           66.37   \n",
       "9                638.0           83.42              83.85           93.27   \n",
       "10               639.0           76.71              81.16           65.99   \n",
       "11               644.0           77.10              80.75           68.31   \n",
       "12               650.0           77.07              80.97           66.06   \n",
       "13               652.0           77.29              80.93           66.75   \n",
       "14               655.0           76.63              81.18           65.68   \n",
       "\n",
       "    % Passing Reading  % Overall Passing  \n",
       "0               96.54              90.58  \n",
       "1               96.25              89.23  \n",
       "2               97.04              91.33  \n",
       "3               96.61              90.33  \n",
       "4               95.85              89.89  \n",
       "5               95.95              90.54  \n",
       "6               97.14              90.60  \n",
       "7               81.93              54.64  \n",
       "8               80.22              52.99  \n",
       "9               97.31              90.95  \n",
       "10              80.74              53.20  \n",
       "11              79.30              54.29  \n",
       "12              81.22              53.54  \n",
       "13              80.86              53.53  \n",
       "14              81.32              53.51  "
      ],
      "text/html": "<div>\n<style scoped>\n    .dataframe tbody tr th:only-of-type {\n        vertical-align: middle;\n    }\n\n    .dataframe tbody tr th {\n        vertical-align: top;\n    }\n\n    .dataframe thead th {\n        text-align: right;\n    }\n</style>\n<table border=\"1\" class=\"dataframe\">\n  <thead>\n    <tr style=\"text-align: right;\">\n      <th></th>\n      <th>Per Student Budget</th>\n      <th>Avg Math Score</th>\n      <th>Avg Reading Score</th>\n      <th>% Passing Math</th>\n      <th>% Passing Reading</th>\n      <th>% Overall Passing</th>\n    </tr>\n  </thead>\n  <tbody>\n    <tr>\n      <th>0</th>\n      <td>578.0</td>\n      <td>83.27</td>\n      <td>83.99</td>\n      <td>93.87</td>\n      <td>96.54</td>\n      <td>90.58</td>\n    </tr>\n    <tr>\n      <th>1</th>\n      <td>581.0</td>\n      <td>83.80</td>\n      <td>83.81</td>\n      <td>92.51</td>\n      <td>96.25</td>\n      <td>89.23</td>\n    </tr>\n    <tr>\n      <th>2</th>\n      <td>582.0</td>\n      <td>83.06</td>\n      <td>83.98</td>\n      <td>94.13</td>\n      <td>97.04</td>\n      <td>91.33</td>\n    </tr>\n    <tr>\n      <th>3</th>\n      <td>583.0</td>\n      <td>83.68</td>\n      <td>83.96</td>\n      <td>93.33</td>\n      <td>96.61</td>\n      <td>90.33</td>\n    </tr>\n    <tr>\n      <th>4</th>\n      <td>600.0</td>\n      <td>83.36</td>\n      <td>83.73</td>\n      <td>93.87</td>\n      <td>95.85</td>\n      <td>89.89</td>\n    </tr>\n    <tr>\n      <th>5</th>\n      <td>609.0</td>\n      <td>83.84</td>\n      <td>84.04</td>\n      <td>94.59</td>\n      <td>95.95</td>\n      <td>90.54</td>\n    </tr>\n    <tr>\n      <th>6</th>\n      <td>625.0</td>\n      <td>83.35</td>\n      <td>83.82</td>\n      <td>93.39</td>\n      <td>97.14</td>\n      <td>90.60</td>\n    </tr>\n    <tr>\n      <th>7</th>\n      <td>628.0</td>\n      <td>77.05</td>\n      <td>81.03</td>\n      <td>66.68</td>\n      <td>81.93</td>\n      <td>54.64</td>\n    </tr>\n    <tr>\n      <th>8</th>\n      <td>637.0</td>\n      <td>76.84</td>\n      <td>80.74</td>\n      <td>66.37</td>\n      <td>80.22</td>\n      <td>52.99</td>\n    </tr>\n    <tr>\n      <th>9</th>\n      <td>638.0</td>\n      <td>83.42</td>\n      <td>83.85</td>\n      <td>93.27</td>\n      <td>97.31</td>\n      <td>90.95</td>\n    </tr>\n    <tr>\n      <th>10</th>\n      <td>639.0</td>\n      <td>76.71</td>\n      <td>81.16</td>\n      <td>65.99</td>\n      <td>80.74</td>\n      <td>53.20</td>\n    </tr>\n    <tr>\n      <th>11</th>\n      <td>644.0</td>\n      <td>77.10</td>\n      <td>80.75</td>\n      <td>68.31</td>\n      <td>79.30</td>\n      <td>54.29</td>\n    </tr>\n    <tr>\n      <th>12</th>\n      <td>650.0</td>\n      <td>77.07</td>\n      <td>80.97</td>\n      <td>66.06</td>\n      <td>81.22</td>\n      <td>53.54</td>\n    </tr>\n    <tr>\n      <th>13</th>\n      <td>652.0</td>\n      <td>77.29</td>\n      <td>80.93</td>\n      <td>66.75</td>\n      <td>80.86</td>\n      <td>53.53</td>\n    </tr>\n    <tr>\n      <th>14</th>\n      <td>655.0</td>\n      <td>76.63</td>\n      <td>81.18</td>\n      <td>65.68</td>\n      <td>81.32</td>\n      <td>53.51</td>\n    </tr>\n  </tbody>\n</table>\n</div>"
     },
     "metadata": {},
     "execution_count": 1239
    }
   ],
   "source": [
    "spending_scores_df = pd.DataFrame(spending_scores_math)\n",
    "spending_scores_df['Avg Reading Score'] = spending_scores_read\n",
    "spending_scores_df['% Passing Math'] = spending_perc_math\n",
    "spending_scores_df['% Passing Reading'] = spending_perc_reading\n",
    "spending_scores_df['% Overall Passing'] = spending_perc_overall\n",
    "spending_scores_df.reset_index(drop=False, inplace=True)\n",
    "spending_scores_df"
   ]
  },
  {
   "cell_type": "code",
   "execution_count": 1240,
   "metadata": {},
   "outputs": [
    {
     "output_type": "execute_result",
     "data": {
      "text/plain": [
       "0        <$585\n",
       "1        <$585\n",
       "2        <$585\n",
       "3        <$585\n",
       "4     $585-630\n",
       "5     $585-630\n",
       "6     $585-630\n",
       "7     $585-630\n",
       "8     $630-645\n",
       "9     $630-645\n",
       "10    $630-645\n",
       "11    $630-645\n",
       "12    $645-680\n",
       "13    $645-680\n",
       "14    $645-680\n",
       "Name: Per Student Budget, dtype: category\n",
       "Categories (4, object): ['<$585' < '$585-630' < '$630-645' < '$645-680']"
      ]
     },
     "metadata": {},
     "execution_count": 1240
    }
   ],
   "source": [
    "bins = [0,585, 630, 645, 680]\n",
    "labels = ['<$585','$585-630','$630-645','$645-680']\n",
    "binned_spending_scores = pd.cut(spending_scores_df['Per Student Budget'], bins, labels=labels)\n",
    "binned_spending_scores"
   ]
  },
  {
   "cell_type": "code",
   "execution_count": 1241,
   "metadata": {},
   "outputs": [
    {
     "output_type": "execute_result",
     "data": {
      "text/plain": [
       "    Per Student Budget  Avg Math Score  Avg Reading Score  % Passing Math  \\\n",
       "0                578.0           83.27              83.99           93.87   \n",
       "1                581.0           83.80              83.81           92.51   \n",
       "2                582.0           83.06              83.98           94.13   \n",
       "3                583.0           83.68              83.96           93.33   \n",
       "4                600.0           83.36              83.73           93.87   \n",
       "5                609.0           83.84              84.04           94.59   \n",
       "6                625.0           83.35              83.82           93.39   \n",
       "7                628.0           77.05              81.03           66.68   \n",
       "8                637.0           76.84              80.74           66.37   \n",
       "9                638.0           83.42              83.85           93.27   \n",
       "10               639.0           76.71              81.16           65.99   \n",
       "11               644.0           77.10              80.75           68.31   \n",
       "12               650.0           77.07              80.97           66.06   \n",
       "13               652.0           77.29              80.93           66.75   \n",
       "14               655.0           76.63              81.18           65.68   \n",
       "\n",
       "    % Passing Reading  % Overall Passing Spending Ranges Per Student  \n",
       "0               96.54              90.58                       <$585  \n",
       "1               96.25              89.23                       <$585  \n",
       "2               97.04              91.33                       <$585  \n",
       "3               96.61              90.33                       <$585  \n",
       "4               95.85              89.89                    $585-630  \n",
       "5               95.95              90.54                    $585-630  \n",
       "6               97.14              90.60                    $585-630  \n",
       "7               81.93              54.64                    $585-630  \n",
       "8               80.22              52.99                    $630-645  \n",
       "9               97.31              90.95                    $630-645  \n",
       "10              80.74              53.20                    $630-645  \n",
       "11              79.30              54.29                    $630-645  \n",
       "12              81.22              53.54                    $645-680  \n",
       "13              80.86              53.53                    $645-680  \n",
       "14              81.32              53.51                    $645-680  "
      ],
      "text/html": "<div>\n<style scoped>\n    .dataframe tbody tr th:only-of-type {\n        vertical-align: middle;\n    }\n\n    .dataframe tbody tr th {\n        vertical-align: top;\n    }\n\n    .dataframe thead th {\n        text-align: right;\n    }\n</style>\n<table border=\"1\" class=\"dataframe\">\n  <thead>\n    <tr style=\"text-align: right;\">\n      <th></th>\n      <th>Per Student Budget</th>\n      <th>Avg Math Score</th>\n      <th>Avg Reading Score</th>\n      <th>% Passing Math</th>\n      <th>% Passing Reading</th>\n      <th>% Overall Passing</th>\n      <th>Spending Ranges Per Student</th>\n    </tr>\n  </thead>\n  <tbody>\n    <tr>\n      <th>0</th>\n      <td>578.0</td>\n      <td>83.27</td>\n      <td>83.99</td>\n      <td>93.87</td>\n      <td>96.54</td>\n      <td>90.58</td>\n      <td>&lt;$585</td>\n    </tr>\n    <tr>\n      <th>1</th>\n      <td>581.0</td>\n      <td>83.80</td>\n      <td>83.81</td>\n      <td>92.51</td>\n      <td>96.25</td>\n      <td>89.23</td>\n      <td>&lt;$585</td>\n    </tr>\n    <tr>\n      <th>2</th>\n      <td>582.0</td>\n      <td>83.06</td>\n      <td>83.98</td>\n      <td>94.13</td>\n      <td>97.04</td>\n      <td>91.33</td>\n      <td>&lt;$585</td>\n    </tr>\n    <tr>\n      <th>3</th>\n      <td>583.0</td>\n      <td>83.68</td>\n      <td>83.96</td>\n      <td>93.33</td>\n      <td>96.61</td>\n      <td>90.33</td>\n      <td>&lt;$585</td>\n    </tr>\n    <tr>\n      <th>4</th>\n      <td>600.0</td>\n      <td>83.36</td>\n      <td>83.73</td>\n      <td>93.87</td>\n      <td>95.85</td>\n      <td>89.89</td>\n      <td>$585-630</td>\n    </tr>\n    <tr>\n      <th>5</th>\n      <td>609.0</td>\n      <td>83.84</td>\n      <td>84.04</td>\n      <td>94.59</td>\n      <td>95.95</td>\n      <td>90.54</td>\n      <td>$585-630</td>\n    </tr>\n    <tr>\n      <th>6</th>\n      <td>625.0</td>\n      <td>83.35</td>\n      <td>83.82</td>\n      <td>93.39</td>\n      <td>97.14</td>\n      <td>90.60</td>\n      <td>$585-630</td>\n    </tr>\n    <tr>\n      <th>7</th>\n      <td>628.0</td>\n      <td>77.05</td>\n      <td>81.03</td>\n      <td>66.68</td>\n      <td>81.93</td>\n      <td>54.64</td>\n      <td>$585-630</td>\n    </tr>\n    <tr>\n      <th>8</th>\n      <td>637.0</td>\n      <td>76.84</td>\n      <td>80.74</td>\n      <td>66.37</td>\n      <td>80.22</td>\n      <td>52.99</td>\n      <td>$630-645</td>\n    </tr>\n    <tr>\n      <th>9</th>\n      <td>638.0</td>\n      <td>83.42</td>\n      <td>83.85</td>\n      <td>93.27</td>\n      <td>97.31</td>\n      <td>90.95</td>\n      <td>$630-645</td>\n    </tr>\n    <tr>\n      <th>10</th>\n      <td>639.0</td>\n      <td>76.71</td>\n      <td>81.16</td>\n      <td>65.99</td>\n      <td>80.74</td>\n      <td>53.20</td>\n      <td>$630-645</td>\n    </tr>\n    <tr>\n      <th>11</th>\n      <td>644.0</td>\n      <td>77.10</td>\n      <td>80.75</td>\n      <td>68.31</td>\n      <td>79.30</td>\n      <td>54.29</td>\n      <td>$630-645</td>\n    </tr>\n    <tr>\n      <th>12</th>\n      <td>650.0</td>\n      <td>77.07</td>\n      <td>80.97</td>\n      <td>66.06</td>\n      <td>81.22</td>\n      <td>53.54</td>\n      <td>$645-680</td>\n    </tr>\n    <tr>\n      <th>13</th>\n      <td>652.0</td>\n      <td>77.29</td>\n      <td>80.93</td>\n      <td>66.75</td>\n      <td>80.86</td>\n      <td>53.53</td>\n      <td>$645-680</td>\n    </tr>\n    <tr>\n      <th>14</th>\n      <td>655.0</td>\n      <td>76.63</td>\n      <td>81.18</td>\n      <td>65.68</td>\n      <td>81.32</td>\n      <td>53.51</td>\n      <td>$645-680</td>\n    </tr>\n  </tbody>\n</table>\n</div>"
     },
     "metadata": {},
     "execution_count": 1241
    }
   ],
   "source": [
    "spending_scores_df['Spending Ranges Per Student'] = binned_spending_scores\n",
    "spending_scores_df"
   ]
  },
  {
   "cell_type": "code",
   "execution_count": 1242,
   "metadata": {},
   "outputs": [
    {
     "output_type": "execute_result",
     "data": {
      "text/plain": [
       "Spending Ranges Per Student\n",
       "<$585       83.45\n",
       "$585-630    81.90\n",
       "$630-645    78.52\n",
       "$645-680    77.00\n",
       "Name: Avg Math Score, dtype: float64"
      ]
     },
     "metadata": {},
     "execution_count": 1242
    }
   ],
   "source": [
    "spending_math_binned = round(spending_scores_df.groupby(['Spending Ranges Per Student'])['Avg Math Score'].mean(),2)\n",
    "spending_math_binned"
   ]
  },
  {
   "cell_type": "code",
   "execution_count": 1243,
   "metadata": {},
   "outputs": [
    {
     "output_type": "execute_result",
     "data": {
      "text/plain": [
       "Spending Ranges Per Student\n",
       "<$585       83.94\n",
       "$585-630    83.16\n",
       "$630-645    81.62\n",
       "$645-680    81.03\n",
       "Name: Avg Reading Score, dtype: float64"
      ]
     },
     "metadata": {},
     "execution_count": 1243
    }
   ],
   "source": [
    "spending_reading_binned = round(spending_scores_df.groupby(['Spending Ranges Per Student'])['Avg Reading Score'].mean(),2)\n",
    "spending_reading_binned"
   ]
  },
  {
   "cell_type": "code",
   "execution_count": 1244,
   "metadata": {},
   "outputs": [
    {
     "output_type": "execute_result",
     "data": {
      "text/plain": [
       "Spending Ranges Per Student\n",
       "<$585       93.46\n",
       "$585-630    87.13\n",
       "$630-645    73.48\n",
       "$645-680    66.16\n",
       "Name: % Passing Math, dtype: float64"
      ]
     },
     "metadata": {},
     "execution_count": 1244
    }
   ],
   "source": [
    "spending_percmath_binned = round(spending_scores_df.groupby(['Spending Ranges Per Student'])['% Passing Math'].mean(),2)\n",
    "spending_percmath_binned"
   ]
  },
  {
   "cell_type": "code",
   "execution_count": 1245,
   "metadata": {},
   "outputs": [
    {
     "output_type": "execute_result",
     "data": {
      "text/plain": [
       "Spending Ranges Per Student\n",
       "<$585       96.61\n",
       "$585-630    92.72\n",
       "$630-645    84.39\n",
       "$645-680    81.13\n",
       "Name: % Passing Reading, dtype: float64"
      ]
     },
     "metadata": {},
     "execution_count": 1245
    }
   ],
   "source": [
    "spending_percread_binned = round(spending_scores_df.groupby(['Spending Ranges Per Student'])['% Passing Reading'].mean(),2)\n",
    "spending_percread_binned"
   ]
  },
  {
   "cell_type": "code",
   "execution_count": 1246,
   "metadata": {},
   "outputs": [
    {
     "output_type": "execute_result",
     "data": {
      "text/plain": [
       "Spending Ranges Per Student\n",
       "<$585       90.37\n",
       "$585-630    81.42\n",
       "$630-645    62.86\n",
       "$645-680    53.53\n",
       "Name: % Overall Passing, dtype: float64"
      ]
     },
     "metadata": {},
     "execution_count": 1246
    }
   ],
   "source": [
    "spending_percall_binned = round(spending_scores_df.groupby(['Spending Ranges Per Student'])['% Overall Passing'].mean(),2)\n",
    "spending_percall_binned"
   ]
  },
  {
   "cell_type": "code",
   "execution_count": 1247,
   "metadata": {},
   "outputs": [
    {
     "output_type": "execute_result",
     "data": {
      "text/plain": [
       "                             Avg Math Score  Avg Reading Score  \\\n",
       "Spending Ranges Per Student                                      \n",
       "<$585                                 83.45              83.94   \n",
       "$585-630                              81.90              83.16   \n",
       "$630-645                              78.52              81.62   \n",
       "$645-680                              77.00              81.03   \n",
       "\n",
       "                             % Passing Math  % Passing Reading  \\\n",
       "Spending Ranges Per Student                                      \n",
       "<$585                                 93.46              93.46   \n",
       "$585-630                              87.13              87.13   \n",
       "$630-645                              73.48              73.48   \n",
       "$645-680                              66.16              66.16   \n",
       "\n",
       "                             % Overall Passing  \n",
       "Spending Ranges Per Student                     \n",
       "<$585                                    90.37  \n",
       "$585-630                                 81.42  \n",
       "$630-645                                 62.86  \n",
       "$645-680                                 53.53  "
      ],
      "text/html": "<div>\n<style scoped>\n    .dataframe tbody tr th:only-of-type {\n        vertical-align: middle;\n    }\n\n    .dataframe tbody tr th {\n        vertical-align: top;\n    }\n\n    .dataframe thead th {\n        text-align: right;\n    }\n</style>\n<table border=\"1\" class=\"dataframe\">\n  <thead>\n    <tr style=\"text-align: right;\">\n      <th></th>\n      <th>Avg Math Score</th>\n      <th>Avg Reading Score</th>\n      <th>% Passing Math</th>\n      <th>% Passing Reading</th>\n      <th>% Overall Passing</th>\n    </tr>\n    <tr>\n      <th>Spending Ranges Per Student</th>\n      <th></th>\n      <th></th>\n      <th></th>\n      <th></th>\n      <th></th>\n    </tr>\n  </thead>\n  <tbody>\n    <tr>\n      <th>&lt;$585</th>\n      <td>83.45</td>\n      <td>83.94</td>\n      <td>93.46</td>\n      <td>93.46</td>\n      <td>90.37</td>\n    </tr>\n    <tr>\n      <th>$585-630</th>\n      <td>81.90</td>\n      <td>83.16</td>\n      <td>87.13</td>\n      <td>87.13</td>\n      <td>81.42</td>\n    </tr>\n    <tr>\n      <th>$630-645</th>\n      <td>78.52</td>\n      <td>81.62</td>\n      <td>73.48</td>\n      <td>73.48</td>\n      <td>62.86</td>\n    </tr>\n    <tr>\n      <th>$645-680</th>\n      <td>77.00</td>\n      <td>81.03</td>\n      <td>66.16</td>\n      <td>66.16</td>\n      <td>53.53</td>\n    </tr>\n  </tbody>\n</table>\n</div>"
     },
     "metadata": {},
     "execution_count": 1247
    }
   ],
   "source": [
    "scores_by_spending = pd.DataFrame(spending_math_binned)\n",
    "scores_by_spending['Avg Reading Score'] = spending_reading_binned\n",
    "scores_by_spending['% Passing Math'] = spending_percmath_binned\n",
    "scores_by_spending['% Passing Reading'] = spending_percmath_binned\n",
    "scores_by_spending['% Overall Passing'] = spending_percall_binned\n",
    "scores_by_spending"
   ]
  },
  {
   "cell_type": "code",
   "execution_count": 1248,
   "metadata": {},
   "outputs": [
    {
     "output_type": "execute_result",
     "data": {
      "text/plain": [
       "Total Students\n",
       "427     83.80\n",
       "962     83.84\n",
       "1468    83.35\n",
       "1635    83.42\n",
       "1761    83.36\n",
       "1800    83.68\n",
       "1858    83.06\n",
       "2283    83.27\n",
       "2739    77.10\n",
       "2917    76.63\n",
       "2949    76.71\n",
       "3999    76.84\n",
       "4635    77.29\n",
       "4761    77.07\n",
       "4976    77.05\n",
       "Name: Avg Math Score, dtype: float64"
      ]
     },
     "metadata": {},
     "execution_count": 1248
    }
   ],
   "source": [
    "size_scores_math = round(combined_district_df.groupby(['Total Students'])['Avg Math Score'].mean(),2)\n",
    "size_scores_math"
   ]
  },
  {
   "cell_type": "code",
   "execution_count": 1249,
   "metadata": {},
   "outputs": [
    {
     "output_type": "execute_result",
     "data": {
      "text/plain": [
       "Total Students\n",
       "427     83.81\n",
       "962     84.04\n",
       "1468    83.82\n",
       "1635    83.85\n",
       "1761    83.73\n",
       "1800    83.96\n",
       "1858    83.98\n",
       "2283    83.99\n",
       "2739    80.75\n",
       "2917    81.18\n",
       "2949    81.16\n",
       "3999    80.74\n",
       "4635    80.93\n",
       "4761    80.97\n",
       "4976    81.03\n",
       "Name: Avg Reading Score, dtype: float64"
      ]
     },
     "metadata": {},
     "execution_count": 1249
    }
   ],
   "source": [
    "size_scores_read = round(combined_district_df.groupby(['Total Students'])['Avg Reading Score'].mean(),2)\n",
    "size_scores_read"
   ]
  },
  {
   "cell_type": "code",
   "execution_count": 1250,
   "metadata": {},
   "outputs": [
    {
     "output_type": "execute_result",
     "data": {
      "text/plain": [
       "Total Students\n",
       "427     92.51\n",
       "962     94.59\n",
       "1468    93.39\n",
       "1635    93.27\n",
       "1761    93.87\n",
       "1800    93.33\n",
       "1858    94.13\n",
       "2283    93.87\n",
       "2739    68.31\n",
       "2917    65.68\n",
       "2949    65.99\n",
       "3999    66.37\n",
       "4635    66.75\n",
       "4761    66.06\n",
       "4976    66.68\n",
       "Name: % Passing Math, dtype: float64"
      ]
     },
     "metadata": {},
     "execution_count": 1250
    }
   ],
   "source": [
    "size_scores_percmath = round(combined_district_df.groupby(['Total Students'])['% Passing Math'].mean(),2)\n",
    "size_scores_percmath"
   ]
  },
  {
   "cell_type": "code",
   "execution_count": 1251,
   "metadata": {},
   "outputs": [
    {
     "output_type": "execute_result",
     "data": {
      "text/plain": [
       "Total Students\n",
       "427     96.25\n",
       "962     95.95\n",
       "1468    97.14\n",
       "1635    97.31\n",
       "1761    95.85\n",
       "1800    96.61\n",
       "1858    97.04\n",
       "2283    96.54\n",
       "2739    79.30\n",
       "2917    81.32\n",
       "2949    80.74\n",
       "3999    80.22\n",
       "4635    80.86\n",
       "4761    81.22\n",
       "4976    81.93\n",
       "Name: % Passing Reading, dtype: float64"
      ]
     },
     "metadata": {},
     "execution_count": 1251
    }
   ],
   "source": [
    "size_scores_percread = round(combined_district_df.groupby(['Total Students'])['% Passing Reading'].mean(),2)\n",
    "size_scores_percread"
   ]
  },
  {
   "cell_type": "code",
   "execution_count": 1252,
   "metadata": {},
   "outputs": [
    {
     "output_type": "execute_result",
     "data": {
      "text/plain": [
       "Total Students\n",
       "427     89.23\n",
       "962     90.54\n",
       "1468    90.60\n",
       "1635    90.95\n",
       "1761    89.89\n",
       "1800    90.33\n",
       "1858    91.33\n",
       "2283    90.58\n",
       "2739    54.29\n",
       "2917    53.51\n",
       "2949    53.20\n",
       "3999    52.99\n",
       "4635    53.53\n",
       "4761    53.54\n",
       "4976    54.64\n",
       "Name: % Overall Passing, dtype: float64"
      ]
     },
     "metadata": {},
     "execution_count": 1252
    }
   ],
   "source": [
    "size_scores_percall = round(combined_district_df.groupby(['Total Students'])['% Overall Passing'].mean(),2)\n",
    "size_scores_percall"
   ]
  },
  {
   "cell_type": "code",
   "execution_count": 1253,
   "metadata": {},
   "outputs": [
    {
     "output_type": "execute_result",
     "data": {
      "text/plain": [
       "    Total Students  Avg Math Score  Avg Reading Score  % Passing Math  \\\n",
       "0              427           83.80              83.81           92.51   \n",
       "1              962           83.84              84.04           94.59   \n",
       "2             1468           83.35              83.82           93.39   \n",
       "3             1635           83.42              83.85           93.27   \n",
       "4             1761           83.36              83.73           93.87   \n",
       "5             1800           83.68              83.96           93.33   \n",
       "6             1858           83.06              83.98           94.13   \n",
       "7             2283           83.27              83.99           93.87   \n",
       "8             2739           77.10              80.75           68.31   \n",
       "9             2917           76.63              81.18           65.68   \n",
       "10            2949           76.71              81.16           65.99   \n",
       "11            3999           76.84              80.74           66.37   \n",
       "12            4635           77.29              80.93           66.75   \n",
       "13            4761           77.07              80.97           66.06   \n",
       "14            4976           77.05              81.03           66.68   \n",
       "\n",
       "    % Passing Reading  % Overall Passing  \n",
       "0               96.25              89.23  \n",
       "1               95.95              90.54  \n",
       "2               97.14              90.60  \n",
       "3               97.31              90.95  \n",
       "4               95.85              89.89  \n",
       "5               96.61              90.33  \n",
       "6               97.04              91.33  \n",
       "7               96.54              90.58  \n",
       "8               79.30              54.29  \n",
       "9               81.32              53.51  \n",
       "10              80.74              53.20  \n",
       "11              80.22              52.99  \n",
       "12              80.86              53.53  \n",
       "13              81.22              53.54  \n",
       "14              81.93              54.64  "
      ],
      "text/html": "<div>\n<style scoped>\n    .dataframe tbody tr th:only-of-type {\n        vertical-align: middle;\n    }\n\n    .dataframe tbody tr th {\n        vertical-align: top;\n    }\n\n    .dataframe thead th {\n        text-align: right;\n    }\n</style>\n<table border=\"1\" class=\"dataframe\">\n  <thead>\n    <tr style=\"text-align: right;\">\n      <th></th>\n      <th>Total Students</th>\n      <th>Avg Math Score</th>\n      <th>Avg Reading Score</th>\n      <th>% Passing Math</th>\n      <th>% Passing Reading</th>\n      <th>% Overall Passing</th>\n    </tr>\n  </thead>\n  <tbody>\n    <tr>\n      <th>0</th>\n      <td>427</td>\n      <td>83.80</td>\n      <td>83.81</td>\n      <td>92.51</td>\n      <td>96.25</td>\n      <td>89.23</td>\n    </tr>\n    <tr>\n      <th>1</th>\n      <td>962</td>\n      <td>83.84</td>\n      <td>84.04</td>\n      <td>94.59</td>\n      <td>95.95</td>\n      <td>90.54</td>\n    </tr>\n    <tr>\n      <th>2</th>\n      <td>1468</td>\n      <td>83.35</td>\n      <td>83.82</td>\n      <td>93.39</td>\n      <td>97.14</td>\n      <td>90.60</td>\n    </tr>\n    <tr>\n      <th>3</th>\n      <td>1635</td>\n      <td>83.42</td>\n      <td>83.85</td>\n      <td>93.27</td>\n      <td>97.31</td>\n      <td>90.95</td>\n    </tr>\n    <tr>\n      <th>4</th>\n      <td>1761</td>\n      <td>83.36</td>\n      <td>83.73</td>\n      <td>93.87</td>\n      <td>95.85</td>\n      <td>89.89</td>\n    </tr>\n    <tr>\n      <th>5</th>\n      <td>1800</td>\n      <td>83.68</td>\n      <td>83.96</td>\n      <td>93.33</td>\n      <td>96.61</td>\n      <td>90.33</td>\n    </tr>\n    <tr>\n      <th>6</th>\n      <td>1858</td>\n      <td>83.06</td>\n      <td>83.98</td>\n      <td>94.13</td>\n      <td>97.04</td>\n      <td>91.33</td>\n    </tr>\n    <tr>\n      <th>7</th>\n      <td>2283</td>\n      <td>83.27</td>\n      <td>83.99</td>\n      <td>93.87</td>\n      <td>96.54</td>\n      <td>90.58</td>\n    </tr>\n    <tr>\n      <th>8</th>\n      <td>2739</td>\n      <td>77.10</td>\n      <td>80.75</td>\n      <td>68.31</td>\n      <td>79.30</td>\n      <td>54.29</td>\n    </tr>\n    <tr>\n      <th>9</th>\n      <td>2917</td>\n      <td>76.63</td>\n      <td>81.18</td>\n      <td>65.68</td>\n      <td>81.32</td>\n      <td>53.51</td>\n    </tr>\n    <tr>\n      <th>10</th>\n      <td>2949</td>\n      <td>76.71</td>\n      <td>81.16</td>\n      <td>65.99</td>\n      <td>80.74</td>\n      <td>53.20</td>\n    </tr>\n    <tr>\n      <th>11</th>\n      <td>3999</td>\n      <td>76.84</td>\n      <td>80.74</td>\n      <td>66.37</td>\n      <td>80.22</td>\n      <td>52.99</td>\n    </tr>\n    <tr>\n      <th>12</th>\n      <td>4635</td>\n      <td>77.29</td>\n      <td>80.93</td>\n      <td>66.75</td>\n      <td>80.86</td>\n      <td>53.53</td>\n    </tr>\n    <tr>\n      <th>13</th>\n      <td>4761</td>\n      <td>77.07</td>\n      <td>80.97</td>\n      <td>66.06</td>\n      <td>81.22</td>\n      <td>53.54</td>\n    </tr>\n    <tr>\n      <th>14</th>\n      <td>4976</td>\n      <td>77.05</td>\n      <td>81.03</td>\n      <td>66.68</td>\n      <td>81.93</td>\n      <td>54.64</td>\n    </tr>\n  </tbody>\n</table>\n</div>"
     },
     "metadata": {},
     "execution_count": 1253
    }
   ],
   "source": [
    "size_scores_df = pd.DataFrame(size_scores_math)\n",
    "size_scores_df['Avg Reading Score'] = size_scores_read\n",
    "size_scores_df['% Passing Math'] = size_scores_percmath\n",
    "size_scores_df['% Passing Reading'] = size_scores_percread\n",
    "size_scores_df['% Overall Passing'] = size_scores_percall\n",
    "size_scores_df.reset_index(drop=False, inplace=True)\n",
    "size_scores_df"
   ]
  },
  {
   "cell_type": "code",
   "execution_count": 1254,
   "metadata": {},
   "outputs": [
    {
     "output_type": "execute_result",
     "data": {
      "text/plain": [
       "0          Small (<1000)\n",
       "1          Small (<1000)\n",
       "2     Medium (1000-2000)\n",
       "3     Medium (1000-2000)\n",
       "4     Medium (1000-2000)\n",
       "5     Medium (1000-2000)\n",
       "6     Medium (1000-2000)\n",
       "7      Large (2000-5000)\n",
       "8      Large (2000-5000)\n",
       "9      Large (2000-5000)\n",
       "10     Large (2000-5000)\n",
       "11     Large (2000-5000)\n",
       "12     Large (2000-5000)\n",
       "13     Large (2000-5000)\n",
       "14     Large (2000-5000)\n",
       "Name: Total Students, dtype: category\n",
       "Categories (3, object): ['Small (<1000)' < 'Medium (1000-2000)' < 'Large (2000-5000)']"
      ]
     },
     "metadata": {},
     "execution_count": 1254
    }
   ],
   "source": [
    "bins = [0,1000, 2000, 5000]\n",
    "labels = ['Small (<1000)','Medium (1000-2000)','Large (2000-5000)']\n",
    "binned_size_scores = pd.cut(size_scores_df['Total Students'], bins, labels=labels)\n",
    "binned_size_scores"
   ]
  },
  {
   "cell_type": "code",
   "execution_count": 1255,
   "metadata": {},
   "outputs": [
    {
     "output_type": "execute_result",
     "data": {
      "text/plain": [
       "    Total Students  Avg Math Score  Avg Reading Score  % Passing Math  \\\n",
       "0              427           83.80              83.81           92.51   \n",
       "1              962           83.84              84.04           94.59   \n",
       "2             1468           83.35              83.82           93.39   \n",
       "3             1635           83.42              83.85           93.27   \n",
       "4             1761           83.36              83.73           93.87   \n",
       "5             1800           83.68              83.96           93.33   \n",
       "6             1858           83.06              83.98           94.13   \n",
       "7             2283           83.27              83.99           93.87   \n",
       "8             2739           77.10              80.75           68.31   \n",
       "9             2917           76.63              81.18           65.68   \n",
       "10            2949           76.71              81.16           65.99   \n",
       "11            3999           76.84              80.74           66.37   \n",
       "12            4635           77.29              80.93           66.75   \n",
       "13            4761           77.07              80.97           66.06   \n",
       "14            4976           77.05              81.03           66.68   \n",
       "\n",
       "    % Passing Reading  % Overall Passing         School Size  \n",
       "0               96.25              89.23       Small (<1000)  \n",
       "1               95.95              90.54       Small (<1000)  \n",
       "2               97.14              90.60  Medium (1000-2000)  \n",
       "3               97.31              90.95  Medium (1000-2000)  \n",
       "4               95.85              89.89  Medium (1000-2000)  \n",
       "5               96.61              90.33  Medium (1000-2000)  \n",
       "6               97.04              91.33  Medium (1000-2000)  \n",
       "7               96.54              90.58   Large (2000-5000)  \n",
       "8               79.30              54.29   Large (2000-5000)  \n",
       "9               81.32              53.51   Large (2000-5000)  \n",
       "10              80.74              53.20   Large (2000-5000)  \n",
       "11              80.22              52.99   Large (2000-5000)  \n",
       "12              80.86              53.53   Large (2000-5000)  \n",
       "13              81.22              53.54   Large (2000-5000)  \n",
       "14              81.93              54.64   Large (2000-5000)  "
      ],
      "text/html": "<div>\n<style scoped>\n    .dataframe tbody tr th:only-of-type {\n        vertical-align: middle;\n    }\n\n    .dataframe tbody tr th {\n        vertical-align: top;\n    }\n\n    .dataframe thead th {\n        text-align: right;\n    }\n</style>\n<table border=\"1\" class=\"dataframe\">\n  <thead>\n    <tr style=\"text-align: right;\">\n      <th></th>\n      <th>Total Students</th>\n      <th>Avg Math Score</th>\n      <th>Avg Reading Score</th>\n      <th>% Passing Math</th>\n      <th>% Passing Reading</th>\n      <th>% Overall Passing</th>\n      <th>School Size</th>\n    </tr>\n  </thead>\n  <tbody>\n    <tr>\n      <th>0</th>\n      <td>427</td>\n      <td>83.80</td>\n      <td>83.81</td>\n      <td>92.51</td>\n      <td>96.25</td>\n      <td>89.23</td>\n      <td>Small (&lt;1000)</td>\n    </tr>\n    <tr>\n      <th>1</th>\n      <td>962</td>\n      <td>83.84</td>\n      <td>84.04</td>\n      <td>94.59</td>\n      <td>95.95</td>\n      <td>90.54</td>\n      <td>Small (&lt;1000)</td>\n    </tr>\n    <tr>\n      <th>2</th>\n      <td>1468</td>\n      <td>83.35</td>\n      <td>83.82</td>\n      <td>93.39</td>\n      <td>97.14</td>\n      <td>90.60</td>\n      <td>Medium (1000-2000)</td>\n    </tr>\n    <tr>\n      <th>3</th>\n      <td>1635</td>\n      <td>83.42</td>\n      <td>83.85</td>\n      <td>93.27</td>\n      <td>97.31</td>\n      <td>90.95</td>\n      <td>Medium (1000-2000)</td>\n    </tr>\n    <tr>\n      <th>4</th>\n      <td>1761</td>\n      <td>83.36</td>\n      <td>83.73</td>\n      <td>93.87</td>\n      <td>95.85</td>\n      <td>89.89</td>\n      <td>Medium (1000-2000)</td>\n    </tr>\n    <tr>\n      <th>5</th>\n      <td>1800</td>\n      <td>83.68</td>\n      <td>83.96</td>\n      <td>93.33</td>\n      <td>96.61</td>\n      <td>90.33</td>\n      <td>Medium (1000-2000)</td>\n    </tr>\n    <tr>\n      <th>6</th>\n      <td>1858</td>\n      <td>83.06</td>\n      <td>83.98</td>\n      <td>94.13</td>\n      <td>97.04</td>\n      <td>91.33</td>\n      <td>Medium (1000-2000)</td>\n    </tr>\n    <tr>\n      <th>7</th>\n      <td>2283</td>\n      <td>83.27</td>\n      <td>83.99</td>\n      <td>93.87</td>\n      <td>96.54</td>\n      <td>90.58</td>\n      <td>Large (2000-5000)</td>\n    </tr>\n    <tr>\n      <th>8</th>\n      <td>2739</td>\n      <td>77.10</td>\n      <td>80.75</td>\n      <td>68.31</td>\n      <td>79.30</td>\n      <td>54.29</td>\n      <td>Large (2000-5000)</td>\n    </tr>\n    <tr>\n      <th>9</th>\n      <td>2917</td>\n      <td>76.63</td>\n      <td>81.18</td>\n      <td>65.68</td>\n      <td>81.32</td>\n      <td>53.51</td>\n      <td>Large (2000-5000)</td>\n    </tr>\n    <tr>\n      <th>10</th>\n      <td>2949</td>\n      <td>76.71</td>\n      <td>81.16</td>\n      <td>65.99</td>\n      <td>80.74</td>\n      <td>53.20</td>\n      <td>Large (2000-5000)</td>\n    </tr>\n    <tr>\n      <th>11</th>\n      <td>3999</td>\n      <td>76.84</td>\n      <td>80.74</td>\n      <td>66.37</td>\n      <td>80.22</td>\n      <td>52.99</td>\n      <td>Large (2000-5000)</td>\n    </tr>\n    <tr>\n      <th>12</th>\n      <td>4635</td>\n      <td>77.29</td>\n      <td>80.93</td>\n      <td>66.75</td>\n      <td>80.86</td>\n      <td>53.53</td>\n      <td>Large (2000-5000)</td>\n    </tr>\n    <tr>\n      <th>13</th>\n      <td>4761</td>\n      <td>77.07</td>\n      <td>80.97</td>\n      <td>66.06</td>\n      <td>81.22</td>\n      <td>53.54</td>\n      <td>Large (2000-5000)</td>\n    </tr>\n    <tr>\n      <th>14</th>\n      <td>4976</td>\n      <td>77.05</td>\n      <td>81.03</td>\n      <td>66.68</td>\n      <td>81.93</td>\n      <td>54.64</td>\n      <td>Large (2000-5000)</td>\n    </tr>\n  </tbody>\n</table>\n</div>"
     },
     "metadata": {},
     "execution_count": 1255
    }
   ],
   "source": [
    "size_scores_df['School Size'] = binned_size_scores\n",
    "size_scores_df"
   ]
  },
  {
   "cell_type": "code",
   "execution_count": 1256,
   "metadata": {},
   "outputs": [
    {
     "output_type": "execute_result",
     "data": {
      "text/plain": [
       "School Size\n",
       "Small (<1000)         83.82\n",
       "Medium (1000-2000)    83.37\n",
       "Large (2000-5000)     77.74\n",
       "Name: Avg Math Score, dtype: float64"
      ]
     },
     "metadata": {},
     "execution_count": 1256
    }
   ],
   "source": [
    "size_math_binned = round(size_scores_df.groupby(['School Size'])['Avg Math Score'].mean(),2)\n",
    "size_math_binned"
   ]
  },
  {
   "cell_type": "code",
   "execution_count": 1257,
   "metadata": {},
   "outputs": [
    {
     "output_type": "execute_result",
     "data": {
      "text/plain": [
       "School Size\n",
       "Small (<1000)         83.93\n",
       "Medium (1000-2000)    83.87\n",
       "Large (2000-5000)     81.34\n",
       "Name: Avg Reading Score, dtype: float64"
      ]
     },
     "metadata": {},
     "execution_count": 1257
    }
   ],
   "source": [
    "size_read_binned = round(size_scores_df.groupby(['School Size'])['Avg Reading Score'].mean(),2)\n",
    "size_read_binned"
   ]
  },
  {
   "cell_type": "code",
   "execution_count": 1258,
   "metadata": {},
   "outputs": [
    {
     "output_type": "execute_result",
     "data": {
      "text/plain": [
       "School Size\n",
       "Small (<1000)         93.55\n",
       "Medium (1000-2000)    93.60\n",
       "Large (2000-5000)     69.96\n",
       "Name: % Passing Math, dtype: float64"
      ]
     },
     "metadata": {},
     "execution_count": 1258
    }
   ],
   "source": [
    "size_percmath_binned = round(size_scores_df.groupby(['School Size'])['% Passing Math'].mean(),2)\n",
    "size_percmath_binned"
   ]
  },
  {
   "cell_type": "code",
   "execution_count": 1259,
   "metadata": {},
   "outputs": [
    {
     "output_type": "execute_result",
     "data": {
      "text/plain": [
       "School Size\n",
       "Small (<1000)         96.10\n",
       "Medium (1000-2000)    96.79\n",
       "Large (2000-5000)     82.77\n",
       "Name: % Passing Reading, dtype: float64"
      ]
     },
     "metadata": {},
     "execution_count": 1259
    }
   ],
   "source": [
    "size_percread_binned = round(size_scores_df.groupby(['School Size'])['% Passing Reading'].mean(),2)\n",
    "size_percread_binned"
   ]
  },
  {
   "cell_type": "code",
   "execution_count": 1260,
   "metadata": {},
   "outputs": [
    {
     "output_type": "execute_result",
     "data": {
      "text/plain": [
       "School Size\n",
       "Small (<1000)         89.88\n",
       "Medium (1000-2000)    90.62\n",
       "Large (2000-5000)     58.28\n",
       "Name: % Overall Passing, dtype: float64"
      ]
     },
     "metadata": {},
     "execution_count": 1260
    }
   ],
   "source": [
    "size_percall_binned = round(size_scores_df.groupby(['School Size'])['% Overall Passing'].mean(),2)\n",
    "size_percall_binned"
   ]
  },
  {
   "cell_type": "code",
   "execution_count": 1261,
   "metadata": {},
   "outputs": [
    {
     "output_type": "execute_result",
     "data": {
      "text/plain": [
       "                    Avg Math Score  Avg Reading Score  % Passing Math  \\\n",
       "School Size                                                             \n",
       "Small (<1000)                83.82              83.82           93.55   \n",
       "Medium (1000-2000)           83.37              83.37           93.60   \n",
       "Large (2000-5000)            77.74              77.74           69.96   \n",
       "\n",
       "                    % Passing Reading  % Overall Passing  \n",
       "School Size                                               \n",
       "Small (<1000)                   96.10              89.88  \n",
       "Medium (1000-2000)              96.79              90.62  \n",
       "Large (2000-5000)               82.77              58.28  "
      ],
      "text/html": "<div>\n<style scoped>\n    .dataframe tbody tr th:only-of-type {\n        vertical-align: middle;\n    }\n\n    .dataframe tbody tr th {\n        vertical-align: top;\n    }\n\n    .dataframe thead th {\n        text-align: right;\n    }\n</style>\n<table border=\"1\" class=\"dataframe\">\n  <thead>\n    <tr style=\"text-align: right;\">\n      <th></th>\n      <th>Avg Math Score</th>\n      <th>Avg Reading Score</th>\n      <th>% Passing Math</th>\n      <th>% Passing Reading</th>\n      <th>% Overall Passing</th>\n    </tr>\n    <tr>\n      <th>School Size</th>\n      <th></th>\n      <th></th>\n      <th></th>\n      <th></th>\n      <th></th>\n    </tr>\n  </thead>\n  <tbody>\n    <tr>\n      <th>Small (&lt;1000)</th>\n      <td>83.82</td>\n      <td>83.82</td>\n      <td>93.55</td>\n      <td>96.10</td>\n      <td>89.88</td>\n    </tr>\n    <tr>\n      <th>Medium (1000-2000)</th>\n      <td>83.37</td>\n      <td>83.37</td>\n      <td>93.60</td>\n      <td>96.79</td>\n      <td>90.62</td>\n    </tr>\n    <tr>\n      <th>Large (2000-5000)</th>\n      <td>77.74</td>\n      <td>77.74</td>\n      <td>69.96</td>\n      <td>82.77</td>\n      <td>58.28</td>\n    </tr>\n  </tbody>\n</table>\n</div>"
     },
     "metadata": {},
     "execution_count": 1261
    }
   ],
   "source": [
    "scores_by_size = pd.DataFrame(size_math_binned)\n",
    "scores_by_size['Avg Reading Score'] = size_math_binned\n",
    "scores_by_size['% Passing Math'] = size_percmath_binned\n",
    "scores_by_size['% Passing Reading'] = size_percread_binned\n",
    "scores_by_size['% Overall Passing'] = size_percall_binned\n",
    "scores_by_size"
   ]
  },
  {
   "cell_type": "code",
   "execution_count": 1262,
   "metadata": {},
   "outputs": [
    {
     "output_type": "execute_result",
     "data": {
      "text/plain": [
       "School Type\n",
       "Charter     83.47\n",
       "District    76.96\n",
       "Name: Avg Math Score, dtype: float64"
      ]
     },
     "metadata": {},
     "execution_count": 1262
    }
   ],
   "source": [
    "type_scores_math = round(combined_district_df.groupby(['School Type'])['Avg Math Score'].mean(),2)\n",
    "type_scores_math"
   ]
  },
  {
   "cell_type": "code",
   "execution_count": 1263,
   "metadata": {},
   "outputs": [
    {
     "output_type": "execute_result",
     "data": {
      "text/plain": [
       "School Type\n",
       "Charter     83.90\n",
       "District    80.97\n",
       "Name: Avg Reading Score, dtype: float64"
      ]
     },
     "metadata": {},
     "execution_count": 1263
    }
   ],
   "source": [
    "type_scores_read = round(combined_district_df.groupby(['School Type'])['Avg Reading Score'].mean(),2)\n",
    "type_scores_read"
   ]
  },
  {
   "cell_type": "code",
   "execution_count": 1264,
   "metadata": {},
   "outputs": [
    {
     "output_type": "execute_result",
     "data": {
      "text/plain": [
       "School Type\n",
       "Charter     93.62\n",
       "District    66.55\n",
       "Name: % Passing Math, dtype: float64"
      ]
     },
     "metadata": {},
     "execution_count": 1264
    }
   ],
   "source": [
    "type_scores_percmath = round(combined_district_df.groupby(['School Type'])['% Passing Math'].mean(),2)\n",
    "type_scores_percmath"
   ]
  },
  {
   "cell_type": "code",
   "execution_count": 1265,
   "metadata": {},
   "outputs": [
    {
     "output_type": "execute_result",
     "data": {
      "text/plain": [
       "School Type\n",
       "Charter     96.59\n",
       "District    80.80\n",
       "Name: % Passing Reading, dtype: float64"
      ]
     },
     "metadata": {},
     "execution_count": 1265
    }
   ],
   "source": [
    "type_scores_percread = round(combined_district_df.groupby(['School Type'])['% Passing Reading'].mean(),2)\n",
    "type_scores_percread"
   ]
  },
  {
   "cell_type": "code",
   "execution_count": 1266,
   "metadata": {},
   "outputs": [
    {
     "output_type": "execute_result",
     "data": {
      "text/plain": [
       "School Type\n",
       "Charter     90.43\n",
       "District    53.67\n",
       "Name: % Overall Passing, dtype: float64"
      ]
     },
     "metadata": {},
     "execution_count": 1266
    }
   ],
   "source": [
    "type_scores_percall = round(combined_district_df.groupby(['School Type'])['% Overall Passing'].mean(),2)\n",
    "type_scores_percall"
   ]
  },
  {
   "cell_type": "code",
   "execution_count": 1267,
   "metadata": {},
   "outputs": [
    {
     "output_type": "execute_result",
     "data": {
      "text/plain": [
       "             Avg Math Score  Avg Reading Score  % Passing Math  \\\n",
       "School Type                                                      \n",
       "Charter               83.47              83.90           93.62   \n",
       "District              76.96              80.97           66.55   \n",
       "\n",
       "             % Passing Reading  % Overall Passing  \n",
       "School Type                                        \n",
       "Charter                  96.59              90.43  \n",
       "District                 80.80              53.67  "
      ],
      "text/html": "<div>\n<style scoped>\n    .dataframe tbody tr th:only-of-type {\n        vertical-align: middle;\n    }\n\n    .dataframe tbody tr th {\n        vertical-align: top;\n    }\n\n    .dataframe thead th {\n        text-align: right;\n    }\n</style>\n<table border=\"1\" class=\"dataframe\">\n  <thead>\n    <tr style=\"text-align: right;\">\n      <th></th>\n      <th>Avg Math Score</th>\n      <th>Avg Reading Score</th>\n      <th>% Passing Math</th>\n      <th>% Passing Reading</th>\n      <th>% Overall Passing</th>\n    </tr>\n    <tr>\n      <th>School Type</th>\n      <th></th>\n      <th></th>\n      <th></th>\n      <th></th>\n      <th></th>\n    </tr>\n  </thead>\n  <tbody>\n    <tr>\n      <th>Charter</th>\n      <td>83.47</td>\n      <td>83.90</td>\n      <td>93.62</td>\n      <td>96.59</td>\n      <td>90.43</td>\n    </tr>\n    <tr>\n      <th>District</th>\n      <td>76.96</td>\n      <td>80.97</td>\n      <td>66.55</td>\n      <td>80.80</td>\n      <td>53.67</td>\n    </tr>\n  </tbody>\n</table>\n</div>"
     },
     "metadata": {},
     "execution_count": 1267
    }
   ],
   "source": [
    "scores_by_type = pd.DataFrame(type_scores_math)\n",
    "scores_by_type['Avg Reading Score'] = type_scores_read\n",
    "scores_by_type['% Passing Math'] = type_scores_percmath\n",
    "scores_by_type['% Passing Reading'] = type_scores_percread\n",
    "scores_by_type['% Overall Passing'] = type_scores_percall\n",
    "\n",
    "scores_by_type"
   ]
  },
  {
   "cell_type": "code",
   "execution_count": 1268,
   "metadata": {},
   "outputs": [
    {
     "output_type": "execute_result",
     "data": {
      "text/plain": [
       "   Total Schools Total Students Total Budget  Average Math Score  \\\n",
       "0             15         39,170  $24,649,428               78.99   \n",
       "\n",
       "   Average Reading Score  % Passing Math  % Passing Reading  % Overall Passing  \n",
       "0                  81.88           74.98              85.81              65.17  "
      ],
      "text/html": "<div>\n<style scoped>\n    .dataframe tbody tr th:only-of-type {\n        vertical-align: middle;\n    }\n\n    .dataframe tbody tr th {\n        vertical-align: top;\n    }\n\n    .dataframe thead th {\n        text-align: right;\n    }\n</style>\n<table border=\"1\" class=\"dataframe\">\n  <thead>\n    <tr style=\"text-align: right;\">\n      <th></th>\n      <th>Total Schools</th>\n      <th>Total Students</th>\n      <th>Total Budget</th>\n      <th>Average Math Score</th>\n      <th>Average Reading Score</th>\n      <th>% Passing Math</th>\n      <th>% Passing Reading</th>\n      <th>% Overall Passing</th>\n    </tr>\n  </thead>\n  <tbody>\n    <tr>\n      <th>0</th>\n      <td>15</td>\n      <td>39,170</td>\n      <td>$24,649,428</td>\n      <td>78.99</td>\n      <td>81.88</td>\n      <td>74.98</td>\n      <td>85.81</td>\n      <td>65.17</td>\n    </tr>\n  </tbody>\n</table>\n</div>"
     },
     "metadata": {},
     "execution_count": 1268
    }
   ],
   "source": [
    "#Final dataframes:\n",
    "#------------------------\n",
    "#District Summary\n",
    "district_df_final = district_df\n",
    "district_df_final"
   ]
  },
  {
   "cell_type": "code",
   "execution_count": 1272,
   "metadata": {},
   "outputs": [
    {
     "output_type": "execute_result",
     "data": {
      "text/plain": [
       "<pandas.io.formats.style.Styler at 0x7fb809cc1950>"
      ],
      "text/html": "<style  type=\"text/css\" >\n#T_0fdf52d8_99be_11eb_9353_10ddb1b2dcedrow0_col0,#T_0fdf52d8_99be_11eb_9353_10ddb1b2dcedrow2_col0,#T_0fdf52d8_99be_11eb_9353_10ddb1b2dcedrow3_col0,#T_0fdf52d8_99be_11eb_9353_10ddb1b2dcedrow5_col0,#T_0fdf52d8_99be_11eb_9353_10ddb1b2dcedrow7_col0,#T_0fdf52d8_99be_11eb_9353_10ddb1b2dcedrow8_col0,#T_0fdf52d8_99be_11eb_9353_10ddb1b2dcedrow10_col0{\n            color:  green;\n        }#T_0fdf52d8_99be_11eb_9353_10ddb1b2dcedrow0_col1,#T_0fdf52d8_99be_11eb_9353_10ddb1b2dcedrow0_col2,#T_0fdf52d8_99be_11eb_9353_10ddb1b2dcedrow0_col3,#T_0fdf52d8_99be_11eb_9353_10ddb1b2dcedrow0_col4,#T_0fdf52d8_99be_11eb_9353_10ddb1b2dcedrow0_col5,#T_0fdf52d8_99be_11eb_9353_10ddb1b2dcedrow0_col6,#T_0fdf52d8_99be_11eb_9353_10ddb1b2dcedrow0_col7,#T_0fdf52d8_99be_11eb_9353_10ddb1b2dcedrow0_col8,#T_0fdf52d8_99be_11eb_9353_10ddb1b2dcedrow1_col0,#T_0fdf52d8_99be_11eb_9353_10ddb1b2dcedrow1_col1,#T_0fdf52d8_99be_11eb_9353_10ddb1b2dcedrow1_col2,#T_0fdf52d8_99be_11eb_9353_10ddb1b2dcedrow1_col3,#T_0fdf52d8_99be_11eb_9353_10ddb1b2dcedrow1_col4,#T_0fdf52d8_99be_11eb_9353_10ddb1b2dcedrow1_col5,#T_0fdf52d8_99be_11eb_9353_10ddb1b2dcedrow1_col6,#T_0fdf52d8_99be_11eb_9353_10ddb1b2dcedrow1_col7,#T_0fdf52d8_99be_11eb_9353_10ddb1b2dcedrow1_col8,#T_0fdf52d8_99be_11eb_9353_10ddb1b2dcedrow2_col1,#T_0fdf52d8_99be_11eb_9353_10ddb1b2dcedrow2_col2,#T_0fdf52d8_99be_11eb_9353_10ddb1b2dcedrow2_col3,#T_0fdf52d8_99be_11eb_9353_10ddb1b2dcedrow2_col4,#T_0fdf52d8_99be_11eb_9353_10ddb1b2dcedrow2_col5,#T_0fdf52d8_99be_11eb_9353_10ddb1b2dcedrow2_col6,#T_0fdf52d8_99be_11eb_9353_10ddb1b2dcedrow2_col7,#T_0fdf52d8_99be_11eb_9353_10ddb1b2dcedrow2_col8,#T_0fdf52d8_99be_11eb_9353_10ddb1b2dcedrow3_col1,#T_0fdf52d8_99be_11eb_9353_10ddb1b2dcedrow3_col2,#T_0fdf52d8_99be_11eb_9353_10ddb1b2dcedrow3_col3,#T_0fdf52d8_99be_11eb_9353_10ddb1b2dcedrow3_col4,#T_0fdf52d8_99be_11eb_9353_10ddb1b2dcedrow3_col5,#T_0fdf52d8_99be_11eb_9353_10ddb1b2dcedrow3_col6,#T_0fdf52d8_99be_11eb_9353_10ddb1b2dcedrow3_col7,#T_0fdf52d8_99be_11eb_9353_10ddb1b2dcedrow3_col8,#T_0fdf52d8_99be_11eb_9353_10ddb1b2dcedrow4_col0,#T_0fdf52d8_99be_11eb_9353_10ddb1b2dcedrow4_col1,#T_0fdf52d8_99be_11eb_9353_10ddb1b2dcedrow4_col2,#T_0fdf52d8_99be_11eb_9353_10ddb1b2dcedrow4_col3,#T_0fdf52d8_99be_11eb_9353_10ddb1b2dcedrow4_col4,#T_0fdf52d8_99be_11eb_9353_10ddb1b2dcedrow4_col5,#T_0fdf52d8_99be_11eb_9353_10ddb1b2dcedrow4_col6,#T_0fdf52d8_99be_11eb_9353_10ddb1b2dcedrow4_col7,#T_0fdf52d8_99be_11eb_9353_10ddb1b2dcedrow4_col8,#T_0fdf52d8_99be_11eb_9353_10ddb1b2dcedrow5_col1,#T_0fdf52d8_99be_11eb_9353_10ddb1b2dcedrow5_col2,#T_0fdf52d8_99be_11eb_9353_10ddb1b2dcedrow5_col3,#T_0fdf52d8_99be_11eb_9353_10ddb1b2dcedrow5_col4,#T_0fdf52d8_99be_11eb_9353_10ddb1b2dcedrow5_col5,#T_0fdf52d8_99be_11eb_9353_10ddb1b2dcedrow5_col6,#T_0fdf52d8_99be_11eb_9353_10ddb1b2dcedrow5_col7,#T_0fdf52d8_99be_11eb_9353_10ddb1b2dcedrow5_col8,#T_0fdf52d8_99be_11eb_9353_10ddb1b2dcedrow6_col0,#T_0fdf52d8_99be_11eb_9353_10ddb1b2dcedrow6_col1,#T_0fdf52d8_99be_11eb_9353_10ddb1b2dcedrow6_col2,#T_0fdf52d8_99be_11eb_9353_10ddb1b2dcedrow6_col3,#T_0fdf52d8_99be_11eb_9353_10ddb1b2dcedrow6_col4,#T_0fdf52d8_99be_11eb_9353_10ddb1b2dcedrow6_col5,#T_0fdf52d8_99be_11eb_9353_10ddb1b2dcedrow6_col6,#T_0fdf52d8_99be_11eb_9353_10ddb1b2dcedrow6_col7,#T_0fdf52d8_99be_11eb_9353_10ddb1b2dcedrow6_col8,#T_0fdf52d8_99be_11eb_9353_10ddb1b2dcedrow7_col1,#T_0fdf52d8_99be_11eb_9353_10ddb1b2dcedrow7_col2,#T_0fdf52d8_99be_11eb_9353_10ddb1b2dcedrow7_col3,#T_0fdf52d8_99be_11eb_9353_10ddb1b2dcedrow7_col4,#T_0fdf52d8_99be_11eb_9353_10ddb1b2dcedrow7_col5,#T_0fdf52d8_99be_11eb_9353_10ddb1b2dcedrow7_col6,#T_0fdf52d8_99be_11eb_9353_10ddb1b2dcedrow7_col7,#T_0fdf52d8_99be_11eb_9353_10ddb1b2dcedrow7_col8,#T_0fdf52d8_99be_11eb_9353_10ddb1b2dcedrow8_col1,#T_0fdf52d8_99be_11eb_9353_10ddb1b2dcedrow8_col2,#T_0fdf52d8_99be_11eb_9353_10ddb1b2dcedrow8_col3,#T_0fdf52d8_99be_11eb_9353_10ddb1b2dcedrow8_col4,#T_0fdf52d8_99be_11eb_9353_10ddb1b2dcedrow8_col5,#T_0fdf52d8_99be_11eb_9353_10ddb1b2dcedrow8_col6,#T_0fdf52d8_99be_11eb_9353_10ddb1b2dcedrow8_col7,#T_0fdf52d8_99be_11eb_9353_10ddb1b2dcedrow8_col8,#T_0fdf52d8_99be_11eb_9353_10ddb1b2dcedrow9_col0,#T_0fdf52d8_99be_11eb_9353_10ddb1b2dcedrow9_col1,#T_0fdf52d8_99be_11eb_9353_10ddb1b2dcedrow9_col2,#T_0fdf52d8_99be_11eb_9353_10ddb1b2dcedrow9_col3,#T_0fdf52d8_99be_11eb_9353_10ddb1b2dcedrow9_col4,#T_0fdf52d8_99be_11eb_9353_10ddb1b2dcedrow9_col5,#T_0fdf52d8_99be_11eb_9353_10ddb1b2dcedrow9_col6,#T_0fdf52d8_99be_11eb_9353_10ddb1b2dcedrow9_col7,#T_0fdf52d8_99be_11eb_9353_10ddb1b2dcedrow9_col8,#T_0fdf52d8_99be_11eb_9353_10ddb1b2dcedrow10_col1,#T_0fdf52d8_99be_11eb_9353_10ddb1b2dcedrow10_col2,#T_0fdf52d8_99be_11eb_9353_10ddb1b2dcedrow10_col3,#T_0fdf52d8_99be_11eb_9353_10ddb1b2dcedrow10_col4,#T_0fdf52d8_99be_11eb_9353_10ddb1b2dcedrow10_col5,#T_0fdf52d8_99be_11eb_9353_10ddb1b2dcedrow10_col6,#T_0fdf52d8_99be_11eb_9353_10ddb1b2dcedrow10_col7,#T_0fdf52d8_99be_11eb_9353_10ddb1b2dcedrow10_col8,#T_0fdf52d8_99be_11eb_9353_10ddb1b2dcedrow11_col0,#T_0fdf52d8_99be_11eb_9353_10ddb1b2dcedrow11_col1,#T_0fdf52d8_99be_11eb_9353_10ddb1b2dcedrow11_col2,#T_0fdf52d8_99be_11eb_9353_10ddb1b2dcedrow11_col3,#T_0fdf52d8_99be_11eb_9353_10ddb1b2dcedrow11_col4,#T_0fdf52d8_99be_11eb_9353_10ddb1b2dcedrow11_col5,#T_0fdf52d8_99be_11eb_9353_10ddb1b2dcedrow11_col6,#T_0fdf52d8_99be_11eb_9353_10ddb1b2dcedrow11_col7,#T_0fdf52d8_99be_11eb_9353_10ddb1b2dcedrow11_col8,#T_0fdf52d8_99be_11eb_9353_10ddb1b2dcedrow12_col0,#T_0fdf52d8_99be_11eb_9353_10ddb1b2dcedrow12_col1,#T_0fdf52d8_99be_11eb_9353_10ddb1b2dcedrow12_col2,#T_0fdf52d8_99be_11eb_9353_10ddb1b2dcedrow12_col3,#T_0fdf52d8_99be_11eb_9353_10ddb1b2dcedrow12_col4,#T_0fdf52d8_99be_11eb_9353_10ddb1b2dcedrow12_col5,#T_0fdf52d8_99be_11eb_9353_10ddb1b2dcedrow12_col6,#T_0fdf52d8_99be_11eb_9353_10ddb1b2dcedrow12_col7,#T_0fdf52d8_99be_11eb_9353_10ddb1b2dcedrow12_col8,#T_0fdf52d8_99be_11eb_9353_10ddb1b2dcedrow13_col0,#T_0fdf52d8_99be_11eb_9353_10ddb1b2dcedrow13_col1,#T_0fdf52d8_99be_11eb_9353_10ddb1b2dcedrow13_col2,#T_0fdf52d8_99be_11eb_9353_10ddb1b2dcedrow13_col3,#T_0fdf52d8_99be_11eb_9353_10ddb1b2dcedrow13_col4,#T_0fdf52d8_99be_11eb_9353_10ddb1b2dcedrow13_col5,#T_0fdf52d8_99be_11eb_9353_10ddb1b2dcedrow13_col6,#T_0fdf52d8_99be_11eb_9353_10ddb1b2dcedrow13_col7,#T_0fdf52d8_99be_11eb_9353_10ddb1b2dcedrow13_col8,#T_0fdf52d8_99be_11eb_9353_10ddb1b2dcedrow14_col0,#T_0fdf52d8_99be_11eb_9353_10ddb1b2dcedrow14_col1,#T_0fdf52d8_99be_11eb_9353_10ddb1b2dcedrow14_col2,#T_0fdf52d8_99be_11eb_9353_10ddb1b2dcedrow14_col3,#T_0fdf52d8_99be_11eb_9353_10ddb1b2dcedrow14_col4,#T_0fdf52d8_99be_11eb_9353_10ddb1b2dcedrow14_col5,#T_0fdf52d8_99be_11eb_9353_10ddb1b2dcedrow14_col6,#T_0fdf52d8_99be_11eb_9353_10ddb1b2dcedrow14_col7,#T_0fdf52d8_99be_11eb_9353_10ddb1b2dcedrow14_col8{\n            color:  black;\n        }</style><table id=\"T_0fdf52d8_99be_11eb_9353_10ddb1b2dced\" ><thead>    <tr>        <th class=\"blank level0\" ></th>        <th class=\"col_heading level0 col0\" >School Type</th>        <th class=\"col_heading level0 col1\" >Total Students</th>        <th class=\"col_heading level0 col2\" >Total School Budget</th>        <th class=\"col_heading level0 col3\" >Per Student Budget</th>        <th class=\"col_heading level0 col4\" >Avg Math Score</th>        <th class=\"col_heading level0 col5\" >Avg Reading Score</th>        <th class=\"col_heading level0 col6\" >% Passing Math</th>        <th class=\"col_heading level0 col7\" >% Passing Reading</th>        <th class=\"col_heading level0 col8\" >% Overall Passing</th>    </tr>    <tr>        <th class=\"index_name level0\" ></th>        <th class=\"blank\" ></th>        <th class=\"blank\" ></th>        <th class=\"blank\" ></th>        <th class=\"blank\" ></th>        <th class=\"blank\" ></th>        <th class=\"blank\" ></th>        <th class=\"blank\" ></th>        <th class=\"blank\" ></th>        <th class=\"blank\" ></th>    </tr></thead><tbody>\n                <tr>\n                        <th id=\"T_0fdf52d8_99be_11eb_9353_10ddb1b2dcedlevel0_row0\" class=\"row_heading level0 row0\" >Bailey High School</th>\n                        <td id=\"T_0fdf52d8_99be_11eb_9353_10ddb1b2dcedrow0_col0\" class=\"data row0 col0\" >District</td>\n                        <td id=\"T_0fdf52d8_99be_11eb_9353_10ddb1b2dcedrow0_col1\" class=\"data row0 col1\" >4976</td>\n                        <td id=\"T_0fdf52d8_99be_11eb_9353_10ddb1b2dcedrow0_col2\" class=\"data row0 col2\" >$3,124,928.00</td>\n                        <td id=\"T_0fdf52d8_99be_11eb_9353_10ddb1b2dcedrow0_col3\" class=\"data row0 col3\" >$628.00</td>\n                        <td id=\"T_0fdf52d8_99be_11eb_9353_10ddb1b2dcedrow0_col4\" class=\"data row0 col4\" >77.05</td>\n                        <td id=\"T_0fdf52d8_99be_11eb_9353_10ddb1b2dcedrow0_col5\" class=\"data row0 col5\" >81.03</td>\n                        <td id=\"T_0fdf52d8_99be_11eb_9353_10ddb1b2dcedrow0_col6\" class=\"data row0 col6\" >66.68</td>\n                        <td id=\"T_0fdf52d8_99be_11eb_9353_10ddb1b2dcedrow0_col7\" class=\"data row0 col7\" >81.93</td>\n                        <td id=\"T_0fdf52d8_99be_11eb_9353_10ddb1b2dcedrow0_col8\" class=\"data row0 col8\" >54.64</td>\n            </tr>\n            <tr>\n                        <th id=\"T_0fdf52d8_99be_11eb_9353_10ddb1b2dcedlevel0_row1\" class=\"row_heading level0 row1\" >Cabrera High School</th>\n                        <td id=\"T_0fdf52d8_99be_11eb_9353_10ddb1b2dcedrow1_col0\" class=\"data row1 col0\" >Charter</td>\n                        <td id=\"T_0fdf52d8_99be_11eb_9353_10ddb1b2dcedrow1_col1\" class=\"data row1 col1\" >1858</td>\n                        <td id=\"T_0fdf52d8_99be_11eb_9353_10ddb1b2dcedrow1_col2\" class=\"data row1 col2\" >$1,081,356.00</td>\n                        <td id=\"T_0fdf52d8_99be_11eb_9353_10ddb1b2dcedrow1_col3\" class=\"data row1 col3\" >$582.00</td>\n                        <td id=\"T_0fdf52d8_99be_11eb_9353_10ddb1b2dcedrow1_col4\" class=\"data row1 col4\" >83.06</td>\n                        <td id=\"T_0fdf52d8_99be_11eb_9353_10ddb1b2dcedrow1_col5\" class=\"data row1 col5\" >83.98</td>\n                        <td id=\"T_0fdf52d8_99be_11eb_9353_10ddb1b2dcedrow1_col6\" class=\"data row1 col6\" >94.13</td>\n                        <td id=\"T_0fdf52d8_99be_11eb_9353_10ddb1b2dcedrow1_col7\" class=\"data row1 col7\" >97.04</td>\n                        <td id=\"T_0fdf52d8_99be_11eb_9353_10ddb1b2dcedrow1_col8\" class=\"data row1 col8\" >91.33</td>\n            </tr>\n            <tr>\n                        <th id=\"T_0fdf52d8_99be_11eb_9353_10ddb1b2dcedlevel0_row2\" class=\"row_heading level0 row2\" >Figueroa High School</th>\n                        <td id=\"T_0fdf52d8_99be_11eb_9353_10ddb1b2dcedrow2_col0\" class=\"data row2 col0\" >District</td>\n                        <td id=\"T_0fdf52d8_99be_11eb_9353_10ddb1b2dcedrow2_col1\" class=\"data row2 col1\" >2949</td>\n                        <td id=\"T_0fdf52d8_99be_11eb_9353_10ddb1b2dcedrow2_col2\" class=\"data row2 col2\" >$1,884,411.00</td>\n                        <td id=\"T_0fdf52d8_99be_11eb_9353_10ddb1b2dcedrow2_col3\" class=\"data row2 col3\" >$639.00</td>\n                        <td id=\"T_0fdf52d8_99be_11eb_9353_10ddb1b2dcedrow2_col4\" class=\"data row2 col4\" >76.71</td>\n                        <td id=\"T_0fdf52d8_99be_11eb_9353_10ddb1b2dcedrow2_col5\" class=\"data row2 col5\" >81.16</td>\n                        <td id=\"T_0fdf52d8_99be_11eb_9353_10ddb1b2dcedrow2_col6\" class=\"data row2 col6\" >65.99</td>\n                        <td id=\"T_0fdf52d8_99be_11eb_9353_10ddb1b2dcedrow2_col7\" class=\"data row2 col7\" >80.74</td>\n                        <td id=\"T_0fdf52d8_99be_11eb_9353_10ddb1b2dcedrow2_col8\" class=\"data row2 col8\" >53.20</td>\n            </tr>\n            <tr>\n                        <th id=\"T_0fdf52d8_99be_11eb_9353_10ddb1b2dcedlevel0_row3\" class=\"row_heading level0 row3\" >Ford High School</th>\n                        <td id=\"T_0fdf52d8_99be_11eb_9353_10ddb1b2dcedrow3_col0\" class=\"data row3 col0\" >District</td>\n                        <td id=\"T_0fdf52d8_99be_11eb_9353_10ddb1b2dcedrow3_col1\" class=\"data row3 col1\" >2739</td>\n                        <td id=\"T_0fdf52d8_99be_11eb_9353_10ddb1b2dcedrow3_col2\" class=\"data row3 col2\" >$1,763,916.00</td>\n                        <td id=\"T_0fdf52d8_99be_11eb_9353_10ddb1b2dcedrow3_col3\" class=\"data row3 col3\" >$644.00</td>\n                        <td id=\"T_0fdf52d8_99be_11eb_9353_10ddb1b2dcedrow3_col4\" class=\"data row3 col4\" >77.10</td>\n                        <td id=\"T_0fdf52d8_99be_11eb_9353_10ddb1b2dcedrow3_col5\" class=\"data row3 col5\" >80.75</td>\n                        <td id=\"T_0fdf52d8_99be_11eb_9353_10ddb1b2dcedrow3_col6\" class=\"data row3 col6\" >68.31</td>\n                        <td id=\"T_0fdf52d8_99be_11eb_9353_10ddb1b2dcedrow3_col7\" class=\"data row3 col7\" >79.30</td>\n                        <td id=\"T_0fdf52d8_99be_11eb_9353_10ddb1b2dcedrow3_col8\" class=\"data row3 col8\" >54.29</td>\n            </tr>\n            <tr>\n                        <th id=\"T_0fdf52d8_99be_11eb_9353_10ddb1b2dcedlevel0_row4\" class=\"row_heading level0 row4\" >Griffin High School</th>\n                        <td id=\"T_0fdf52d8_99be_11eb_9353_10ddb1b2dcedrow4_col0\" class=\"data row4 col0\" >Charter</td>\n                        <td id=\"T_0fdf52d8_99be_11eb_9353_10ddb1b2dcedrow4_col1\" class=\"data row4 col1\" >1468</td>\n                        <td id=\"T_0fdf52d8_99be_11eb_9353_10ddb1b2dcedrow4_col2\" class=\"data row4 col2\" >$917,500.00</td>\n                        <td id=\"T_0fdf52d8_99be_11eb_9353_10ddb1b2dcedrow4_col3\" class=\"data row4 col3\" >$625.00</td>\n                        <td id=\"T_0fdf52d8_99be_11eb_9353_10ddb1b2dcedrow4_col4\" class=\"data row4 col4\" >83.35</td>\n                        <td id=\"T_0fdf52d8_99be_11eb_9353_10ddb1b2dcedrow4_col5\" class=\"data row4 col5\" >83.82</td>\n                        <td id=\"T_0fdf52d8_99be_11eb_9353_10ddb1b2dcedrow4_col6\" class=\"data row4 col6\" >93.39</td>\n                        <td id=\"T_0fdf52d8_99be_11eb_9353_10ddb1b2dcedrow4_col7\" class=\"data row4 col7\" >97.14</td>\n                        <td id=\"T_0fdf52d8_99be_11eb_9353_10ddb1b2dcedrow4_col8\" class=\"data row4 col8\" >90.60</td>\n            </tr>\n            <tr>\n                        <th id=\"T_0fdf52d8_99be_11eb_9353_10ddb1b2dcedlevel0_row5\" class=\"row_heading level0 row5\" >Hernandez High School</th>\n                        <td id=\"T_0fdf52d8_99be_11eb_9353_10ddb1b2dcedrow5_col0\" class=\"data row5 col0\" >District</td>\n                        <td id=\"T_0fdf52d8_99be_11eb_9353_10ddb1b2dcedrow5_col1\" class=\"data row5 col1\" >4635</td>\n                        <td id=\"T_0fdf52d8_99be_11eb_9353_10ddb1b2dcedrow5_col2\" class=\"data row5 col2\" >$3,022,020.00</td>\n                        <td id=\"T_0fdf52d8_99be_11eb_9353_10ddb1b2dcedrow5_col3\" class=\"data row5 col3\" >$652.00</td>\n                        <td id=\"T_0fdf52d8_99be_11eb_9353_10ddb1b2dcedrow5_col4\" class=\"data row5 col4\" >77.29</td>\n                        <td id=\"T_0fdf52d8_99be_11eb_9353_10ddb1b2dcedrow5_col5\" class=\"data row5 col5\" >80.93</td>\n                        <td id=\"T_0fdf52d8_99be_11eb_9353_10ddb1b2dcedrow5_col6\" class=\"data row5 col6\" >66.75</td>\n                        <td id=\"T_0fdf52d8_99be_11eb_9353_10ddb1b2dcedrow5_col7\" class=\"data row5 col7\" >80.86</td>\n                        <td id=\"T_0fdf52d8_99be_11eb_9353_10ddb1b2dcedrow5_col8\" class=\"data row5 col8\" >53.53</td>\n            </tr>\n            <tr>\n                        <th id=\"T_0fdf52d8_99be_11eb_9353_10ddb1b2dcedlevel0_row6\" class=\"row_heading level0 row6\" >Holden High School</th>\n                        <td id=\"T_0fdf52d8_99be_11eb_9353_10ddb1b2dcedrow6_col0\" class=\"data row6 col0\" >Charter</td>\n                        <td id=\"T_0fdf52d8_99be_11eb_9353_10ddb1b2dcedrow6_col1\" class=\"data row6 col1\" >427</td>\n                        <td id=\"T_0fdf52d8_99be_11eb_9353_10ddb1b2dcedrow6_col2\" class=\"data row6 col2\" >$248,087.00</td>\n                        <td id=\"T_0fdf52d8_99be_11eb_9353_10ddb1b2dcedrow6_col3\" class=\"data row6 col3\" >$581.00</td>\n                        <td id=\"T_0fdf52d8_99be_11eb_9353_10ddb1b2dcedrow6_col4\" class=\"data row6 col4\" >83.80</td>\n                        <td id=\"T_0fdf52d8_99be_11eb_9353_10ddb1b2dcedrow6_col5\" class=\"data row6 col5\" >83.81</td>\n                        <td id=\"T_0fdf52d8_99be_11eb_9353_10ddb1b2dcedrow6_col6\" class=\"data row6 col6\" >92.51</td>\n                        <td id=\"T_0fdf52d8_99be_11eb_9353_10ddb1b2dcedrow6_col7\" class=\"data row6 col7\" >96.25</td>\n                        <td id=\"T_0fdf52d8_99be_11eb_9353_10ddb1b2dcedrow6_col8\" class=\"data row6 col8\" >89.23</td>\n            </tr>\n            <tr>\n                        <th id=\"T_0fdf52d8_99be_11eb_9353_10ddb1b2dcedlevel0_row7\" class=\"row_heading level0 row7\" >Huang High School</th>\n                        <td id=\"T_0fdf52d8_99be_11eb_9353_10ddb1b2dcedrow7_col0\" class=\"data row7 col0\" >District</td>\n                        <td id=\"T_0fdf52d8_99be_11eb_9353_10ddb1b2dcedrow7_col1\" class=\"data row7 col1\" >2917</td>\n                        <td id=\"T_0fdf52d8_99be_11eb_9353_10ddb1b2dcedrow7_col2\" class=\"data row7 col2\" >$1,910,635.00</td>\n                        <td id=\"T_0fdf52d8_99be_11eb_9353_10ddb1b2dcedrow7_col3\" class=\"data row7 col3\" >$655.00</td>\n                        <td id=\"T_0fdf52d8_99be_11eb_9353_10ddb1b2dcedrow7_col4\" class=\"data row7 col4\" >76.63</td>\n                        <td id=\"T_0fdf52d8_99be_11eb_9353_10ddb1b2dcedrow7_col5\" class=\"data row7 col5\" >81.18</td>\n                        <td id=\"T_0fdf52d8_99be_11eb_9353_10ddb1b2dcedrow7_col6\" class=\"data row7 col6\" >65.68</td>\n                        <td id=\"T_0fdf52d8_99be_11eb_9353_10ddb1b2dcedrow7_col7\" class=\"data row7 col7\" >81.32</td>\n                        <td id=\"T_0fdf52d8_99be_11eb_9353_10ddb1b2dcedrow7_col8\" class=\"data row7 col8\" >53.51</td>\n            </tr>\n            <tr>\n                        <th id=\"T_0fdf52d8_99be_11eb_9353_10ddb1b2dcedlevel0_row8\" class=\"row_heading level0 row8\" >Johnson High School</th>\n                        <td id=\"T_0fdf52d8_99be_11eb_9353_10ddb1b2dcedrow8_col0\" class=\"data row8 col0\" >District</td>\n                        <td id=\"T_0fdf52d8_99be_11eb_9353_10ddb1b2dcedrow8_col1\" class=\"data row8 col1\" >4761</td>\n                        <td id=\"T_0fdf52d8_99be_11eb_9353_10ddb1b2dcedrow8_col2\" class=\"data row8 col2\" >$3,094,650.00</td>\n                        <td id=\"T_0fdf52d8_99be_11eb_9353_10ddb1b2dcedrow8_col3\" class=\"data row8 col3\" >$650.00</td>\n                        <td id=\"T_0fdf52d8_99be_11eb_9353_10ddb1b2dcedrow8_col4\" class=\"data row8 col4\" >77.07</td>\n                        <td id=\"T_0fdf52d8_99be_11eb_9353_10ddb1b2dcedrow8_col5\" class=\"data row8 col5\" >80.97</td>\n                        <td id=\"T_0fdf52d8_99be_11eb_9353_10ddb1b2dcedrow8_col6\" class=\"data row8 col6\" >66.06</td>\n                        <td id=\"T_0fdf52d8_99be_11eb_9353_10ddb1b2dcedrow8_col7\" class=\"data row8 col7\" >81.22</td>\n                        <td id=\"T_0fdf52d8_99be_11eb_9353_10ddb1b2dcedrow8_col8\" class=\"data row8 col8\" >53.54</td>\n            </tr>\n            <tr>\n                        <th id=\"T_0fdf52d8_99be_11eb_9353_10ddb1b2dcedlevel0_row9\" class=\"row_heading level0 row9\" >Pena High School</th>\n                        <td id=\"T_0fdf52d8_99be_11eb_9353_10ddb1b2dcedrow9_col0\" class=\"data row9 col0\" >Charter</td>\n                        <td id=\"T_0fdf52d8_99be_11eb_9353_10ddb1b2dcedrow9_col1\" class=\"data row9 col1\" >962</td>\n                        <td id=\"T_0fdf52d8_99be_11eb_9353_10ddb1b2dcedrow9_col2\" class=\"data row9 col2\" >$585,858.00</td>\n                        <td id=\"T_0fdf52d8_99be_11eb_9353_10ddb1b2dcedrow9_col3\" class=\"data row9 col3\" >$609.00</td>\n                        <td id=\"T_0fdf52d8_99be_11eb_9353_10ddb1b2dcedrow9_col4\" class=\"data row9 col4\" >83.84</td>\n                        <td id=\"T_0fdf52d8_99be_11eb_9353_10ddb1b2dcedrow9_col5\" class=\"data row9 col5\" >84.04</td>\n                        <td id=\"T_0fdf52d8_99be_11eb_9353_10ddb1b2dcedrow9_col6\" class=\"data row9 col6\" >94.59</td>\n                        <td id=\"T_0fdf52d8_99be_11eb_9353_10ddb1b2dcedrow9_col7\" class=\"data row9 col7\" >95.95</td>\n                        <td id=\"T_0fdf52d8_99be_11eb_9353_10ddb1b2dcedrow9_col8\" class=\"data row9 col8\" >90.54</td>\n            </tr>\n            <tr>\n                        <th id=\"T_0fdf52d8_99be_11eb_9353_10ddb1b2dcedlevel0_row10\" class=\"row_heading level0 row10\" >Rodriguez High School</th>\n                        <td id=\"T_0fdf52d8_99be_11eb_9353_10ddb1b2dcedrow10_col0\" class=\"data row10 col0\" >District</td>\n                        <td id=\"T_0fdf52d8_99be_11eb_9353_10ddb1b2dcedrow10_col1\" class=\"data row10 col1\" >3999</td>\n                        <td id=\"T_0fdf52d8_99be_11eb_9353_10ddb1b2dcedrow10_col2\" class=\"data row10 col2\" >$2,547,363.00</td>\n                        <td id=\"T_0fdf52d8_99be_11eb_9353_10ddb1b2dcedrow10_col3\" class=\"data row10 col3\" >$637.00</td>\n                        <td id=\"T_0fdf52d8_99be_11eb_9353_10ddb1b2dcedrow10_col4\" class=\"data row10 col4\" >76.84</td>\n                        <td id=\"T_0fdf52d8_99be_11eb_9353_10ddb1b2dcedrow10_col5\" class=\"data row10 col5\" >80.74</td>\n                        <td id=\"T_0fdf52d8_99be_11eb_9353_10ddb1b2dcedrow10_col6\" class=\"data row10 col6\" >66.37</td>\n                        <td id=\"T_0fdf52d8_99be_11eb_9353_10ddb1b2dcedrow10_col7\" class=\"data row10 col7\" >80.22</td>\n                        <td id=\"T_0fdf52d8_99be_11eb_9353_10ddb1b2dcedrow10_col8\" class=\"data row10 col8\" >52.99</td>\n            </tr>\n            <tr>\n                        <th id=\"T_0fdf52d8_99be_11eb_9353_10ddb1b2dcedlevel0_row11\" class=\"row_heading level0 row11\" >Shelton High School</th>\n                        <td id=\"T_0fdf52d8_99be_11eb_9353_10ddb1b2dcedrow11_col0\" class=\"data row11 col0\" >Charter</td>\n                        <td id=\"T_0fdf52d8_99be_11eb_9353_10ddb1b2dcedrow11_col1\" class=\"data row11 col1\" >1761</td>\n                        <td id=\"T_0fdf52d8_99be_11eb_9353_10ddb1b2dcedrow11_col2\" class=\"data row11 col2\" >$1,056,600.00</td>\n                        <td id=\"T_0fdf52d8_99be_11eb_9353_10ddb1b2dcedrow11_col3\" class=\"data row11 col3\" >$600.00</td>\n                        <td id=\"T_0fdf52d8_99be_11eb_9353_10ddb1b2dcedrow11_col4\" class=\"data row11 col4\" >83.36</td>\n                        <td id=\"T_0fdf52d8_99be_11eb_9353_10ddb1b2dcedrow11_col5\" class=\"data row11 col5\" >83.73</td>\n                        <td id=\"T_0fdf52d8_99be_11eb_9353_10ddb1b2dcedrow11_col6\" class=\"data row11 col6\" >93.87</td>\n                        <td id=\"T_0fdf52d8_99be_11eb_9353_10ddb1b2dcedrow11_col7\" class=\"data row11 col7\" >95.85</td>\n                        <td id=\"T_0fdf52d8_99be_11eb_9353_10ddb1b2dcedrow11_col8\" class=\"data row11 col8\" >89.89</td>\n            </tr>\n            <tr>\n                        <th id=\"T_0fdf52d8_99be_11eb_9353_10ddb1b2dcedlevel0_row12\" class=\"row_heading level0 row12\" >Thomas High School</th>\n                        <td id=\"T_0fdf52d8_99be_11eb_9353_10ddb1b2dcedrow12_col0\" class=\"data row12 col0\" >Charter</td>\n                        <td id=\"T_0fdf52d8_99be_11eb_9353_10ddb1b2dcedrow12_col1\" class=\"data row12 col1\" >1635</td>\n                        <td id=\"T_0fdf52d8_99be_11eb_9353_10ddb1b2dcedrow12_col2\" class=\"data row12 col2\" >$1,043,130.00</td>\n                        <td id=\"T_0fdf52d8_99be_11eb_9353_10ddb1b2dcedrow12_col3\" class=\"data row12 col3\" >$638.00</td>\n                        <td id=\"T_0fdf52d8_99be_11eb_9353_10ddb1b2dcedrow12_col4\" class=\"data row12 col4\" >83.42</td>\n                        <td id=\"T_0fdf52d8_99be_11eb_9353_10ddb1b2dcedrow12_col5\" class=\"data row12 col5\" >83.85</td>\n                        <td id=\"T_0fdf52d8_99be_11eb_9353_10ddb1b2dcedrow12_col6\" class=\"data row12 col6\" >93.27</td>\n                        <td id=\"T_0fdf52d8_99be_11eb_9353_10ddb1b2dcedrow12_col7\" class=\"data row12 col7\" >97.31</td>\n                        <td id=\"T_0fdf52d8_99be_11eb_9353_10ddb1b2dcedrow12_col8\" class=\"data row12 col8\" >90.95</td>\n            </tr>\n            <tr>\n                        <th id=\"T_0fdf52d8_99be_11eb_9353_10ddb1b2dcedlevel0_row13\" class=\"row_heading level0 row13\" >Wilson High School</th>\n                        <td id=\"T_0fdf52d8_99be_11eb_9353_10ddb1b2dcedrow13_col0\" class=\"data row13 col0\" >Charter</td>\n                        <td id=\"T_0fdf52d8_99be_11eb_9353_10ddb1b2dcedrow13_col1\" class=\"data row13 col1\" >2283</td>\n                        <td id=\"T_0fdf52d8_99be_11eb_9353_10ddb1b2dcedrow13_col2\" class=\"data row13 col2\" >$1,319,574.00</td>\n                        <td id=\"T_0fdf52d8_99be_11eb_9353_10ddb1b2dcedrow13_col3\" class=\"data row13 col3\" >$578.00</td>\n                        <td id=\"T_0fdf52d8_99be_11eb_9353_10ddb1b2dcedrow13_col4\" class=\"data row13 col4\" >83.27</td>\n                        <td id=\"T_0fdf52d8_99be_11eb_9353_10ddb1b2dcedrow13_col5\" class=\"data row13 col5\" >83.99</td>\n                        <td id=\"T_0fdf52d8_99be_11eb_9353_10ddb1b2dcedrow13_col6\" class=\"data row13 col6\" >93.87</td>\n                        <td id=\"T_0fdf52d8_99be_11eb_9353_10ddb1b2dcedrow13_col7\" class=\"data row13 col7\" >96.54</td>\n                        <td id=\"T_0fdf52d8_99be_11eb_9353_10ddb1b2dcedrow13_col8\" class=\"data row13 col8\" >90.58</td>\n            </tr>\n            <tr>\n                        <th id=\"T_0fdf52d8_99be_11eb_9353_10ddb1b2dcedlevel0_row14\" class=\"row_heading level0 row14\" >Wright High School</th>\n                        <td id=\"T_0fdf52d8_99be_11eb_9353_10ddb1b2dcedrow14_col0\" class=\"data row14 col0\" >Charter</td>\n                        <td id=\"T_0fdf52d8_99be_11eb_9353_10ddb1b2dcedrow14_col1\" class=\"data row14 col1\" >1800</td>\n                        <td id=\"T_0fdf52d8_99be_11eb_9353_10ddb1b2dcedrow14_col2\" class=\"data row14 col2\" >$1,049,400.00</td>\n                        <td id=\"T_0fdf52d8_99be_11eb_9353_10ddb1b2dcedrow14_col3\" class=\"data row14 col3\" >$583.00</td>\n                        <td id=\"T_0fdf52d8_99be_11eb_9353_10ddb1b2dcedrow14_col4\" class=\"data row14 col4\" >83.68</td>\n                        <td id=\"T_0fdf52d8_99be_11eb_9353_10ddb1b2dcedrow14_col5\" class=\"data row14 col5\" >83.96</td>\n                        <td id=\"T_0fdf52d8_99be_11eb_9353_10ddb1b2dcedrow14_col6\" class=\"data row14 col6\" >93.33</td>\n                        <td id=\"T_0fdf52d8_99be_11eb_9353_10ddb1b2dcedrow14_col7\" class=\"data row14 col7\" >96.61</td>\n                        <td id=\"T_0fdf52d8_99be_11eb_9353_10ddb1b2dcedrow14_col8\" class=\"data row14 col8\" >90.33</td>\n            </tr>\n    </tbody></table>"
     },
     "metadata": {},
     "execution_count": 1272
    }
   ],
   "source": [
    "#School Summary\n",
    "\n",
    "reformat_combined_district_df = combined_district_df.copy()\n",
    "reformat_combined_district_df['Total School Budget'] = reformat_combined_district_df['Total School Budget'].map('${:,.2f}'.format)\n",
    "reformat_combined_district_df['Avg Math Score'] = reformat_combined_district_df['Avg Math Score'].map('{:.2f}'.format)\n",
    "reformat_combined_district_df['Avg Reading Score'] = reformat_combined_district_df['Avg Reading Score'].map('{:.2f}'.format)\n",
    "reformat_combined_district_df['% Passing Math'] = reformat_combined_district_df['% Passing Math'].map('{:.2f}'.format)\n",
    "reformat_combined_district_df['% Passing Reading'] = reformat_combined_district_df['% Passing Reading'].map('{:.2f}'.format)\n",
    "reformat_combined_district_df['% Overall Passing'] = reformat_combined_district_df['% Overall Passing'].map('{:.2f}'.format)\n",
    "reformat_combined_district_df['Per Student Budget'] = reformat_combined_district_df['Per Student Budget'].map('${:,.2f}'.format)\n",
    "#reformat_combined_district_df.style.background_gradient(cmap='coolwarm')\n",
    "def color_type(value):\n",
    "    color = \"green\" if value == \"District\" else 'black'\n",
    "    return 'color: %s' % color\n",
    "reformat_combined_district_df.style.applymap(color_type)\n",
    "# reformat_combined_district_df"
   ]
  },
  {
   "cell_type": "code",
   "execution_count": 1270,
   "metadata": {},
   "outputs": [],
   "source": [
    "#School Summary: Top 5 by Overall Passing"
   ]
  }
 ]
}