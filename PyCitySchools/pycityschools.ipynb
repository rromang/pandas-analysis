{
 "metadata": {
  "language_info": {
   "codemirror_mode": {
    "name": "ipython",
    "version": 3
   },
   "file_extension": ".py",
   "mimetype": "text/x-python",
   "name": "python",
   "nbconvert_exporter": "python",
   "pygments_lexer": "ipython3",
   "version": "3.7.9-final"
  },
  "orig_nbformat": 2,
  "kernelspec": {
   "name": "python3",
   "display_name": "Python 3.7.9 64-bit ('PythonData': conda)",
   "metadata": {
    "interpreter": {
     "hash": "e3896c66a75c41725fea970d0c2a2982cf91def990c8dcb709e7b9c0cc3a398d"
    }
   }
  }
 },
 "nbformat": 4,
 "nbformat_minor": 2,
 "cells": [
  {
   "cell_type": "code",
   "execution_count": 265,
   "metadata": {},
   "outputs": [],
   "source": [
    "#District Summary\n",
    "\n",
    "# Create a high level snapshot (in table form) of the district's key metrics, including:\n",
    "\n",
    "# Total Schools\n",
    "# Total Students\n",
    "# Total Budget\n",
    "# Average Math Score\n",
    "# Average Reading Score\n",
    "# % Passing Math (The percentage of students that passed math.)\n",
    "# % Passing Reading (The percentage of students that passed reading.)\n",
    "# % Overall Passing (The percentage of students that passed math and reading.)."
   ]
  },
  {
   "cell_type": "code",
   "execution_count": 266,
   "metadata": {},
   "outputs": [],
   "source": [
    "import pandas as pd\n",
    "import numpy as np"
   ]
  },
  {
   "cell_type": "code",
   "execution_count": 267,
   "metadata": {},
   "outputs": [
    {
     "output_type": "execute_result",
     "data": {
      "text/plain": [
       "   School ID           school_name      type  size   budget\n",
       "0          0     Huang High School  District  2917  1910635\n",
       "1          1  Figueroa High School  District  2949  1884411\n",
       "2          2   Shelton High School   Charter  1761  1056600"
      ],
      "text/html": "<div>\n<style scoped>\n    .dataframe tbody tr th:only-of-type {\n        vertical-align: middle;\n    }\n\n    .dataframe tbody tr th {\n        vertical-align: top;\n    }\n\n    .dataframe thead th {\n        text-align: right;\n    }\n</style>\n<table border=\"1\" class=\"dataframe\">\n  <thead>\n    <tr style=\"text-align: right;\">\n      <th></th>\n      <th>School ID</th>\n      <th>school_name</th>\n      <th>type</th>\n      <th>size</th>\n      <th>budget</th>\n    </tr>\n  </thead>\n  <tbody>\n    <tr>\n      <th>0</th>\n      <td>0</td>\n      <td>Huang High School</td>\n      <td>District</td>\n      <td>2917</td>\n      <td>1910635</td>\n    </tr>\n    <tr>\n      <th>1</th>\n      <td>1</td>\n      <td>Figueroa High School</td>\n      <td>District</td>\n      <td>2949</td>\n      <td>1884411</td>\n    </tr>\n    <tr>\n      <th>2</th>\n      <td>2</td>\n      <td>Shelton High School</td>\n      <td>Charter</td>\n      <td>1761</td>\n      <td>1056600</td>\n    </tr>\n  </tbody>\n</table>\n</div>"
     },
     "metadata": {},
     "execution_count": 267
    }
   ],
   "source": [
    "#reading school csv to dataframe\n",
    "schools_path = r\"/Users/rosaicelaroman/Desktop/Data_BootCamp/LearnPython/pandas-challenge/PyCitySchools/Resources/schools_complete.csv\"\n",
    "schools_df = pd.read_csv(schools_path)\n",
    "schools_df.head(3)"
   ]
  },
  {
   "cell_type": "code",
   "execution_count": 268,
   "metadata": {},
   "outputs": [
    {
     "output_type": "execute_result",
     "data": {
      "text/plain": [
       "   Student ID     student_name gender grade        school_name  reading_score  \\\n",
       "0           0     Paul Bradley      M   9th  Huang High School             66   \n",
       "1           1     Victor Smith      M  12th  Huang High School             94   \n",
       "2           2  Kevin Rodriguez      M  12th  Huang High School             90   \n",
       "\n",
       "   math_score  \n",
       "0          79  \n",
       "1          61  \n",
       "2          60  "
      ],
      "text/html": "<div>\n<style scoped>\n    .dataframe tbody tr th:only-of-type {\n        vertical-align: middle;\n    }\n\n    .dataframe tbody tr th {\n        vertical-align: top;\n    }\n\n    .dataframe thead th {\n        text-align: right;\n    }\n</style>\n<table border=\"1\" class=\"dataframe\">\n  <thead>\n    <tr style=\"text-align: right;\">\n      <th></th>\n      <th>Student ID</th>\n      <th>student_name</th>\n      <th>gender</th>\n      <th>grade</th>\n      <th>school_name</th>\n      <th>reading_score</th>\n      <th>math_score</th>\n    </tr>\n  </thead>\n  <tbody>\n    <tr>\n      <th>0</th>\n      <td>0</td>\n      <td>Paul Bradley</td>\n      <td>M</td>\n      <td>9th</td>\n      <td>Huang High School</td>\n      <td>66</td>\n      <td>79</td>\n    </tr>\n    <tr>\n      <th>1</th>\n      <td>1</td>\n      <td>Victor Smith</td>\n      <td>M</td>\n      <td>12th</td>\n      <td>Huang High School</td>\n      <td>94</td>\n      <td>61</td>\n    </tr>\n    <tr>\n      <th>2</th>\n      <td>2</td>\n      <td>Kevin Rodriguez</td>\n      <td>M</td>\n      <td>12th</td>\n      <td>Huang High School</td>\n      <td>90</td>\n      <td>60</td>\n    </tr>\n  </tbody>\n</table>\n</div>"
     },
     "metadata": {},
     "execution_count": 268
    }
   ],
   "source": [
    "#reading students csv to dataframe\n",
    "schools_path = r\"/Users/rosaicelaroman/Desktop/Data_BootCamp/LearnPython/pandas-challenge/PyCitySchools/Resources/students_complete.csv\"\n",
    "students_df = pd.read_csv(schools_path)\n",
    "students_df.head(3)"
   ]
  },
  {
   "cell_type": "code",
   "execution_count": 269,
   "metadata": {},
   "outputs": [
    {
     "output_type": "stream",
     "name": "stdout",
     "text": [
      "<class 'pandas.core.frame.DataFrame'>\nRangeIndex: 15 entries, 0 to 14\nData columns (total 5 columns):\n #   Column       Non-Null Count  Dtype \n---  ------       --------------  ----- \n 0   School ID    15 non-null     int64 \n 1   school_name  15 non-null     object\n 2   type         15 non-null     object\n 3   size         15 non-null     int64 \n 4   budget       15 non-null     int64 \ndtypes: int64(3), object(2)\nmemory usage: 728.0+ bytes\n"
     ]
    },
    {
     "output_type": "execute_result",
     "data": {
      "text/plain": [
       "Index(['School ID', 'school_name', 'type', 'size', 'budget'], dtype='object')"
      ]
     },
     "metadata": {},
     "execution_count": 269
    }
   ],
   "source": [
    "#district summary\n",
    "#--------------------------------\n",
    "#dataframe info\n",
    "schools_df.info()\n",
    "schools_df.columns"
   ]
  },
  {
   "cell_type": "code",
   "execution_count": 270,
   "metadata": {},
   "outputs": [
    {
     "output_type": "execute_result",
     "data": {
      "text/plain": [
       "15"
      ]
     },
     "metadata": {},
     "execution_count": 270
    }
   ],
   "source": [
    "#total schools\n",
    "total_schools = schools_df[\"school_name\"].count()\n",
    "total_schools"
   ]
  },
  {
   "cell_type": "code",
   "execution_count": 271,
   "metadata": {},
   "outputs": [
    {
     "output_type": "execute_result",
     "data": {
      "text/plain": [
       "'39,170'"
      ]
     },
     "metadata": {},
     "execution_count": 271
    }
   ],
   "source": [
    "#total students\n",
    "total_students = schools_df[\"size\"].sum()\n",
    "total_students = \"{:,}\".format(total_students)\n",
    "total_students"
   ]
  },
  {
   "cell_type": "code",
   "execution_count": 272,
   "metadata": {},
   "outputs": [
    {
     "output_type": "execute_result",
     "data": {
      "text/plain": [
       "'$24,649,428'"
      ]
     },
     "metadata": {},
     "execution_count": 272
    }
   ],
   "source": [
    "#total budget\n",
    "total_budget = schools_df[\"budget\"].sum()\n",
    "total_budget = \"${:,}\".format(total_budget)\n",
    "total_budget"
   ]
  },
  {
   "cell_type": "code",
   "execution_count": 273,
   "metadata": {},
   "outputs": [
    {
     "output_type": "execute_result",
     "data": {
      "text/plain": [
       "Index(['Student ID', 'student_name', 'gender', 'grade', 'school_name',\n",
       "       'reading_score', 'math_score'],\n",
       "      dtype='object')"
      ]
     },
     "metadata": {},
     "execution_count": 273
    }
   ],
   "source": [
    "#calculate average math score\n",
    "students_df.columns"
   ]
  },
  {
   "cell_type": "code",
   "execution_count": 274,
   "metadata": {},
   "outputs": [
    {
     "output_type": "execute_result",
     "data": {
      "text/plain": [
       "78.99"
      ]
     },
     "metadata": {},
     "execution_count": 274
    }
   ],
   "source": [
    "avg_math = round(students_df['math_score'].mean(),2)\n",
    "avg_math"
   ]
  },
  {
   "cell_type": "code",
   "execution_count": 275,
   "metadata": {},
   "outputs": [
    {
     "output_type": "execute_result",
     "data": {
      "text/plain": [
       "81.88"
      ]
     },
     "metadata": {},
     "execution_count": 275
    }
   ],
   "source": [
    "#calculate average reading score\n",
    "avg_reading = round(students_df['reading_score'].mean(),2)\n",
    "avg_reading"
   ]
  },
  {
   "cell_type": "code",
   "execution_count": 276,
   "metadata": {},
   "outputs": [
    {
     "output_type": "execute_result",
     "data": {
      "text/plain": [
       "       Student ID       student_name gender grade         school_name  \\\n",
       "0               0       Paul Bradley      M   9th   Huang High School   \n",
       "1               1       Victor Smith      M  12th   Huang High School   \n",
       "2               2    Kevin Rodriguez      M  12th   Huang High School   \n",
       "3               3  Dr. Richard Scott      M  12th   Huang High School   \n",
       "4               4         Bonnie Ray      F   9th   Huang High School   \n",
       "...           ...                ...    ...   ...                 ...   \n",
       "39165       39165       Donna Howard      F  12th  Thomas High School   \n",
       "39166       39166          Dawn Bell      F  10th  Thomas High School   \n",
       "39167       39167     Rebecca Tanner      F   9th  Thomas High School   \n",
       "39168       39168       Desiree Kidd      F  10th  Thomas High School   \n",
       "39169       39169    Carolyn Jackson      F  11th  Thomas High School   \n",
       "\n",
       "      reading_score   math_score  \n",
       "0       not passing      passing  \n",
       "1           passing  not passing  \n",
       "2           passing  not passing  \n",
       "3       not passing  not passing  \n",
       "4           passing      passing  \n",
       "...             ...          ...  \n",
       "39165       passing      passing  \n",
       "39166       passing      passing  \n",
       "39167       passing      passing  \n",
       "39168       passing      passing  \n",
       "39169       passing      passing  \n",
       "\n",
       "[39170 rows x 7 columns]"
      ],
      "text/html": "<div>\n<style scoped>\n    .dataframe tbody tr th:only-of-type {\n        vertical-align: middle;\n    }\n\n    .dataframe tbody tr th {\n        vertical-align: top;\n    }\n\n    .dataframe thead th {\n        text-align: right;\n    }\n</style>\n<table border=\"1\" class=\"dataframe\">\n  <thead>\n    <tr style=\"text-align: right;\">\n      <th></th>\n      <th>Student ID</th>\n      <th>student_name</th>\n      <th>gender</th>\n      <th>grade</th>\n      <th>school_name</th>\n      <th>reading_score</th>\n      <th>math_score</th>\n    </tr>\n  </thead>\n  <tbody>\n    <tr>\n      <th>0</th>\n      <td>0</td>\n      <td>Paul Bradley</td>\n      <td>M</td>\n      <td>9th</td>\n      <td>Huang High School</td>\n      <td>not passing</td>\n      <td>passing</td>\n    </tr>\n    <tr>\n      <th>1</th>\n      <td>1</td>\n      <td>Victor Smith</td>\n      <td>M</td>\n      <td>12th</td>\n      <td>Huang High School</td>\n      <td>passing</td>\n      <td>not passing</td>\n    </tr>\n    <tr>\n      <th>2</th>\n      <td>2</td>\n      <td>Kevin Rodriguez</td>\n      <td>M</td>\n      <td>12th</td>\n      <td>Huang High School</td>\n      <td>passing</td>\n      <td>not passing</td>\n    </tr>\n    <tr>\n      <th>3</th>\n      <td>3</td>\n      <td>Dr. Richard Scott</td>\n      <td>M</td>\n      <td>12th</td>\n      <td>Huang High School</td>\n      <td>not passing</td>\n      <td>not passing</td>\n    </tr>\n    <tr>\n      <th>4</th>\n      <td>4</td>\n      <td>Bonnie Ray</td>\n      <td>F</td>\n      <td>9th</td>\n      <td>Huang High School</td>\n      <td>passing</td>\n      <td>passing</td>\n    </tr>\n    <tr>\n      <th>...</th>\n      <td>...</td>\n      <td>...</td>\n      <td>...</td>\n      <td>...</td>\n      <td>...</td>\n      <td>...</td>\n      <td>...</td>\n    </tr>\n    <tr>\n      <th>39165</th>\n      <td>39165</td>\n      <td>Donna Howard</td>\n      <td>F</td>\n      <td>12th</td>\n      <td>Thomas High School</td>\n      <td>passing</td>\n      <td>passing</td>\n    </tr>\n    <tr>\n      <th>39166</th>\n      <td>39166</td>\n      <td>Dawn Bell</td>\n      <td>F</td>\n      <td>10th</td>\n      <td>Thomas High School</td>\n      <td>passing</td>\n      <td>passing</td>\n    </tr>\n    <tr>\n      <th>39167</th>\n      <td>39167</td>\n      <td>Rebecca Tanner</td>\n      <td>F</td>\n      <td>9th</td>\n      <td>Thomas High School</td>\n      <td>passing</td>\n      <td>passing</td>\n    </tr>\n    <tr>\n      <th>39168</th>\n      <td>39168</td>\n      <td>Desiree Kidd</td>\n      <td>F</td>\n      <td>10th</td>\n      <td>Thomas High School</td>\n      <td>passing</td>\n      <td>passing</td>\n    </tr>\n    <tr>\n      <th>39169</th>\n      <td>39169</td>\n      <td>Carolyn Jackson</td>\n      <td>F</td>\n      <td>11th</td>\n      <td>Thomas High School</td>\n      <td>passing</td>\n      <td>passing</td>\n    </tr>\n  </tbody>\n</table>\n<p>39170 rows × 7 columns</p>\n</div>"
     },
     "metadata": {},
     "execution_count": 276
    }
   ],
   "source": [
    "#* Calculate the percentage of students with a passing math score (70 or greater)\n",
    "bins = [0, 69,100]\n",
    "group_names = ['not passing','passing']\n",
    "copy_students_df = students_df.copy()\n",
    "copy_students_df['math_score']=pd.cut(copy_students_df['math_score'], bins, labels = group_names)\n",
    "copy_students_df['reading_score']=pd.cut(copy_students_df['reading_score'], bins, labels = group_names)\n",
    "copy_students_df"
   ]
  },
  {
   "cell_type": "code",
   "execution_count": 277,
   "metadata": {},
   "outputs": [
    {
     "output_type": "execute_result",
     "data": {
      "text/plain": [
       "    Student ID       student_name gender grade        school_name  \\\n",
       "0            0       Paul Bradley      M   9th  Huang High School   \n",
       "1            1       Victor Smith      M  12th  Huang High School   \n",
       "2            2    Kevin Rodriguez      M  12th  Huang High School   \n",
       "3            3  Dr. Richard Scott      M  12th  Huang High School   \n",
       "4            4         Bonnie Ray      F   9th  Huang High School   \n",
       "5            5      Bryan Miranda      M   9th  Huang High School   \n",
       "6            6      Sheena Carter      F  11th  Huang High School   \n",
       "7            7       Nicole Baker      F  12th  Huang High School   \n",
       "8            8       Michael Roth      M  10th  Huang High School   \n",
       "9            9     Matthew Greene      M  10th  Huang High School   \n",
       "10          10   Andrew Alexander      M  10th  Huang High School   \n",
       "11          11      Daniel Cooper      M  10th  Huang High School   \n",
       "12          12    Brittney Walker      F   9th  Huang High School   \n",
       "13          13       William Long      M   9th  Huang High School   \n",
       "14          14       Tammy Hebert      F  10th  Huang High School   \n",
       "15          15  Dr. Jordan Carson      M  11th  Huang High School   \n",
       "16          16      Donald Zamora      M   9th  Huang High School   \n",
       "17          17  Kimberly Santiago      F   9th  Huang High School   \n",
       "18          18      Kevin Stevens      M   9th  Huang High School   \n",
       "19          19       Brandi Lyons      F   9th  Huang High School   \n",
       "\n",
       "   reading_score   math_score overall_passing  \n",
       "0    not passing      passing     not passing  \n",
       "1        passing  not passing     not passing  \n",
       "2        passing  not passing     not passing  \n",
       "3    not passing  not passing     not passing  \n",
       "4        passing      passing         passing  \n",
       "5        passing      passing         passing  \n",
       "6        passing      passing         passing  \n",
       "7        passing  not passing     not passing  \n",
       "8        passing      passing         passing  \n",
       "9        passing      passing         passing  \n",
       "10       passing      passing         passing  \n",
       "11       passing      passing         passing  \n",
       "12   not passing      passing     not passing  \n",
       "13       passing      passing         passing  \n",
       "14       passing  not passing     not passing  \n",
       "15       passing      passing         passing  \n",
       "16       passing  not passing     not passing  \n",
       "17       passing      passing         passing  \n",
       "18   not passing  not passing     not passing  \n",
       "19       passing      passing         passing  "
      ],
      "text/html": "<div>\n<style scoped>\n    .dataframe tbody tr th:only-of-type {\n        vertical-align: middle;\n    }\n\n    .dataframe tbody tr th {\n        vertical-align: top;\n    }\n\n    .dataframe thead th {\n        text-align: right;\n    }\n</style>\n<table border=\"1\" class=\"dataframe\">\n  <thead>\n    <tr style=\"text-align: right;\">\n      <th></th>\n      <th>Student ID</th>\n      <th>student_name</th>\n      <th>gender</th>\n      <th>grade</th>\n      <th>school_name</th>\n      <th>reading_score</th>\n      <th>math_score</th>\n      <th>overall_passing</th>\n    </tr>\n  </thead>\n  <tbody>\n    <tr>\n      <th>0</th>\n      <td>0</td>\n      <td>Paul Bradley</td>\n      <td>M</td>\n      <td>9th</td>\n      <td>Huang High School</td>\n      <td>not passing</td>\n      <td>passing</td>\n      <td>not passing</td>\n    </tr>\n    <tr>\n      <th>1</th>\n      <td>1</td>\n      <td>Victor Smith</td>\n      <td>M</td>\n      <td>12th</td>\n      <td>Huang High School</td>\n      <td>passing</td>\n      <td>not passing</td>\n      <td>not passing</td>\n    </tr>\n    <tr>\n      <th>2</th>\n      <td>2</td>\n      <td>Kevin Rodriguez</td>\n      <td>M</td>\n      <td>12th</td>\n      <td>Huang High School</td>\n      <td>passing</td>\n      <td>not passing</td>\n      <td>not passing</td>\n    </tr>\n    <tr>\n      <th>3</th>\n      <td>3</td>\n      <td>Dr. Richard Scott</td>\n      <td>M</td>\n      <td>12th</td>\n      <td>Huang High School</td>\n      <td>not passing</td>\n      <td>not passing</td>\n      <td>not passing</td>\n    </tr>\n    <tr>\n      <th>4</th>\n      <td>4</td>\n      <td>Bonnie Ray</td>\n      <td>F</td>\n      <td>9th</td>\n      <td>Huang High School</td>\n      <td>passing</td>\n      <td>passing</td>\n      <td>passing</td>\n    </tr>\n    <tr>\n      <th>5</th>\n      <td>5</td>\n      <td>Bryan Miranda</td>\n      <td>M</td>\n      <td>9th</td>\n      <td>Huang High School</td>\n      <td>passing</td>\n      <td>passing</td>\n      <td>passing</td>\n    </tr>\n    <tr>\n      <th>6</th>\n      <td>6</td>\n      <td>Sheena Carter</td>\n      <td>F</td>\n      <td>11th</td>\n      <td>Huang High School</td>\n      <td>passing</td>\n      <td>passing</td>\n      <td>passing</td>\n    </tr>\n    <tr>\n      <th>7</th>\n      <td>7</td>\n      <td>Nicole Baker</td>\n      <td>F</td>\n      <td>12th</td>\n      <td>Huang High School</td>\n      <td>passing</td>\n      <td>not passing</td>\n      <td>not passing</td>\n    </tr>\n    <tr>\n      <th>8</th>\n      <td>8</td>\n      <td>Michael Roth</td>\n      <td>M</td>\n      <td>10th</td>\n      <td>Huang High School</td>\n      <td>passing</td>\n      <td>passing</td>\n      <td>passing</td>\n    </tr>\n    <tr>\n      <th>9</th>\n      <td>9</td>\n      <td>Matthew Greene</td>\n      <td>M</td>\n      <td>10th</td>\n      <td>Huang High School</td>\n      <td>passing</td>\n      <td>passing</td>\n      <td>passing</td>\n    </tr>\n    <tr>\n      <th>10</th>\n      <td>10</td>\n      <td>Andrew Alexander</td>\n      <td>M</td>\n      <td>10th</td>\n      <td>Huang High School</td>\n      <td>passing</td>\n      <td>passing</td>\n      <td>passing</td>\n    </tr>\n    <tr>\n      <th>11</th>\n      <td>11</td>\n      <td>Daniel Cooper</td>\n      <td>M</td>\n      <td>10th</td>\n      <td>Huang High School</td>\n      <td>passing</td>\n      <td>passing</td>\n      <td>passing</td>\n    </tr>\n    <tr>\n      <th>12</th>\n      <td>12</td>\n      <td>Brittney Walker</td>\n      <td>F</td>\n      <td>9th</td>\n      <td>Huang High School</td>\n      <td>not passing</td>\n      <td>passing</td>\n      <td>not passing</td>\n    </tr>\n    <tr>\n      <th>13</th>\n      <td>13</td>\n      <td>William Long</td>\n      <td>M</td>\n      <td>9th</td>\n      <td>Huang High School</td>\n      <td>passing</td>\n      <td>passing</td>\n      <td>passing</td>\n    </tr>\n    <tr>\n      <th>14</th>\n      <td>14</td>\n      <td>Tammy Hebert</td>\n      <td>F</td>\n      <td>10th</td>\n      <td>Huang High School</td>\n      <td>passing</td>\n      <td>not passing</td>\n      <td>not passing</td>\n    </tr>\n    <tr>\n      <th>15</th>\n      <td>15</td>\n      <td>Dr. Jordan Carson</td>\n      <td>M</td>\n      <td>11th</td>\n      <td>Huang High School</td>\n      <td>passing</td>\n      <td>passing</td>\n      <td>passing</td>\n    </tr>\n    <tr>\n      <th>16</th>\n      <td>16</td>\n      <td>Donald Zamora</td>\n      <td>M</td>\n      <td>9th</td>\n      <td>Huang High School</td>\n      <td>passing</td>\n      <td>not passing</td>\n      <td>not passing</td>\n    </tr>\n    <tr>\n      <th>17</th>\n      <td>17</td>\n      <td>Kimberly Santiago</td>\n      <td>F</td>\n      <td>9th</td>\n      <td>Huang High School</td>\n      <td>passing</td>\n      <td>passing</td>\n      <td>passing</td>\n    </tr>\n    <tr>\n      <th>18</th>\n      <td>18</td>\n      <td>Kevin Stevens</td>\n      <td>M</td>\n      <td>9th</td>\n      <td>Huang High School</td>\n      <td>not passing</td>\n      <td>not passing</td>\n      <td>not passing</td>\n    </tr>\n    <tr>\n      <th>19</th>\n      <td>19</td>\n      <td>Brandi Lyons</td>\n      <td>F</td>\n      <td>9th</td>\n      <td>Huang High School</td>\n      <td>passing</td>\n      <td>passing</td>\n      <td>passing</td>\n    </tr>\n  </tbody>\n</table>\n</div>"
     },
     "metadata": {},
     "execution_count": 277
    }
   ],
   "source": [
    "conditions = [(copy_students_df['reading_score'] == 'passing') & (copy_students_df['math_score'] == 'passing'), (copy_students_df['math_score'] != 'passing')]\n",
    "choices = ['passing', 'not passing']\n",
    "copy_students_df['overall_passing'] = np.select(conditions, choices, default = 'not passing')\n",
    "copy_students_df.head(20)"
   ]
  },
  {
   "cell_type": "code",
   "execution_count": 278,
   "metadata": {},
   "outputs": [],
   "source": [
    "# Calculate the percentage of students with a passing reading score (70 or greater)\n",
    "math_passing = copy_students_df['math_score'].value_counts()"
   ]
  },
  {
   "cell_type": "code",
   "execution_count": 279,
   "metadata": {},
   "outputs": [],
   "source": [
    "reading_passing = copy_students_df['reading_score'].value_counts()"
   ]
  },
  {
   "cell_type": "code",
   "execution_count": 280,
   "metadata": {},
   "outputs": [],
   "source": [
    "overall_passing = copy_students_df['overall_passing'].value_counts()"
   ]
  },
  {
   "cell_type": "code",
   "execution_count": 281,
   "metadata": {},
   "outputs": [
    {
     "output_type": "execute_result",
     "data": {
      "text/plain": [
       "                math_score\n",
       "Student Status            \n",
       "passing              29370\n",
       "not passing           9800"
      ],
      "text/html": "<div>\n<style scoped>\n    .dataframe tbody tr th:only-of-type {\n        vertical-align: middle;\n    }\n\n    .dataframe tbody tr th {\n        vertical-align: top;\n    }\n\n    .dataframe thead th {\n        text-align: right;\n    }\n</style>\n<table border=\"1\" class=\"dataframe\">\n  <thead>\n    <tr style=\"text-align: right;\">\n      <th></th>\n      <th>math_score</th>\n    </tr>\n    <tr>\n      <th>Student Status</th>\n      <th></th>\n    </tr>\n  </thead>\n  <tbody>\n    <tr>\n      <th>passing</th>\n      <td>29370</td>\n    </tr>\n    <tr>\n      <th>not passing</th>\n      <td>9800</td>\n    </tr>\n  </tbody>\n</table>\n</div>"
     },
     "metadata": {},
     "execution_count": 281
    }
   ],
   "source": [
    "summary_df_1 = pd.DataFrame(math_passing)\n",
    "summary_df_1.index.name = \"Student Status\"\n",
    "summary_df_1"
   ]
  },
  {
   "cell_type": "code",
   "execution_count": 282,
   "metadata": {},
   "outputs": [
    {
     "output_type": "execute_result",
     "data": {
      "text/plain": [
       "                reading_score\n",
       "Student Status               \n",
       "passing                 33610\n",
       "not passing              5560"
      ],
      "text/html": "<div>\n<style scoped>\n    .dataframe tbody tr th:only-of-type {\n        vertical-align: middle;\n    }\n\n    .dataframe tbody tr th {\n        vertical-align: top;\n    }\n\n    .dataframe thead th {\n        text-align: right;\n    }\n</style>\n<table border=\"1\" class=\"dataframe\">\n  <thead>\n    <tr style=\"text-align: right;\">\n      <th></th>\n      <th>reading_score</th>\n    </tr>\n    <tr>\n      <th>Student Status</th>\n      <th></th>\n    </tr>\n  </thead>\n  <tbody>\n    <tr>\n      <th>passing</th>\n      <td>33610</td>\n    </tr>\n    <tr>\n      <th>not passing</th>\n      <td>5560</td>\n    </tr>\n  </tbody>\n</table>\n</div>"
     },
     "metadata": {},
     "execution_count": 282
    }
   ],
   "source": [
    "summary_df_2 = pd.DataFrame(reading_passing)\n",
    "summary_df_2.index.name = \"Student Status\"\n",
    "summary_df_2"
   ]
  },
  {
   "cell_type": "code",
   "execution_count": 283,
   "metadata": {},
   "outputs": [
    {
     "output_type": "execute_result",
     "data": {
      "text/plain": [
       "                overall_passing\n",
       "Student Status                 \n",
       "passing                   25528\n",
       "not passing               13642"
      ],
      "text/html": "<div>\n<style scoped>\n    .dataframe tbody tr th:only-of-type {\n        vertical-align: middle;\n    }\n\n    .dataframe tbody tr th {\n        vertical-align: top;\n    }\n\n    .dataframe thead th {\n        text-align: right;\n    }\n</style>\n<table border=\"1\" class=\"dataframe\">\n  <thead>\n    <tr style=\"text-align: right;\">\n      <th></th>\n      <th>overall_passing</th>\n    </tr>\n    <tr>\n      <th>Student Status</th>\n      <th></th>\n    </tr>\n  </thead>\n  <tbody>\n    <tr>\n      <th>passing</th>\n      <td>25528</td>\n    </tr>\n    <tr>\n      <th>not passing</th>\n      <td>13642</td>\n    </tr>\n  </tbody>\n</table>\n</div>"
     },
     "metadata": {},
     "execution_count": 283
    }
   ],
   "source": [
    "summary_df_3 = pd.DataFrame(overall_passing)\n",
    "summary_df_3.index.name = \"Student Status\"\n",
    "summary_df_3"
   ]
  },
  {
   "cell_type": "code",
   "execution_count": 284,
   "metadata": {},
   "outputs": [],
   "source": [
    "perc_math = round(copy_students_df['math_score'].value_counts(normalize=True)*100,2)"
   ]
  },
  {
   "cell_type": "code",
   "execution_count": 285,
   "metadata": {},
   "outputs": [
    {
     "output_type": "execute_result",
     "data": {
      "text/plain": [
       "                % Math\n",
       "Student Status        \n",
       "passing          74.98\n",
       "not passing      25.02"
      ],
      "text/html": "<div>\n<style scoped>\n    .dataframe tbody tr th:only-of-type {\n        vertical-align: middle;\n    }\n\n    .dataframe tbody tr th {\n        vertical-align: top;\n    }\n\n    .dataframe thead th {\n        text-align: right;\n    }\n</style>\n<table border=\"1\" class=\"dataframe\">\n  <thead>\n    <tr style=\"text-align: right;\">\n      <th></th>\n      <th>% Math</th>\n    </tr>\n    <tr>\n      <th>Student Status</th>\n      <th></th>\n    </tr>\n  </thead>\n  <tbody>\n    <tr>\n      <th>passing</th>\n      <td>74.98</td>\n    </tr>\n    <tr>\n      <th>not passing</th>\n      <td>25.02</td>\n    </tr>\n  </tbody>\n</table>\n</div>"
     },
     "metadata": {},
     "execution_count": 285
    }
   ],
   "source": [
    "summary_df_4 = pd.DataFrame(perc_math)\n",
    "summary_df_4.index.name = \"Student Status\"\n",
    "summary_df_4 = summary_df_4.rename(columns={\"math_score\": \"% Math\"})\n",
    "summary_df_4"
   ]
  },
  {
   "cell_type": "code",
   "execution_count": 286,
   "metadata": {},
   "outputs": [],
   "source": [
    "perc_reading = round(copy_students_df['reading_score'].value_counts(normalize=True)*100,2)"
   ]
  },
  {
   "cell_type": "code",
   "execution_count": 287,
   "metadata": {},
   "outputs": [
    {
     "output_type": "execute_result",
     "data": {
      "text/plain": [
       "                % Reading\n",
       "Student Status           \n",
       "passing             85.81\n",
       "not passing         14.19"
      ],
      "text/html": "<div>\n<style scoped>\n    .dataframe tbody tr th:only-of-type {\n        vertical-align: middle;\n    }\n\n    .dataframe tbody tr th {\n        vertical-align: top;\n    }\n\n    .dataframe thead th {\n        text-align: right;\n    }\n</style>\n<table border=\"1\" class=\"dataframe\">\n  <thead>\n    <tr style=\"text-align: right;\">\n      <th></th>\n      <th>% Reading</th>\n    </tr>\n    <tr>\n      <th>Student Status</th>\n      <th></th>\n    </tr>\n  </thead>\n  <tbody>\n    <tr>\n      <th>passing</th>\n      <td>85.81</td>\n    </tr>\n    <tr>\n      <th>not passing</th>\n      <td>14.19</td>\n    </tr>\n  </tbody>\n</table>\n</div>"
     },
     "metadata": {},
     "execution_count": 287
    }
   ],
   "source": [
    "summary_df_5 = pd.DataFrame(perc_reading)\n",
    "summary_df_5.index.name = \"Student Status\"\n",
    "summary_df_5 = summary_df_5.rename(columns={\"reading_score\": \"% Reading\"})\n",
    "summary_df_5"
   ]
  },
  {
   "cell_type": "code",
   "execution_count": 288,
   "metadata": {},
   "outputs": [],
   "source": [
    "overall_passing_perc= perc_reading = round(copy_students_df['overall_passing'].value_counts(normalize=True)*100,2)"
   ]
  },
  {
   "cell_type": "code",
   "execution_count": 289,
   "metadata": {},
   "outputs": [
    {
     "output_type": "execute_result",
     "data": {
      "text/plain": [
       "                % Overall Passing\n",
       "Student Status                   \n",
       "passing                     65.17\n",
       "not passing                 34.83"
      ],
      "text/html": "<div>\n<style scoped>\n    .dataframe tbody tr th:only-of-type {\n        vertical-align: middle;\n    }\n\n    .dataframe tbody tr th {\n        vertical-align: top;\n    }\n\n    .dataframe thead th {\n        text-align: right;\n    }\n</style>\n<table border=\"1\" class=\"dataframe\">\n  <thead>\n    <tr style=\"text-align: right;\">\n      <th></th>\n      <th>% Overall Passing</th>\n    </tr>\n    <tr>\n      <th>Student Status</th>\n      <th></th>\n    </tr>\n  </thead>\n  <tbody>\n    <tr>\n      <th>passing</th>\n      <td>65.17</td>\n    </tr>\n    <tr>\n      <th>not passing</th>\n      <td>34.83</td>\n    </tr>\n  </tbody>\n</table>\n</div>"
     },
     "metadata": {},
     "execution_count": 289
    }
   ],
   "source": [
    "summary_df_6 = pd.DataFrame(overall_passing_perc)\n",
    "summary_df_6.index.name = \"Student Status\"\n",
    "summary_df_6 = summary_df_6.rename(columns={\"overall_passing\": \"% Overall Passing\"})\n",
    "summary_df_6"
   ]
  },
  {
   "cell_type": "code",
   "execution_count": 290,
   "metadata": {},
   "outputs": [
    {
     "output_type": "execute_result",
     "data": {
      "text/plain": [
       "                math_score  reading_score  overall_passing  % Math  % Reading  \\\n",
       "Student Status                                                                  \n",
       "passing              29370          33610            25528   74.98      85.81   \n",
       "not passing           9800           5560            13642   25.02      14.19   \n",
       "\n",
       "                % Overall Passing  \n",
       "Student Status                     \n",
       "passing                     65.17  \n",
       "not passing                 34.83  "
      ],
      "text/html": "<div>\n<style scoped>\n    .dataframe tbody tr th:only-of-type {\n        vertical-align: middle;\n    }\n\n    .dataframe tbody tr th {\n        vertical-align: top;\n    }\n\n    .dataframe thead th {\n        text-align: right;\n    }\n</style>\n<table border=\"1\" class=\"dataframe\">\n  <thead>\n    <tr style=\"text-align: right;\">\n      <th></th>\n      <th>math_score</th>\n      <th>reading_score</th>\n      <th>overall_passing</th>\n      <th>% Math</th>\n      <th>% Reading</th>\n      <th>% Overall Passing</th>\n    </tr>\n    <tr>\n      <th>Student Status</th>\n      <th></th>\n      <th></th>\n      <th></th>\n      <th></th>\n      <th></th>\n      <th></th>\n    </tr>\n  </thead>\n  <tbody>\n    <tr>\n      <th>passing</th>\n      <td>29370</td>\n      <td>33610</td>\n      <td>25528</td>\n      <td>74.98</td>\n      <td>85.81</td>\n      <td>65.17</td>\n    </tr>\n    <tr>\n      <th>not passing</th>\n      <td>9800</td>\n      <td>5560</td>\n      <td>13642</td>\n      <td>25.02</td>\n      <td>14.19</td>\n      <td>34.83</td>\n    </tr>\n  </tbody>\n</table>\n</div>"
     },
     "metadata": {},
     "execution_count": 290
    }
   ],
   "source": [
    "combined_df = summary_df_1.join(summary_df_2, how='outer')\n",
    "combined_df = combined_df.join(summary_df_3, how='outer')\n",
    "combined_df = combined_df.join(summary_df_4, how='outer')\n",
    "combined_df = combined_df.join(summary_df_5, how='outer')\n",
    "combined_df = combined_df.join(summary_df_6, how='outer')\n",
    "combined_df"
   ]
  },
  {
   "cell_type": "code",
   "execution_count": 291,
   "metadata": {},
   "outputs": [
    {
     "output_type": "execute_result",
     "data": {
      "text/plain": [
       "                Math Score  Reading Score  Overall Passing  % Math  % Reading  \\\n",
       "Student Status                                                                  \n",
       "passing              29370          33610            25528   74.98      85.81   \n",
       "not passing           9800           5560            13642   25.02      14.19   \n",
       "\n",
       "                % Overall Passing  \n",
       "Student Status                     \n",
       "passing                     65.17  \n",
       "not passing                 34.83  "
      ],
      "text/html": "<div>\n<style scoped>\n    .dataframe tbody tr th:only-of-type {\n        vertical-align: middle;\n    }\n\n    .dataframe tbody tr th {\n        vertical-align: top;\n    }\n\n    .dataframe thead th {\n        text-align: right;\n    }\n</style>\n<table border=\"1\" class=\"dataframe\">\n  <thead>\n    <tr style=\"text-align: right;\">\n      <th></th>\n      <th>Math Score</th>\n      <th>Reading Score</th>\n      <th>Overall Passing</th>\n      <th>% Math</th>\n      <th>% Reading</th>\n      <th>% Overall Passing</th>\n    </tr>\n    <tr>\n      <th>Student Status</th>\n      <th></th>\n      <th></th>\n      <th></th>\n      <th></th>\n      <th></th>\n      <th></th>\n    </tr>\n  </thead>\n  <tbody>\n    <tr>\n      <th>passing</th>\n      <td>29370</td>\n      <td>33610</td>\n      <td>25528</td>\n      <td>74.98</td>\n      <td>85.81</td>\n      <td>65.17</td>\n    </tr>\n    <tr>\n      <th>not passing</th>\n      <td>9800</td>\n      <td>5560</td>\n      <td>13642</td>\n      <td>25.02</td>\n      <td>14.19</td>\n      <td>34.83</td>\n    </tr>\n  </tbody>\n</table>\n</div>"
     },
     "metadata": {},
     "execution_count": 291
    }
   ],
   "source": [
    "combined_df = combined_df.rename(columns={\"math_score\": \"Math Score\", \"reading_score\": \"Reading Score\", \"overall_passing\": \"Overall Passing\"})\n",
    "combined_df"
   ]
  },
  {
   "cell_type": "code",
   "execution_count": 292,
   "metadata": {},
   "outputs": [
    {
     "output_type": "execute_result",
     "data": {
      "text/plain": [
       "   Total Schools Total Students Total Budget  Average Math Score  \\\n",
       "0             15         39,170  $24,649,428               78.99   \n",
       "\n",
       "   Average Reading Score  % Passing Math  % Passing Reading  % Overall Passing  \n",
       "0                  81.88           74.98              85.81              65.17  "
      ],
      "text/html": "<div>\n<style scoped>\n    .dataframe tbody tr th:only-of-type {\n        vertical-align: middle;\n    }\n\n    .dataframe tbody tr th {\n        vertical-align: top;\n    }\n\n    .dataframe thead th {\n        text-align: right;\n    }\n</style>\n<table border=\"1\" class=\"dataframe\">\n  <thead>\n    <tr style=\"text-align: right;\">\n      <th></th>\n      <th>Total Schools</th>\n      <th>Total Students</th>\n      <th>Total Budget</th>\n      <th>Average Math Score</th>\n      <th>Average Reading Score</th>\n      <th>% Passing Math</th>\n      <th>% Passing Reading</th>\n      <th>% Overall Passing</th>\n    </tr>\n  </thead>\n  <tbody>\n    <tr>\n      <th>0</th>\n      <td>15</td>\n      <td>39,170</td>\n      <td>$24,649,428</td>\n      <td>78.99</td>\n      <td>81.88</td>\n      <td>74.98</td>\n      <td>85.81</td>\n      <td>65.17</td>\n    </tr>\n  </tbody>\n</table>\n</div>"
     },
     "metadata": {},
     "execution_count": 292
    }
   ],
   "source": [
    "data = {'Total Schools': [total_schools], 'Total Students': [total_students], 'Total Budget': [total_budget], 'Average Math Score': [avg_math], 'Average Reading Score': [avg_reading], '% Passing Math': [combined_df.iloc[0,3]], '% Passing Reading':[combined_df.iloc[0,4]], \"% Overall Passing\": [combined_df.iloc[0,5]]}\n",
    "district_df = pd.DataFrame.from_dict(data)\n",
    "district_df"
   ]
  },
  {
   "cell_type": "code",
   "execution_count": 293,
   "metadata": {},
   "outputs": [],
   "source": [
    "#  School Summary\n",
    " \n",
    "# Create an overview table that summarizes key metrics about each school, including:\n",
    "# School Name\n",
    "# School Type\n",
    "# Total Students\n",
    "# Total School Budget\n",
    "# Per Student Budget\n",
    "# Average Math Score\n",
    "# Average Reading Score\n",
    "# % Passing Math\n",
    "# % Passing Reading\n",
    "# % Overall Passing (The percentage of students that passed math and reading.)\n",
    "# Create a dataframe to hold the above results\n"
   ]
  },
  {
   "cell_type": "code",
   "execution_count": 294,
   "metadata": {},
   "outputs": [
    {
     "output_type": "execute_result",
     "data": {
      "text/plain": [
       "                       reading_score  math_score\n",
       "school_name                                     \n",
       "Bailey High School             81.03       77.05\n",
       "Cabrera High School            83.98       83.06\n",
       "Figueroa High School           81.16       76.71\n",
       "Ford High School               80.75       77.10\n",
       "Griffin High School            83.82       83.35\n",
       "Hernandez High School          80.93       77.29\n",
       "Holden High School             83.81       83.80\n",
       "Huang High School              81.18       76.63\n",
       "Johnson High School            80.97       77.07\n",
       "Pena High School               84.04       83.84\n",
       "Rodriguez High School          80.74       76.84\n",
       "Shelton High School            83.73       83.36\n",
       "Thomas High School             83.85       83.42\n",
       "Wilson High School             83.99       83.27\n",
       "Wright High School             83.96       83.68"
      ],
      "text/html": "<div>\n<style scoped>\n    .dataframe tbody tr th:only-of-type {\n        vertical-align: middle;\n    }\n\n    .dataframe tbody tr th {\n        vertical-align: top;\n    }\n\n    .dataframe thead th {\n        text-align: right;\n    }\n</style>\n<table border=\"1\" class=\"dataframe\">\n  <thead>\n    <tr style=\"text-align: right;\">\n      <th></th>\n      <th>reading_score</th>\n      <th>math_score</th>\n    </tr>\n    <tr>\n      <th>school_name</th>\n      <th></th>\n      <th></th>\n    </tr>\n  </thead>\n  <tbody>\n    <tr>\n      <th>Bailey High School</th>\n      <td>81.03</td>\n      <td>77.05</td>\n    </tr>\n    <tr>\n      <th>Cabrera High School</th>\n      <td>83.98</td>\n      <td>83.06</td>\n    </tr>\n    <tr>\n      <th>Figueroa High School</th>\n      <td>81.16</td>\n      <td>76.71</td>\n    </tr>\n    <tr>\n      <th>Ford High School</th>\n      <td>80.75</td>\n      <td>77.10</td>\n    </tr>\n    <tr>\n      <th>Griffin High School</th>\n      <td>83.82</td>\n      <td>83.35</td>\n    </tr>\n    <tr>\n      <th>Hernandez High School</th>\n      <td>80.93</td>\n      <td>77.29</td>\n    </tr>\n    <tr>\n      <th>Holden High School</th>\n      <td>83.81</td>\n      <td>83.80</td>\n    </tr>\n    <tr>\n      <th>Huang High School</th>\n      <td>81.18</td>\n      <td>76.63</td>\n    </tr>\n    <tr>\n      <th>Johnson High School</th>\n      <td>80.97</td>\n      <td>77.07</td>\n    </tr>\n    <tr>\n      <th>Pena High School</th>\n      <td>84.04</td>\n      <td>83.84</td>\n    </tr>\n    <tr>\n      <th>Rodriguez High School</th>\n      <td>80.74</td>\n      <td>76.84</td>\n    </tr>\n    <tr>\n      <th>Shelton High School</th>\n      <td>83.73</td>\n      <td>83.36</td>\n    </tr>\n    <tr>\n      <th>Thomas High School</th>\n      <td>83.85</td>\n      <td>83.42</td>\n    </tr>\n    <tr>\n      <th>Wilson High School</th>\n      <td>83.99</td>\n      <td>83.27</td>\n    </tr>\n    <tr>\n      <th>Wright High School</th>\n      <td>83.96</td>\n      <td>83.68</td>\n    </tr>\n  </tbody>\n</table>\n</div>"
     },
     "metadata": {},
     "execution_count": 294
    }
   ],
   "source": [
    "#schools_df\n",
    "school_student_df = round(students_df.groupby(['school_name'])['reading_score', 'math_score'].mean(),2)\n",
    "\n",
    "school_student_df\n"
   ]
  },
  {
   "cell_type": "code",
   "execution_count": 295,
   "metadata": {},
   "outputs": [
    {
     "output_type": "execute_result",
     "data": {
      "text/plain": [
       "Index(['School ID', 'school_name', 'type', 'size', 'budget'], dtype='object')"
      ]
     },
     "metadata": {},
     "execution_count": 295
    }
   ],
   "source": [
    "copy_schools_df = schools_df.copy()\n",
    "copy_schools_df.columns"
   ]
  },
  {
   "cell_type": "code",
   "execution_count": 296,
   "metadata": {},
   "outputs": [
    {
     "output_type": "execute_result",
     "data": {
      "text/plain": [
       "    School ID            school_name      type  size   budget  reading_score  \\\n",
       "0           0      Huang High School  District  2917  1910635          81.18   \n",
       "1           1   Figueroa High School  District  2949  1884411          81.16   \n",
       "2           2    Shelton High School   Charter  1761  1056600          83.73   \n",
       "3           3  Hernandez High School  District  4635  3022020          80.93   \n",
       "4           4    Griffin High School   Charter  1468   917500          83.82   \n",
       "5           5     Wilson High School   Charter  2283  1319574          83.99   \n",
       "6           6    Cabrera High School   Charter  1858  1081356          83.98   \n",
       "7           7     Bailey High School  District  4976  3124928          81.03   \n",
       "8           8     Holden High School   Charter   427   248087          83.81   \n",
       "9           9       Pena High School   Charter   962   585858          84.04   \n",
       "10         10     Wright High School   Charter  1800  1049400          83.96   \n",
       "11         11  Rodriguez High School  District  3999  2547363          80.74   \n",
       "12         12    Johnson High School  District  4761  3094650          80.97   \n",
       "13         13       Ford High School  District  2739  1763916          80.75   \n",
       "14         14     Thomas High School   Charter  1635  1043130          83.85   \n",
       "\n",
       "    math_score  \n",
       "0        76.63  \n",
       "1        76.71  \n",
       "2        83.36  \n",
       "3        77.29  \n",
       "4        83.35  \n",
       "5        83.27  \n",
       "6        83.06  \n",
       "7        77.05  \n",
       "8        83.80  \n",
       "9        83.84  \n",
       "10       83.68  \n",
       "11       76.84  \n",
       "12       77.07  \n",
       "13       77.10  \n",
       "14       83.42  "
      ],
      "text/html": "<div>\n<style scoped>\n    .dataframe tbody tr th:only-of-type {\n        vertical-align: middle;\n    }\n\n    .dataframe tbody tr th {\n        vertical-align: top;\n    }\n\n    .dataframe thead th {\n        text-align: right;\n    }\n</style>\n<table border=\"1\" class=\"dataframe\">\n  <thead>\n    <tr style=\"text-align: right;\">\n      <th></th>\n      <th>School ID</th>\n      <th>school_name</th>\n      <th>type</th>\n      <th>size</th>\n      <th>budget</th>\n      <th>reading_score</th>\n      <th>math_score</th>\n    </tr>\n  </thead>\n  <tbody>\n    <tr>\n      <th>0</th>\n      <td>0</td>\n      <td>Huang High School</td>\n      <td>District</td>\n      <td>2917</td>\n      <td>1910635</td>\n      <td>81.18</td>\n      <td>76.63</td>\n    </tr>\n    <tr>\n      <th>1</th>\n      <td>1</td>\n      <td>Figueroa High School</td>\n      <td>District</td>\n      <td>2949</td>\n      <td>1884411</td>\n      <td>81.16</td>\n      <td>76.71</td>\n    </tr>\n    <tr>\n      <th>2</th>\n      <td>2</td>\n      <td>Shelton High School</td>\n      <td>Charter</td>\n      <td>1761</td>\n      <td>1056600</td>\n      <td>83.73</td>\n      <td>83.36</td>\n    </tr>\n    <tr>\n      <th>3</th>\n      <td>3</td>\n      <td>Hernandez High School</td>\n      <td>District</td>\n      <td>4635</td>\n      <td>3022020</td>\n      <td>80.93</td>\n      <td>77.29</td>\n    </tr>\n    <tr>\n      <th>4</th>\n      <td>4</td>\n      <td>Griffin High School</td>\n      <td>Charter</td>\n      <td>1468</td>\n      <td>917500</td>\n      <td>83.82</td>\n      <td>83.35</td>\n    </tr>\n    <tr>\n      <th>5</th>\n      <td>5</td>\n      <td>Wilson High School</td>\n      <td>Charter</td>\n      <td>2283</td>\n      <td>1319574</td>\n      <td>83.99</td>\n      <td>83.27</td>\n    </tr>\n    <tr>\n      <th>6</th>\n      <td>6</td>\n      <td>Cabrera High School</td>\n      <td>Charter</td>\n      <td>1858</td>\n      <td>1081356</td>\n      <td>83.98</td>\n      <td>83.06</td>\n    </tr>\n    <tr>\n      <th>7</th>\n      <td>7</td>\n      <td>Bailey High School</td>\n      <td>District</td>\n      <td>4976</td>\n      <td>3124928</td>\n      <td>81.03</td>\n      <td>77.05</td>\n    </tr>\n    <tr>\n      <th>8</th>\n      <td>8</td>\n      <td>Holden High School</td>\n      <td>Charter</td>\n      <td>427</td>\n      <td>248087</td>\n      <td>83.81</td>\n      <td>83.80</td>\n    </tr>\n    <tr>\n      <th>9</th>\n      <td>9</td>\n      <td>Pena High School</td>\n      <td>Charter</td>\n      <td>962</td>\n      <td>585858</td>\n      <td>84.04</td>\n      <td>83.84</td>\n    </tr>\n    <tr>\n      <th>10</th>\n      <td>10</td>\n      <td>Wright High School</td>\n      <td>Charter</td>\n      <td>1800</td>\n      <td>1049400</td>\n      <td>83.96</td>\n      <td>83.68</td>\n    </tr>\n    <tr>\n      <th>11</th>\n      <td>11</td>\n      <td>Rodriguez High School</td>\n      <td>District</td>\n      <td>3999</td>\n      <td>2547363</td>\n      <td>80.74</td>\n      <td>76.84</td>\n    </tr>\n    <tr>\n      <th>12</th>\n      <td>12</td>\n      <td>Johnson High School</td>\n      <td>District</td>\n      <td>4761</td>\n      <td>3094650</td>\n      <td>80.97</td>\n      <td>77.07</td>\n    </tr>\n    <tr>\n      <th>13</th>\n      <td>13</td>\n      <td>Ford High School</td>\n      <td>District</td>\n      <td>2739</td>\n      <td>1763916</td>\n      <td>80.75</td>\n      <td>77.10</td>\n    </tr>\n    <tr>\n      <th>14</th>\n      <td>14</td>\n      <td>Thomas High School</td>\n      <td>Charter</td>\n      <td>1635</td>\n      <td>1043130</td>\n      <td>83.85</td>\n      <td>83.42</td>\n    </tr>\n  </tbody>\n</table>\n</div>"
     },
     "metadata": {},
     "execution_count": 296
    }
   ],
   "source": [
    "combined_district_df = pd.merge(copy_schools_df,school_student_df,how='outer',on='school_name')\n",
    "combined_district_df"
   ]
  },
  {
   "cell_type": "code",
   "execution_count": 297,
   "metadata": {},
   "outputs": [
    {
     "output_type": "execute_result",
     "data": {
      "text/plain": [
       "                           type  size   budget  reading_score  math_score\n",
       "school_name                                                              \n",
       "Bailey High School     District  4976  3124928          81.03       77.05\n",
       "Cabrera High School     Charter  1858  1081356          83.98       83.06\n",
       "Figueroa High School   District  2949  1884411          81.16       76.71\n",
       "Ford High School       District  2739  1763916          80.75       77.10\n",
       "Griffin High School     Charter  1468   917500          83.82       83.35\n",
       "Hernandez High School  District  4635  3022020          80.93       77.29\n",
       "Holden High School      Charter   427   248087          83.81       83.80\n",
       "Huang High School      District  2917  1910635          81.18       76.63\n",
       "Johnson High School    District  4761  3094650          80.97       77.07\n",
       "Pena High School        Charter   962   585858          84.04       83.84\n",
       "Rodriguez High School  District  3999  2547363          80.74       76.84\n",
       "Shelton High School     Charter  1761  1056600          83.73       83.36\n",
       "Thomas High School      Charter  1635  1043130          83.85       83.42\n",
       "Wilson High School      Charter  2283  1319574          83.99       83.27\n",
       "Wright High School      Charter  1800  1049400          83.96       83.68"
      ],
      "text/html": "<div>\n<style scoped>\n    .dataframe tbody tr th:only-of-type {\n        vertical-align: middle;\n    }\n\n    .dataframe tbody tr th {\n        vertical-align: top;\n    }\n\n    .dataframe thead th {\n        text-align: right;\n    }\n</style>\n<table border=\"1\" class=\"dataframe\">\n  <thead>\n    <tr style=\"text-align: right;\">\n      <th></th>\n      <th>type</th>\n      <th>size</th>\n      <th>budget</th>\n      <th>reading_score</th>\n      <th>math_score</th>\n    </tr>\n    <tr>\n      <th>school_name</th>\n      <th></th>\n      <th></th>\n      <th></th>\n      <th></th>\n      <th></th>\n    </tr>\n  </thead>\n  <tbody>\n    <tr>\n      <th>Bailey High School</th>\n      <td>District</td>\n      <td>4976</td>\n      <td>3124928</td>\n      <td>81.03</td>\n      <td>77.05</td>\n    </tr>\n    <tr>\n      <th>Cabrera High School</th>\n      <td>Charter</td>\n      <td>1858</td>\n      <td>1081356</td>\n      <td>83.98</td>\n      <td>83.06</td>\n    </tr>\n    <tr>\n      <th>Figueroa High School</th>\n      <td>District</td>\n      <td>2949</td>\n      <td>1884411</td>\n      <td>81.16</td>\n      <td>76.71</td>\n    </tr>\n    <tr>\n      <th>Ford High School</th>\n      <td>District</td>\n      <td>2739</td>\n      <td>1763916</td>\n      <td>80.75</td>\n      <td>77.10</td>\n    </tr>\n    <tr>\n      <th>Griffin High School</th>\n      <td>Charter</td>\n      <td>1468</td>\n      <td>917500</td>\n      <td>83.82</td>\n      <td>83.35</td>\n    </tr>\n    <tr>\n      <th>Hernandez High School</th>\n      <td>District</td>\n      <td>4635</td>\n      <td>3022020</td>\n      <td>80.93</td>\n      <td>77.29</td>\n    </tr>\n    <tr>\n      <th>Holden High School</th>\n      <td>Charter</td>\n      <td>427</td>\n      <td>248087</td>\n      <td>83.81</td>\n      <td>83.80</td>\n    </tr>\n    <tr>\n      <th>Huang High School</th>\n      <td>District</td>\n      <td>2917</td>\n      <td>1910635</td>\n      <td>81.18</td>\n      <td>76.63</td>\n    </tr>\n    <tr>\n      <th>Johnson High School</th>\n      <td>District</td>\n      <td>4761</td>\n      <td>3094650</td>\n      <td>80.97</td>\n      <td>77.07</td>\n    </tr>\n    <tr>\n      <th>Pena High School</th>\n      <td>Charter</td>\n      <td>962</td>\n      <td>585858</td>\n      <td>84.04</td>\n      <td>83.84</td>\n    </tr>\n    <tr>\n      <th>Rodriguez High School</th>\n      <td>District</td>\n      <td>3999</td>\n      <td>2547363</td>\n      <td>80.74</td>\n      <td>76.84</td>\n    </tr>\n    <tr>\n      <th>Shelton High School</th>\n      <td>Charter</td>\n      <td>1761</td>\n      <td>1056600</td>\n      <td>83.73</td>\n      <td>83.36</td>\n    </tr>\n    <tr>\n      <th>Thomas High School</th>\n      <td>Charter</td>\n      <td>1635</td>\n      <td>1043130</td>\n      <td>83.85</td>\n      <td>83.42</td>\n    </tr>\n    <tr>\n      <th>Wilson High School</th>\n      <td>Charter</td>\n      <td>2283</td>\n      <td>1319574</td>\n      <td>83.99</td>\n      <td>83.27</td>\n    </tr>\n    <tr>\n      <th>Wright High School</th>\n      <td>Charter</td>\n      <td>1800</td>\n      <td>1049400</td>\n      <td>83.96</td>\n      <td>83.68</td>\n    </tr>\n  </tbody>\n</table>\n</div>"
     },
     "metadata": {},
     "execution_count": 297
    }
   ],
   "source": [
    "combined_district_df = combined_district_df.drop('School ID', axis=1)\n",
    "combined_district_df = combined_district_df.set_index(['school_name'])\n",
    "combined_district_df = combined_district_df.sort_index(ascending=True)\n",
    "combined_district_df"
   ]
  },
  {
   "cell_type": "code",
   "execution_count": 298,
   "metadata": {},
   "outputs": [
    {
     "output_type": "execute_result",
     "data": {
      "text/plain": [
       "                      School Type  Total Students  Total School Budget  \\\n",
       "                                                                         \n",
       "Bailey High School       District            4976              3124928   \n",
       "Cabrera High School       Charter            1858              1081356   \n",
       "Figueroa High School     District            2949              1884411   \n",
       "Ford High School         District            2739              1763916   \n",
       "Griffin High School       Charter            1468               917500   \n",
       "Hernandez High School    District            4635              3022020   \n",
       "Holden High School        Charter             427               248087   \n",
       "Huang High School        District            2917              1910635   \n",
       "Johnson High School      District            4761              3094650   \n",
       "Pena High School          Charter             962               585858   \n",
       "Rodriguez High School    District            3999              2547363   \n",
       "Shelton High School       Charter            1761              1056600   \n",
       "Thomas High School        Charter            1635              1043130   \n",
       "Wilson High School        Charter            2283              1319574   \n",
       "Wright High School        Charter            1800              1049400   \n",
       "\n",
       "                       Average Reading Score  Average Math Score  \n",
       "                                                                  \n",
       "Bailey High School                     81.03               77.05  \n",
       "Cabrera High School                    83.98               83.06  \n",
       "Figueroa High School                   81.16               76.71  \n",
       "Ford High School                       80.75               77.10  \n",
       "Griffin High School                    83.82               83.35  \n",
       "Hernandez High School                  80.93               77.29  \n",
       "Holden High School                     83.81               83.80  \n",
       "Huang High School                      81.18               76.63  \n",
       "Johnson High School                    80.97               77.07  \n",
       "Pena High School                       84.04               83.84  \n",
       "Rodriguez High School                  80.74               76.84  \n",
       "Shelton High School                    83.73               83.36  \n",
       "Thomas High School                     83.85               83.42  \n",
       "Wilson High School                     83.99               83.27  \n",
       "Wright High School                     83.96               83.68  "
      ],
      "text/html": "<div>\n<style scoped>\n    .dataframe tbody tr th:only-of-type {\n        vertical-align: middle;\n    }\n\n    .dataframe tbody tr th {\n        vertical-align: top;\n    }\n\n    .dataframe thead th {\n        text-align: right;\n    }\n</style>\n<table border=\"1\" class=\"dataframe\">\n  <thead>\n    <tr style=\"text-align: right;\">\n      <th></th>\n      <th>School Type</th>\n      <th>Total Students</th>\n      <th>Total School Budget</th>\n      <th>Average Reading Score</th>\n      <th>Average Math Score</th>\n    </tr>\n    <tr>\n      <th></th>\n      <th></th>\n      <th></th>\n      <th></th>\n      <th></th>\n      <th></th>\n    </tr>\n  </thead>\n  <tbody>\n    <tr>\n      <th>Bailey High School</th>\n      <td>District</td>\n      <td>4976</td>\n      <td>3124928</td>\n      <td>81.03</td>\n      <td>77.05</td>\n    </tr>\n    <tr>\n      <th>Cabrera High School</th>\n      <td>Charter</td>\n      <td>1858</td>\n      <td>1081356</td>\n      <td>83.98</td>\n      <td>83.06</td>\n    </tr>\n    <tr>\n      <th>Figueroa High School</th>\n      <td>District</td>\n      <td>2949</td>\n      <td>1884411</td>\n      <td>81.16</td>\n      <td>76.71</td>\n    </tr>\n    <tr>\n      <th>Ford High School</th>\n      <td>District</td>\n      <td>2739</td>\n      <td>1763916</td>\n      <td>80.75</td>\n      <td>77.10</td>\n    </tr>\n    <tr>\n      <th>Griffin High School</th>\n      <td>Charter</td>\n      <td>1468</td>\n      <td>917500</td>\n      <td>83.82</td>\n      <td>83.35</td>\n    </tr>\n    <tr>\n      <th>Hernandez High School</th>\n      <td>District</td>\n      <td>4635</td>\n      <td>3022020</td>\n      <td>80.93</td>\n      <td>77.29</td>\n    </tr>\n    <tr>\n      <th>Holden High School</th>\n      <td>Charter</td>\n      <td>427</td>\n      <td>248087</td>\n      <td>83.81</td>\n      <td>83.80</td>\n    </tr>\n    <tr>\n      <th>Huang High School</th>\n      <td>District</td>\n      <td>2917</td>\n      <td>1910635</td>\n      <td>81.18</td>\n      <td>76.63</td>\n    </tr>\n    <tr>\n      <th>Johnson High School</th>\n      <td>District</td>\n      <td>4761</td>\n      <td>3094650</td>\n      <td>80.97</td>\n      <td>77.07</td>\n    </tr>\n    <tr>\n      <th>Pena High School</th>\n      <td>Charter</td>\n      <td>962</td>\n      <td>585858</td>\n      <td>84.04</td>\n      <td>83.84</td>\n    </tr>\n    <tr>\n      <th>Rodriguez High School</th>\n      <td>District</td>\n      <td>3999</td>\n      <td>2547363</td>\n      <td>80.74</td>\n      <td>76.84</td>\n    </tr>\n    <tr>\n      <th>Shelton High School</th>\n      <td>Charter</td>\n      <td>1761</td>\n      <td>1056600</td>\n      <td>83.73</td>\n      <td>83.36</td>\n    </tr>\n    <tr>\n      <th>Thomas High School</th>\n      <td>Charter</td>\n      <td>1635</td>\n      <td>1043130</td>\n      <td>83.85</td>\n      <td>83.42</td>\n    </tr>\n    <tr>\n      <th>Wilson High School</th>\n      <td>Charter</td>\n      <td>2283</td>\n      <td>1319574</td>\n      <td>83.99</td>\n      <td>83.27</td>\n    </tr>\n    <tr>\n      <th>Wright High School</th>\n      <td>Charter</td>\n      <td>1800</td>\n      <td>1049400</td>\n      <td>83.96</td>\n      <td>83.68</td>\n    </tr>\n  </tbody>\n</table>\n</div>"
     },
     "metadata": {},
     "execution_count": 298
    }
   ],
   "source": [
    "combined_district_df = combined_district_df.rename(columns={\"type\": \"School Type\", \"size\": \"Total Students\", \"budget\": \"Total School Budget\",\"math_score\": \"Average Math Score\",\"reading_score\": \"Average Reading Score\"})\n",
    "combined_district_df.index.names = [\"\"]\n",
    "# combined_district_df = combined_district_df.astype({'Total School Budget': 'int32'}).dtypes#\"${:,}\".format(combined_district_df['Total School Budget'])\n",
    "combined_district_df"
   ]
  },
  {
   "cell_type": "code",
   "execution_count": 299,
   "metadata": {},
   "outputs": [
    {
     "output_type": "execute_result",
     "data": {
      "text/plain": [
       "                      School Type  Total Students  Total School Budget  \\\n",
       "                                                                         \n",
       "Bailey High School       District            4976              3124928   \n",
       "Cabrera High School       Charter            1858              1081356   \n",
       "Figueroa High School     District            2949              1884411   \n",
       "Ford High School         District            2739              1763916   \n",
       "Griffin High School       Charter            1468               917500   \n",
       "Hernandez High School    District            4635              3022020   \n",
       "Holden High School        Charter             427               248087   \n",
       "Huang High School        District            2917              1910635   \n",
       "Johnson High School      District            4761              3094650   \n",
       "Pena High School          Charter             962               585858   \n",
       "Rodriguez High School    District            3999              2547363   \n",
       "Shelton High School       Charter            1761              1056600   \n",
       "Thomas High School        Charter            1635              1043130   \n",
       "Wilson High School        Charter            2283              1319574   \n",
       "Wright High School        Charter            1800              1049400   \n",
       "\n",
       "                       Average Reading Score  Average Math Score  \\\n",
       "                                                                   \n",
       "Bailey High School                     81.03               77.05   \n",
       "Cabrera High School                    83.98               83.06   \n",
       "Figueroa High School                   81.16               76.71   \n",
       "Ford High School                       80.75               77.10   \n",
       "Griffin High School                    83.82               83.35   \n",
       "Hernandez High School                  80.93               77.29   \n",
       "Holden High School                     83.81               83.80   \n",
       "Huang High School                      81.18               76.63   \n",
       "Johnson High School                    80.97               77.07   \n",
       "Pena High School                       84.04               83.84   \n",
       "Rodriguez High School                  80.74               76.84   \n",
       "Shelton High School                    83.73               83.36   \n",
       "Thomas High School                     83.85               83.42   \n",
       "Wilson High School                     83.99               83.27   \n",
       "Wright High School                     83.96               83.68   \n",
       "\n",
       "                       Per Student Budget  \n",
       "                                           \n",
       "Bailey High School                  628.0  \n",
       "Cabrera High School                 582.0  \n",
       "Figueroa High School                639.0  \n",
       "Ford High School                    644.0  \n",
       "Griffin High School                 625.0  \n",
       "Hernandez High School               652.0  \n",
       "Holden High School                  581.0  \n",
       "Huang High School                   655.0  \n",
       "Johnson High School                 650.0  \n",
       "Pena High School                    609.0  \n",
       "Rodriguez High School               637.0  \n",
       "Shelton High School                 600.0  \n",
       "Thomas High School                  638.0  \n",
       "Wilson High School                  578.0  \n",
       "Wright High School                  583.0  "
      ],
      "text/html": "<div>\n<style scoped>\n    .dataframe tbody tr th:only-of-type {\n        vertical-align: middle;\n    }\n\n    .dataframe tbody tr th {\n        vertical-align: top;\n    }\n\n    .dataframe thead th {\n        text-align: right;\n    }\n</style>\n<table border=\"1\" class=\"dataframe\">\n  <thead>\n    <tr style=\"text-align: right;\">\n      <th></th>\n      <th>School Type</th>\n      <th>Total Students</th>\n      <th>Total School Budget</th>\n      <th>Average Reading Score</th>\n      <th>Average Math Score</th>\n      <th>Per Student Budget</th>\n    </tr>\n    <tr>\n      <th></th>\n      <th></th>\n      <th></th>\n      <th></th>\n      <th></th>\n      <th></th>\n      <th></th>\n    </tr>\n  </thead>\n  <tbody>\n    <tr>\n      <th>Bailey High School</th>\n      <td>District</td>\n      <td>4976</td>\n      <td>3124928</td>\n      <td>81.03</td>\n      <td>77.05</td>\n      <td>628.0</td>\n    </tr>\n    <tr>\n      <th>Cabrera High School</th>\n      <td>Charter</td>\n      <td>1858</td>\n      <td>1081356</td>\n      <td>83.98</td>\n      <td>83.06</td>\n      <td>582.0</td>\n    </tr>\n    <tr>\n      <th>Figueroa High School</th>\n      <td>District</td>\n      <td>2949</td>\n      <td>1884411</td>\n      <td>81.16</td>\n      <td>76.71</td>\n      <td>639.0</td>\n    </tr>\n    <tr>\n      <th>Ford High School</th>\n      <td>District</td>\n      <td>2739</td>\n      <td>1763916</td>\n      <td>80.75</td>\n      <td>77.10</td>\n      <td>644.0</td>\n    </tr>\n    <tr>\n      <th>Griffin High School</th>\n      <td>Charter</td>\n      <td>1468</td>\n      <td>917500</td>\n      <td>83.82</td>\n      <td>83.35</td>\n      <td>625.0</td>\n    </tr>\n    <tr>\n      <th>Hernandez High School</th>\n      <td>District</td>\n      <td>4635</td>\n      <td>3022020</td>\n      <td>80.93</td>\n      <td>77.29</td>\n      <td>652.0</td>\n    </tr>\n    <tr>\n      <th>Holden High School</th>\n      <td>Charter</td>\n      <td>427</td>\n      <td>248087</td>\n      <td>83.81</td>\n      <td>83.80</td>\n      <td>581.0</td>\n    </tr>\n    <tr>\n      <th>Huang High School</th>\n      <td>District</td>\n      <td>2917</td>\n      <td>1910635</td>\n      <td>81.18</td>\n      <td>76.63</td>\n      <td>655.0</td>\n    </tr>\n    <tr>\n      <th>Johnson High School</th>\n      <td>District</td>\n      <td>4761</td>\n      <td>3094650</td>\n      <td>80.97</td>\n      <td>77.07</td>\n      <td>650.0</td>\n    </tr>\n    <tr>\n      <th>Pena High School</th>\n      <td>Charter</td>\n      <td>962</td>\n      <td>585858</td>\n      <td>84.04</td>\n      <td>83.84</td>\n      <td>609.0</td>\n    </tr>\n    <tr>\n      <th>Rodriguez High School</th>\n      <td>District</td>\n      <td>3999</td>\n      <td>2547363</td>\n      <td>80.74</td>\n      <td>76.84</td>\n      <td>637.0</td>\n    </tr>\n    <tr>\n      <th>Shelton High School</th>\n      <td>Charter</td>\n      <td>1761</td>\n      <td>1056600</td>\n      <td>83.73</td>\n      <td>83.36</td>\n      <td>600.0</td>\n    </tr>\n    <tr>\n      <th>Thomas High School</th>\n      <td>Charter</td>\n      <td>1635</td>\n      <td>1043130</td>\n      <td>83.85</td>\n      <td>83.42</td>\n      <td>638.0</td>\n    </tr>\n    <tr>\n      <th>Wilson High School</th>\n      <td>Charter</td>\n      <td>2283</td>\n      <td>1319574</td>\n      <td>83.99</td>\n      <td>83.27</td>\n      <td>578.0</td>\n    </tr>\n    <tr>\n      <th>Wright High School</th>\n      <td>Charter</td>\n      <td>1800</td>\n      <td>1049400</td>\n      <td>83.96</td>\n      <td>83.68</td>\n      <td>583.0</td>\n    </tr>\n  </tbody>\n</table>\n</div>"
     },
     "metadata": {},
     "execution_count": 299
    }
   ],
   "source": [
    "combined_district_df['Per Student Budget'] = combined_district_df['Total School Budget']/combined_district_df['Total Students']\n",
    "combined_district_df"
   ]
  },
  {
   "cell_type": "code",
   "execution_count": 312,
   "metadata": {},
   "outputs": [
    {
     "output_type": "execute_result",
     "data": {
      "text/plain": [
       "                                   Student ID\n",
       "math_score  school_name                      \n",
       "not passing Bailey High School           1658\n",
       "            Cabrera High School           109\n",
       "            Figueroa High School         1003\n",
       "            Ford High School              868\n",
       "            Griffin High School            97\n",
       "            Hernandez High School        1541\n",
       "            Holden High School             32\n",
       "            Huang High School            1001\n",
       "            Johnson High School          1616\n",
       "            Pena High School               52\n",
       "            Rodriguez High School        1345\n",
       "            Shelton High School           108\n",
       "            Thomas High School            110\n",
       "            Wilson High School            140\n",
       "            Wright High School            120\n",
       "passing     Bailey High School           3318\n",
       "            Cabrera High School          1749\n",
       "            Figueroa High School         1946\n",
       "            Ford High School             1871\n",
       "            Griffin High School          1371\n",
       "            Hernandez High School        3094\n",
       "            Holden High School            395\n",
       "            Huang High School            1916\n",
       "            Johnson High School          3145\n",
       "            Pena High School              910\n",
       "            Rodriguez High School        2654\n",
       "            Shelton High School          1653\n",
       "            Thomas High School           1525\n",
       "            Wilson High School           2143\n",
       "            Wright High School           1680"
      ],
      "text/html": "<div>\n<style scoped>\n    .dataframe tbody tr th:only-of-type {\n        vertical-align: middle;\n    }\n\n    .dataframe tbody tr th {\n        vertical-align: top;\n    }\n\n    .dataframe thead th {\n        text-align: right;\n    }\n</style>\n<table border=\"1\" class=\"dataframe\">\n  <thead>\n    <tr style=\"text-align: right;\">\n      <th></th>\n      <th></th>\n      <th>Student ID</th>\n    </tr>\n    <tr>\n      <th>math_score</th>\n      <th>school_name</th>\n      <th></th>\n    </tr>\n  </thead>\n  <tbody>\n    <tr>\n      <th rowspan=\"15\" valign=\"top\">not passing</th>\n      <th>Bailey High School</th>\n      <td>1658</td>\n    </tr>\n    <tr>\n      <th>Cabrera High School</th>\n      <td>109</td>\n    </tr>\n    <tr>\n      <th>Figueroa High School</th>\n      <td>1003</td>\n    </tr>\n    <tr>\n      <th>Ford High School</th>\n      <td>868</td>\n    </tr>\n    <tr>\n      <th>Griffin High School</th>\n      <td>97</td>\n    </tr>\n    <tr>\n      <th>Hernandez High School</th>\n      <td>1541</td>\n    </tr>\n    <tr>\n      <th>Holden High School</th>\n      <td>32</td>\n    </tr>\n    <tr>\n      <th>Huang High School</th>\n      <td>1001</td>\n    </tr>\n    <tr>\n      <th>Johnson High School</th>\n      <td>1616</td>\n    </tr>\n    <tr>\n      <th>Pena High School</th>\n      <td>52</td>\n    </tr>\n    <tr>\n      <th>Rodriguez High School</th>\n      <td>1345</td>\n    </tr>\n    <tr>\n      <th>Shelton High School</th>\n      <td>108</td>\n    </tr>\n    <tr>\n      <th>Thomas High School</th>\n      <td>110</td>\n    </tr>\n    <tr>\n      <th>Wilson High School</th>\n      <td>140</td>\n    </tr>\n    <tr>\n      <th>Wright High School</th>\n      <td>120</td>\n    </tr>\n    <tr>\n      <th rowspan=\"15\" valign=\"top\">passing</th>\n      <th>Bailey High School</th>\n      <td>3318</td>\n    </tr>\n    <tr>\n      <th>Cabrera High School</th>\n      <td>1749</td>\n    </tr>\n    <tr>\n      <th>Figueroa High School</th>\n      <td>1946</td>\n    </tr>\n    <tr>\n      <th>Ford High School</th>\n      <td>1871</td>\n    </tr>\n    <tr>\n      <th>Griffin High School</th>\n      <td>1371</td>\n    </tr>\n    <tr>\n      <th>Hernandez High School</th>\n      <td>3094</td>\n    </tr>\n    <tr>\n      <th>Holden High School</th>\n      <td>395</td>\n    </tr>\n    <tr>\n      <th>Huang High School</th>\n      <td>1916</td>\n    </tr>\n    <tr>\n      <th>Johnson High School</th>\n      <td>3145</td>\n    </tr>\n    <tr>\n      <th>Pena High School</th>\n      <td>910</td>\n    </tr>\n    <tr>\n      <th>Rodriguez High School</th>\n      <td>2654</td>\n    </tr>\n    <tr>\n      <th>Shelton High School</th>\n      <td>1653</td>\n    </tr>\n    <tr>\n      <th>Thomas High School</th>\n      <td>1525</td>\n    </tr>\n    <tr>\n      <th>Wilson High School</th>\n      <td>2143</td>\n    </tr>\n    <tr>\n      <th>Wright High School</th>\n      <td>1680</td>\n    </tr>\n  </tbody>\n</table>\n</div>"
     },
     "metadata": {},
     "execution_count": 312
    }
   ],
   "source": [
    "grouped_school_scores = copy_students_df.groupby([\"math_score\", 'school_name']).agg({\"Student ID\": 'count'})\n",
    "grouped_school_scores"
   ]
  },
  {
   "cell_type": "code",
   "execution_count": null,
   "metadata": {},
   "outputs": [],
   "source": []
  }
 ]
}