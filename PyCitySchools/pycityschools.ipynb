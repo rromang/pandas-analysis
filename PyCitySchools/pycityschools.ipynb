{
 "metadata": {
  "language_info": {
   "codemirror_mode": {
    "name": "ipython",
    "version": 3
   },
   "file_extension": ".py",
   "mimetype": "text/x-python",
   "name": "python",
   "nbconvert_exporter": "python",
   "pygments_lexer": "ipython3",
   "version": "3.7.9-final"
  },
  "orig_nbformat": 2,
  "kernelspec": {
   "name": "python3",
   "display_name": "Python 3.7.9 64-bit ('PythonData': conda)",
   "metadata": {
    "interpreter": {
     "hash": "e3896c66a75c41725fea970d0c2a2982cf91def990c8dcb709e7b9c0cc3a398d"
    }
   }
  }
 },
 "nbformat": 4,
 "nbformat_minor": 2,
 "cells": [
  {
   "cell_type": "code",
   "execution_count": 197,
   "metadata": {},
   "outputs": [],
   "source": [
    "#District Summary\n",
    "\n",
    "# Create a high level snapshot (in table form) of the district's key metrics, including:\n",
    "\n",
    "# Total Schools\n",
    "# Total Students\n",
    "# Total Budget\n",
    "# Average Math Score\n",
    "# Average Reading Score\n",
    "# % Passing Math (The percentage of students that passed math.)\n",
    "# % Passing Reading (The percentage of students that passed reading.)\n",
    "# % Overall Passing (The percentage of students that passed math and reading.)."
   ]
  },
  {
   "cell_type": "code",
   "execution_count": 198,
   "metadata": {},
   "outputs": [],
   "source": [
    "import pandas as pd\n",
    "import numpy as np"
   ]
  },
  {
   "cell_type": "code",
   "execution_count": 199,
   "metadata": {},
   "outputs": [
    {
     "output_type": "execute_result",
     "data": {
      "text/plain": [
       "   School ID           school_name      type  size   budget\n",
       "0          0     Huang High School  District  2917  1910635\n",
       "1          1  Figueroa High School  District  2949  1884411\n",
       "2          2   Shelton High School   Charter  1761  1056600"
      ],
      "text/html": "<div>\n<style scoped>\n    .dataframe tbody tr th:only-of-type {\n        vertical-align: middle;\n    }\n\n    .dataframe tbody tr th {\n        vertical-align: top;\n    }\n\n    .dataframe thead th {\n        text-align: right;\n    }\n</style>\n<table border=\"1\" class=\"dataframe\">\n  <thead>\n    <tr style=\"text-align: right;\">\n      <th></th>\n      <th>School ID</th>\n      <th>school_name</th>\n      <th>type</th>\n      <th>size</th>\n      <th>budget</th>\n    </tr>\n  </thead>\n  <tbody>\n    <tr>\n      <th>0</th>\n      <td>0</td>\n      <td>Huang High School</td>\n      <td>District</td>\n      <td>2917</td>\n      <td>1910635</td>\n    </tr>\n    <tr>\n      <th>1</th>\n      <td>1</td>\n      <td>Figueroa High School</td>\n      <td>District</td>\n      <td>2949</td>\n      <td>1884411</td>\n    </tr>\n    <tr>\n      <th>2</th>\n      <td>2</td>\n      <td>Shelton High School</td>\n      <td>Charter</td>\n      <td>1761</td>\n      <td>1056600</td>\n    </tr>\n  </tbody>\n</table>\n</div>"
     },
     "metadata": {},
     "execution_count": 199
    }
   ],
   "source": [
    "#reading school csv to dataframe\n",
    "schools_path = r\"/Users/rosaicelaroman/Desktop/Data_BootCamp/LearnPython/pandas-challenge/PyCitySchools/Resources/schools_complete.csv\"\n",
    "schools_df = pd.read_csv(schools_path)\n",
    "schools_df.head(3)"
   ]
  },
  {
   "cell_type": "code",
   "execution_count": 200,
   "metadata": {},
   "outputs": [
    {
     "output_type": "execute_result",
     "data": {
      "text/plain": [
       "   Student ID     student_name gender grade        school_name  reading_score  \\\n",
       "0           0     Paul Bradley      M   9th  Huang High School             66   \n",
       "1           1     Victor Smith      M  12th  Huang High School             94   \n",
       "2           2  Kevin Rodriguez      M  12th  Huang High School             90   \n",
       "\n",
       "   math_score  \n",
       "0          79  \n",
       "1          61  \n",
       "2          60  "
      ],
      "text/html": "<div>\n<style scoped>\n    .dataframe tbody tr th:only-of-type {\n        vertical-align: middle;\n    }\n\n    .dataframe tbody tr th {\n        vertical-align: top;\n    }\n\n    .dataframe thead th {\n        text-align: right;\n    }\n</style>\n<table border=\"1\" class=\"dataframe\">\n  <thead>\n    <tr style=\"text-align: right;\">\n      <th></th>\n      <th>Student ID</th>\n      <th>student_name</th>\n      <th>gender</th>\n      <th>grade</th>\n      <th>school_name</th>\n      <th>reading_score</th>\n      <th>math_score</th>\n    </tr>\n  </thead>\n  <tbody>\n    <tr>\n      <th>0</th>\n      <td>0</td>\n      <td>Paul Bradley</td>\n      <td>M</td>\n      <td>9th</td>\n      <td>Huang High School</td>\n      <td>66</td>\n      <td>79</td>\n    </tr>\n    <tr>\n      <th>1</th>\n      <td>1</td>\n      <td>Victor Smith</td>\n      <td>M</td>\n      <td>12th</td>\n      <td>Huang High School</td>\n      <td>94</td>\n      <td>61</td>\n    </tr>\n    <tr>\n      <th>2</th>\n      <td>2</td>\n      <td>Kevin Rodriguez</td>\n      <td>M</td>\n      <td>12th</td>\n      <td>Huang High School</td>\n      <td>90</td>\n      <td>60</td>\n    </tr>\n  </tbody>\n</table>\n</div>"
     },
     "metadata": {},
     "execution_count": 200
    }
   ],
   "source": [
    "#reading students csv to dataframe\n",
    "schools_path = r\"/Users/rosaicelaroman/Desktop/Data_BootCamp/LearnPython/pandas-challenge/PyCitySchools/Resources/students_complete.csv\"\n",
    "students_df = pd.read_csv(schools_path)\n",
    "students_df.head(3)"
   ]
  },
  {
   "cell_type": "code",
   "execution_count": 201,
   "metadata": {},
   "outputs": [
    {
     "output_type": "stream",
     "name": "stdout",
     "text": [
      "<class 'pandas.core.frame.DataFrame'>\nRangeIndex: 15 entries, 0 to 14\nData columns (total 5 columns):\n #   Column       Non-Null Count  Dtype \n---  ------       --------------  ----- \n 0   School ID    15 non-null     int64 \n 1   school_name  15 non-null     object\n 2   type         15 non-null     object\n 3   size         15 non-null     int64 \n 4   budget       15 non-null     int64 \ndtypes: int64(3), object(2)\nmemory usage: 728.0+ bytes\n"
     ]
    },
    {
     "output_type": "execute_result",
     "data": {
      "text/plain": [
       "Index(['School ID', 'school_name', 'type', 'size', 'budget'], dtype='object')"
      ]
     },
     "metadata": {},
     "execution_count": 201
    }
   ],
   "source": [
    "#district summary\n",
    "#--------------------------------\n",
    "#dataframe info\n",
    "schools_df.info()\n",
    "schools_df.columns"
   ]
  },
  {
   "cell_type": "code",
   "execution_count": 202,
   "metadata": {},
   "outputs": [
    {
     "output_type": "execute_result",
     "data": {
      "text/plain": [
       "15"
      ]
     },
     "metadata": {},
     "execution_count": 202
    }
   ],
   "source": [
    "#total schools\n",
    "total_schools = schools_df[\"school_name\"].count()\n",
    "total_schools"
   ]
  },
  {
   "cell_type": "code",
   "execution_count": 203,
   "metadata": {},
   "outputs": [
    {
     "output_type": "execute_result",
     "data": {
      "text/plain": [
       "'39,170'"
      ]
     },
     "metadata": {},
     "execution_count": 203
    }
   ],
   "source": [
    "#total students\n",
    "total_students = schools_df[\"size\"].sum()\n",
    "total_students = \"{:,}\".format(total_students)\n",
    "total_students"
   ]
  },
  {
   "cell_type": "code",
   "execution_count": 204,
   "metadata": {},
   "outputs": [
    {
     "output_type": "execute_result",
     "data": {
      "text/plain": [
       "'$24,649,428'"
      ]
     },
     "metadata": {},
     "execution_count": 204
    }
   ],
   "source": [
    "#total budget\n",
    "total_budget = schools_df[\"budget\"].sum()\n",
    "total_budget = \"${:,}\".format(total_budget)\n",
    "total_budget"
   ]
  },
  {
   "cell_type": "code",
   "execution_count": 205,
   "metadata": {},
   "outputs": [
    {
     "output_type": "execute_result",
     "data": {
      "text/plain": [
       "Index(['Student ID', 'student_name', 'gender', 'grade', 'school_name',\n",
       "       'reading_score', 'math_score'],\n",
       "      dtype='object')"
      ]
     },
     "metadata": {},
     "execution_count": 205
    }
   ],
   "source": [
    "#calculate average math score\n",
    "students_df.columns"
   ]
  },
  {
   "cell_type": "code",
   "execution_count": 206,
   "metadata": {},
   "outputs": [
    {
     "output_type": "execute_result",
     "data": {
      "text/plain": [
       "78.99"
      ]
     },
     "metadata": {},
     "execution_count": 206
    }
   ],
   "source": [
    "avg_math = round(students_df['math_score'].mean(),2)\n",
    "avg_math"
   ]
  },
  {
   "cell_type": "code",
   "execution_count": 207,
   "metadata": {},
   "outputs": [
    {
     "output_type": "execute_result",
     "data": {
      "text/plain": [
       "81.88"
      ]
     },
     "metadata": {},
     "execution_count": 207
    }
   ],
   "source": [
    "#calculate average reading score\n",
    "avg_reading = round(students_df['reading_score'].mean(),2)\n",
    "avg_reading"
   ]
  },
  {
   "cell_type": "code",
   "execution_count": 208,
   "metadata": {},
   "outputs": [
    {
     "output_type": "execute_result",
     "data": {
      "text/plain": [
       "       Student ID       student_name gender grade         school_name  \\\n",
       "0               0       Paul Bradley      M   9th   Huang High School   \n",
       "1               1       Victor Smith      M  12th   Huang High School   \n",
       "2               2    Kevin Rodriguez      M  12th   Huang High School   \n",
       "3               3  Dr. Richard Scott      M  12th   Huang High School   \n",
       "4               4         Bonnie Ray      F   9th   Huang High School   \n",
       "...           ...                ...    ...   ...                 ...   \n",
       "39165       39165       Donna Howard      F  12th  Thomas High School   \n",
       "39166       39166          Dawn Bell      F  10th  Thomas High School   \n",
       "39167       39167     Rebecca Tanner      F   9th  Thomas High School   \n",
       "39168       39168       Desiree Kidd      F  10th  Thomas High School   \n",
       "39169       39169    Carolyn Jackson      F  11th  Thomas High School   \n",
       "\n",
       "      reading_score   math_score  \n",
       "0       not passing      passing  \n",
       "1           passing  not passing  \n",
       "2           passing  not passing  \n",
       "3       not passing  not passing  \n",
       "4           passing      passing  \n",
       "...             ...          ...  \n",
       "39165       passing      passing  \n",
       "39166       passing      passing  \n",
       "39167       passing      passing  \n",
       "39168       passing      passing  \n",
       "39169       passing      passing  \n",
       "\n",
       "[39170 rows x 7 columns]"
      ],
      "text/html": "<div>\n<style scoped>\n    .dataframe tbody tr th:only-of-type {\n        vertical-align: middle;\n    }\n\n    .dataframe tbody tr th {\n        vertical-align: top;\n    }\n\n    .dataframe thead th {\n        text-align: right;\n    }\n</style>\n<table border=\"1\" class=\"dataframe\">\n  <thead>\n    <tr style=\"text-align: right;\">\n      <th></th>\n      <th>Student ID</th>\n      <th>student_name</th>\n      <th>gender</th>\n      <th>grade</th>\n      <th>school_name</th>\n      <th>reading_score</th>\n      <th>math_score</th>\n    </tr>\n  </thead>\n  <tbody>\n    <tr>\n      <th>0</th>\n      <td>0</td>\n      <td>Paul Bradley</td>\n      <td>M</td>\n      <td>9th</td>\n      <td>Huang High School</td>\n      <td>not passing</td>\n      <td>passing</td>\n    </tr>\n    <tr>\n      <th>1</th>\n      <td>1</td>\n      <td>Victor Smith</td>\n      <td>M</td>\n      <td>12th</td>\n      <td>Huang High School</td>\n      <td>passing</td>\n      <td>not passing</td>\n    </tr>\n    <tr>\n      <th>2</th>\n      <td>2</td>\n      <td>Kevin Rodriguez</td>\n      <td>M</td>\n      <td>12th</td>\n      <td>Huang High School</td>\n      <td>passing</td>\n      <td>not passing</td>\n    </tr>\n    <tr>\n      <th>3</th>\n      <td>3</td>\n      <td>Dr. Richard Scott</td>\n      <td>M</td>\n      <td>12th</td>\n      <td>Huang High School</td>\n      <td>not passing</td>\n      <td>not passing</td>\n    </tr>\n    <tr>\n      <th>4</th>\n      <td>4</td>\n      <td>Bonnie Ray</td>\n      <td>F</td>\n      <td>9th</td>\n      <td>Huang High School</td>\n      <td>passing</td>\n      <td>passing</td>\n    </tr>\n    <tr>\n      <th>...</th>\n      <td>...</td>\n      <td>...</td>\n      <td>...</td>\n      <td>...</td>\n      <td>...</td>\n      <td>...</td>\n      <td>...</td>\n    </tr>\n    <tr>\n      <th>39165</th>\n      <td>39165</td>\n      <td>Donna Howard</td>\n      <td>F</td>\n      <td>12th</td>\n      <td>Thomas High School</td>\n      <td>passing</td>\n      <td>passing</td>\n    </tr>\n    <tr>\n      <th>39166</th>\n      <td>39166</td>\n      <td>Dawn Bell</td>\n      <td>F</td>\n      <td>10th</td>\n      <td>Thomas High School</td>\n      <td>passing</td>\n      <td>passing</td>\n    </tr>\n    <tr>\n      <th>39167</th>\n      <td>39167</td>\n      <td>Rebecca Tanner</td>\n      <td>F</td>\n      <td>9th</td>\n      <td>Thomas High School</td>\n      <td>passing</td>\n      <td>passing</td>\n    </tr>\n    <tr>\n      <th>39168</th>\n      <td>39168</td>\n      <td>Desiree Kidd</td>\n      <td>F</td>\n      <td>10th</td>\n      <td>Thomas High School</td>\n      <td>passing</td>\n      <td>passing</td>\n    </tr>\n    <tr>\n      <th>39169</th>\n      <td>39169</td>\n      <td>Carolyn Jackson</td>\n      <td>F</td>\n      <td>11th</td>\n      <td>Thomas High School</td>\n      <td>passing</td>\n      <td>passing</td>\n    </tr>\n  </tbody>\n</table>\n<p>39170 rows × 7 columns</p>\n</div>"
     },
     "metadata": {},
     "execution_count": 208
    }
   ],
   "source": [
    "#* Calculate the percentage of students with a passing math score (70 or greater)\n",
    "bins = [0, 69,100]\n",
    "group_names = ['not passing','passing']\n",
    "copy_students_df = students_df.copy()\n",
    "copy_students_df['math_score']=pd.cut(copy_students_df['math_score'], bins, labels = group_names)\n",
    "copy_students_df['reading_score']=pd.cut(copy_students_df['reading_score'], bins, labels = group_names)\n",
    "copy_students_df"
   ]
  },
  {
   "cell_type": "code",
   "execution_count": 209,
   "metadata": {},
   "outputs": [
    {
     "output_type": "execute_result",
     "data": {
      "text/plain": [
       "    Student ID       student_name gender grade        school_name  \\\n",
       "0            0       Paul Bradley      M   9th  Huang High School   \n",
       "1            1       Victor Smith      M  12th  Huang High School   \n",
       "2            2    Kevin Rodriguez      M  12th  Huang High School   \n",
       "3            3  Dr. Richard Scott      M  12th  Huang High School   \n",
       "4            4         Bonnie Ray      F   9th  Huang High School   \n",
       "5            5      Bryan Miranda      M   9th  Huang High School   \n",
       "6            6      Sheena Carter      F  11th  Huang High School   \n",
       "7            7       Nicole Baker      F  12th  Huang High School   \n",
       "8            8       Michael Roth      M  10th  Huang High School   \n",
       "9            9     Matthew Greene      M  10th  Huang High School   \n",
       "10          10   Andrew Alexander      M  10th  Huang High School   \n",
       "11          11      Daniel Cooper      M  10th  Huang High School   \n",
       "12          12    Brittney Walker      F   9th  Huang High School   \n",
       "13          13       William Long      M   9th  Huang High School   \n",
       "14          14       Tammy Hebert      F  10th  Huang High School   \n",
       "15          15  Dr. Jordan Carson      M  11th  Huang High School   \n",
       "16          16      Donald Zamora      M   9th  Huang High School   \n",
       "17          17  Kimberly Santiago      F   9th  Huang High School   \n",
       "18          18      Kevin Stevens      M   9th  Huang High School   \n",
       "19          19       Brandi Lyons      F   9th  Huang High School   \n",
       "\n",
       "   reading_score   math_score overall_passing  \n",
       "0    not passing      passing     not passing  \n",
       "1        passing  not passing     not passing  \n",
       "2        passing  not passing     not passing  \n",
       "3    not passing  not passing     not passing  \n",
       "4        passing      passing         passing  \n",
       "5        passing      passing         passing  \n",
       "6        passing      passing         passing  \n",
       "7        passing  not passing     not passing  \n",
       "8        passing      passing         passing  \n",
       "9        passing      passing         passing  \n",
       "10       passing      passing         passing  \n",
       "11       passing      passing         passing  \n",
       "12   not passing      passing     not passing  \n",
       "13       passing      passing         passing  \n",
       "14       passing  not passing     not passing  \n",
       "15       passing      passing         passing  \n",
       "16       passing  not passing     not passing  \n",
       "17       passing      passing         passing  \n",
       "18   not passing  not passing     not passing  \n",
       "19       passing      passing         passing  "
      ],
      "text/html": "<div>\n<style scoped>\n    .dataframe tbody tr th:only-of-type {\n        vertical-align: middle;\n    }\n\n    .dataframe tbody tr th {\n        vertical-align: top;\n    }\n\n    .dataframe thead th {\n        text-align: right;\n    }\n</style>\n<table border=\"1\" class=\"dataframe\">\n  <thead>\n    <tr style=\"text-align: right;\">\n      <th></th>\n      <th>Student ID</th>\n      <th>student_name</th>\n      <th>gender</th>\n      <th>grade</th>\n      <th>school_name</th>\n      <th>reading_score</th>\n      <th>math_score</th>\n      <th>overall_passing</th>\n    </tr>\n  </thead>\n  <tbody>\n    <tr>\n      <th>0</th>\n      <td>0</td>\n      <td>Paul Bradley</td>\n      <td>M</td>\n      <td>9th</td>\n      <td>Huang High School</td>\n      <td>not passing</td>\n      <td>passing</td>\n      <td>not passing</td>\n    </tr>\n    <tr>\n      <th>1</th>\n      <td>1</td>\n      <td>Victor Smith</td>\n      <td>M</td>\n      <td>12th</td>\n      <td>Huang High School</td>\n      <td>passing</td>\n      <td>not passing</td>\n      <td>not passing</td>\n    </tr>\n    <tr>\n      <th>2</th>\n      <td>2</td>\n      <td>Kevin Rodriguez</td>\n      <td>M</td>\n      <td>12th</td>\n      <td>Huang High School</td>\n      <td>passing</td>\n      <td>not passing</td>\n      <td>not passing</td>\n    </tr>\n    <tr>\n      <th>3</th>\n      <td>3</td>\n      <td>Dr. Richard Scott</td>\n      <td>M</td>\n      <td>12th</td>\n      <td>Huang High School</td>\n      <td>not passing</td>\n      <td>not passing</td>\n      <td>not passing</td>\n    </tr>\n    <tr>\n      <th>4</th>\n      <td>4</td>\n      <td>Bonnie Ray</td>\n      <td>F</td>\n      <td>9th</td>\n      <td>Huang High School</td>\n      <td>passing</td>\n      <td>passing</td>\n      <td>passing</td>\n    </tr>\n    <tr>\n      <th>5</th>\n      <td>5</td>\n      <td>Bryan Miranda</td>\n      <td>M</td>\n      <td>9th</td>\n      <td>Huang High School</td>\n      <td>passing</td>\n      <td>passing</td>\n      <td>passing</td>\n    </tr>\n    <tr>\n      <th>6</th>\n      <td>6</td>\n      <td>Sheena Carter</td>\n      <td>F</td>\n      <td>11th</td>\n      <td>Huang High School</td>\n      <td>passing</td>\n      <td>passing</td>\n      <td>passing</td>\n    </tr>\n    <tr>\n      <th>7</th>\n      <td>7</td>\n      <td>Nicole Baker</td>\n      <td>F</td>\n      <td>12th</td>\n      <td>Huang High School</td>\n      <td>passing</td>\n      <td>not passing</td>\n      <td>not passing</td>\n    </tr>\n    <tr>\n      <th>8</th>\n      <td>8</td>\n      <td>Michael Roth</td>\n      <td>M</td>\n      <td>10th</td>\n      <td>Huang High School</td>\n      <td>passing</td>\n      <td>passing</td>\n      <td>passing</td>\n    </tr>\n    <tr>\n      <th>9</th>\n      <td>9</td>\n      <td>Matthew Greene</td>\n      <td>M</td>\n      <td>10th</td>\n      <td>Huang High School</td>\n      <td>passing</td>\n      <td>passing</td>\n      <td>passing</td>\n    </tr>\n    <tr>\n      <th>10</th>\n      <td>10</td>\n      <td>Andrew Alexander</td>\n      <td>M</td>\n      <td>10th</td>\n      <td>Huang High School</td>\n      <td>passing</td>\n      <td>passing</td>\n      <td>passing</td>\n    </tr>\n    <tr>\n      <th>11</th>\n      <td>11</td>\n      <td>Daniel Cooper</td>\n      <td>M</td>\n      <td>10th</td>\n      <td>Huang High School</td>\n      <td>passing</td>\n      <td>passing</td>\n      <td>passing</td>\n    </tr>\n    <tr>\n      <th>12</th>\n      <td>12</td>\n      <td>Brittney Walker</td>\n      <td>F</td>\n      <td>9th</td>\n      <td>Huang High School</td>\n      <td>not passing</td>\n      <td>passing</td>\n      <td>not passing</td>\n    </tr>\n    <tr>\n      <th>13</th>\n      <td>13</td>\n      <td>William Long</td>\n      <td>M</td>\n      <td>9th</td>\n      <td>Huang High School</td>\n      <td>passing</td>\n      <td>passing</td>\n      <td>passing</td>\n    </tr>\n    <tr>\n      <th>14</th>\n      <td>14</td>\n      <td>Tammy Hebert</td>\n      <td>F</td>\n      <td>10th</td>\n      <td>Huang High School</td>\n      <td>passing</td>\n      <td>not passing</td>\n      <td>not passing</td>\n    </tr>\n    <tr>\n      <th>15</th>\n      <td>15</td>\n      <td>Dr. Jordan Carson</td>\n      <td>M</td>\n      <td>11th</td>\n      <td>Huang High School</td>\n      <td>passing</td>\n      <td>passing</td>\n      <td>passing</td>\n    </tr>\n    <tr>\n      <th>16</th>\n      <td>16</td>\n      <td>Donald Zamora</td>\n      <td>M</td>\n      <td>9th</td>\n      <td>Huang High School</td>\n      <td>passing</td>\n      <td>not passing</td>\n      <td>not passing</td>\n    </tr>\n    <tr>\n      <th>17</th>\n      <td>17</td>\n      <td>Kimberly Santiago</td>\n      <td>F</td>\n      <td>9th</td>\n      <td>Huang High School</td>\n      <td>passing</td>\n      <td>passing</td>\n      <td>passing</td>\n    </tr>\n    <tr>\n      <th>18</th>\n      <td>18</td>\n      <td>Kevin Stevens</td>\n      <td>M</td>\n      <td>9th</td>\n      <td>Huang High School</td>\n      <td>not passing</td>\n      <td>not passing</td>\n      <td>not passing</td>\n    </tr>\n    <tr>\n      <th>19</th>\n      <td>19</td>\n      <td>Brandi Lyons</td>\n      <td>F</td>\n      <td>9th</td>\n      <td>Huang High School</td>\n      <td>passing</td>\n      <td>passing</td>\n      <td>passing</td>\n    </tr>\n  </tbody>\n</table>\n</div>"
     },
     "metadata": {},
     "execution_count": 209
    }
   ],
   "source": [
    "conditions = [(copy_students_df['reading_score'] == 'passing') & (copy_students_df['math_score'] == 'passing'), (copy_students_df['math_score'] != 'passing')]\n",
    "choices = ['passing', 'not passing']\n",
    "copy_students_df['overall_passing'] = np.select(conditions, choices, default = 'not passing')\n",
    "copy_students_df.head(20)"
   ]
  },
  {
   "cell_type": "code",
   "execution_count": 210,
   "metadata": {},
   "outputs": [],
   "source": [
    "# Calculate the percentage of students with a passing reading score (70 or greater)\n",
    "math_passing = copy_students_df['math_score'].value_counts()"
   ]
  },
  {
   "cell_type": "code",
   "execution_count": 211,
   "metadata": {},
   "outputs": [],
   "source": [
    "reading_passing = copy_students_df['reading_score'].value_counts()"
   ]
  },
  {
   "cell_type": "code",
   "execution_count": 212,
   "metadata": {},
   "outputs": [],
   "source": [
    "overall_passing = copy_students_df['overall_passing'].value_counts()"
   ]
  },
  {
   "cell_type": "code",
   "execution_count": 213,
   "metadata": {},
   "outputs": [
    {
     "output_type": "execute_result",
     "data": {
      "text/plain": [
       "                math_score\n",
       "Student Status            \n",
       "passing              29370\n",
       "not passing           9800"
      ],
      "text/html": "<div>\n<style scoped>\n    .dataframe tbody tr th:only-of-type {\n        vertical-align: middle;\n    }\n\n    .dataframe tbody tr th {\n        vertical-align: top;\n    }\n\n    .dataframe thead th {\n        text-align: right;\n    }\n</style>\n<table border=\"1\" class=\"dataframe\">\n  <thead>\n    <tr style=\"text-align: right;\">\n      <th></th>\n      <th>math_score</th>\n    </tr>\n    <tr>\n      <th>Student Status</th>\n      <th></th>\n    </tr>\n  </thead>\n  <tbody>\n    <tr>\n      <th>passing</th>\n      <td>29370</td>\n    </tr>\n    <tr>\n      <th>not passing</th>\n      <td>9800</td>\n    </tr>\n  </tbody>\n</table>\n</div>"
     },
     "metadata": {},
     "execution_count": 213
    }
   ],
   "source": [
    "summary_df_1 = pd.DataFrame(math_passing)\n",
    "summary_df_1.index.name = \"Student Status\"\n",
    "summary_df_1"
   ]
  },
  {
   "cell_type": "code",
   "execution_count": 214,
   "metadata": {},
   "outputs": [
    {
     "output_type": "execute_result",
     "data": {
      "text/plain": [
       "                reading_score\n",
       "Student Status               \n",
       "passing                 33610\n",
       "not passing              5560"
      ],
      "text/html": "<div>\n<style scoped>\n    .dataframe tbody tr th:only-of-type {\n        vertical-align: middle;\n    }\n\n    .dataframe tbody tr th {\n        vertical-align: top;\n    }\n\n    .dataframe thead th {\n        text-align: right;\n    }\n</style>\n<table border=\"1\" class=\"dataframe\">\n  <thead>\n    <tr style=\"text-align: right;\">\n      <th></th>\n      <th>reading_score</th>\n    </tr>\n    <tr>\n      <th>Student Status</th>\n      <th></th>\n    </tr>\n  </thead>\n  <tbody>\n    <tr>\n      <th>passing</th>\n      <td>33610</td>\n    </tr>\n    <tr>\n      <th>not passing</th>\n      <td>5560</td>\n    </tr>\n  </tbody>\n</table>\n</div>"
     },
     "metadata": {},
     "execution_count": 214
    }
   ],
   "source": [
    "summary_df_2 = pd.DataFrame(reading_passing)\n",
    "summary_df_2.index.name = \"Student Status\"\n",
    "summary_df_2"
   ]
  },
  {
   "cell_type": "code",
   "execution_count": 215,
   "metadata": {},
   "outputs": [
    {
     "output_type": "execute_result",
     "data": {
      "text/plain": [
       "                overall_passing\n",
       "Student Status                 \n",
       "passing                   25528\n",
       "not passing               13642"
      ],
      "text/html": "<div>\n<style scoped>\n    .dataframe tbody tr th:only-of-type {\n        vertical-align: middle;\n    }\n\n    .dataframe tbody tr th {\n        vertical-align: top;\n    }\n\n    .dataframe thead th {\n        text-align: right;\n    }\n</style>\n<table border=\"1\" class=\"dataframe\">\n  <thead>\n    <tr style=\"text-align: right;\">\n      <th></th>\n      <th>overall_passing</th>\n    </tr>\n    <tr>\n      <th>Student Status</th>\n      <th></th>\n    </tr>\n  </thead>\n  <tbody>\n    <tr>\n      <th>passing</th>\n      <td>25528</td>\n    </tr>\n    <tr>\n      <th>not passing</th>\n      <td>13642</td>\n    </tr>\n  </tbody>\n</table>\n</div>"
     },
     "metadata": {},
     "execution_count": 215
    }
   ],
   "source": [
    "summary_df_3 = pd.DataFrame(overall_passing)\n",
    "summary_df_3.index.name = \"Student Status\"\n",
    "summary_df_3"
   ]
  },
  {
   "cell_type": "code",
   "execution_count": 216,
   "metadata": {},
   "outputs": [],
   "source": [
    "perc_math = copy_students_df['math_score'].value_counts(normalize=True)*100"
   ]
  },
  {
   "cell_type": "code",
   "execution_count": 217,
   "metadata": {},
   "outputs": [
    {
     "output_type": "execute_result",
     "data": {
      "text/plain": [
       "                % Math\n",
       "Student Status        \n",
       "passing          74.98\n",
       "not passing      25.02"
      ],
      "text/html": "<div>\n<style scoped>\n    .dataframe tbody tr th:only-of-type {\n        vertical-align: middle;\n    }\n\n    .dataframe tbody tr th {\n        vertical-align: top;\n    }\n\n    .dataframe thead th {\n        text-align: right;\n    }\n</style>\n<table border=\"1\" class=\"dataframe\">\n  <thead>\n    <tr style=\"text-align: right;\">\n      <th></th>\n      <th>% Math</th>\n    </tr>\n    <tr>\n      <th>Student Status</th>\n      <th></th>\n    </tr>\n  </thead>\n  <tbody>\n    <tr>\n      <th>passing</th>\n      <td>74.98</td>\n    </tr>\n    <tr>\n      <th>not passing</th>\n      <td>25.02</td>\n    </tr>\n  </tbody>\n</table>\n</div>"
     },
     "metadata": {},
     "execution_count": 217
    }
   ],
   "source": [
    "summary_df_4 = pd.DataFrame(perc_math)\n",
    "summary_df_4.index.name = \"Student Status\"\n",
    "summary_df_4 = summary_df_4.rename(columns={\"math_score\": \"% Math\"})\n",
    "summary_df_4"
   ]
  },
  {
   "cell_type": "code",
   "execution_count": 218,
   "metadata": {},
   "outputs": [],
   "source": [
    "perc_reading = copy_students_df['reading_score'].value_counts(normalize=True)*100"
   ]
  },
  {
   "cell_type": "code",
   "execution_count": 219,
   "metadata": {},
   "outputs": [
    {
     "output_type": "execute_result",
     "data": {
      "text/plain": [
       "                % Reading\n",
       "Student Status           \n",
       "passing             85.81\n",
       "not passing         14.19"
      ],
      "text/html": "<div>\n<style scoped>\n    .dataframe tbody tr th:only-of-type {\n        vertical-align: middle;\n    }\n\n    .dataframe tbody tr th {\n        vertical-align: top;\n    }\n\n    .dataframe thead th {\n        text-align: right;\n    }\n</style>\n<table border=\"1\" class=\"dataframe\">\n  <thead>\n    <tr style=\"text-align: right;\">\n      <th></th>\n      <th>% Reading</th>\n    </tr>\n    <tr>\n      <th>Student Status</th>\n      <th></th>\n    </tr>\n  </thead>\n  <tbody>\n    <tr>\n      <th>passing</th>\n      <td>85.81</td>\n    </tr>\n    <tr>\n      <th>not passing</th>\n      <td>14.19</td>\n    </tr>\n  </tbody>\n</table>\n</div>"
     },
     "metadata": {},
     "execution_count": 219
    }
   ],
   "source": [
    "summary_df_5 = pd.DataFrame(perc_reading)\n",
    "summary_df_5.index.name = \"Student Status\"\n",
    "summary_df_5 = summary_df_5.rename(columns={\"reading_score\": \"% Reading\"})\n",
    "summary_df_5['% Reading'] = pd.to_numeric(summary_df_5['% Reading'])\n",
    "summary_df_5"
   ]
  },
  {
   "cell_type": "code",
   "execution_count": 220,
   "metadata": {},
   "outputs": [],
   "source": [
    "overall_passing_perc= perc_reading = copy_students_df['overall_passing'].value_counts(normalize=True)*100"
   ]
  },
  {
   "cell_type": "code",
   "execution_count": 221,
   "metadata": {},
   "outputs": [
    {
     "output_type": "execute_result",
     "data": {
      "text/plain": [
       "                % Overall Passing\n",
       "Student Status                   \n",
       "passing                     65.17\n",
       "not passing                 34.83"
      ],
      "text/html": "<div>\n<style scoped>\n    .dataframe tbody tr th:only-of-type {\n        vertical-align: middle;\n    }\n\n    .dataframe tbody tr th {\n        vertical-align: top;\n    }\n\n    .dataframe thead th {\n        text-align: right;\n    }\n</style>\n<table border=\"1\" class=\"dataframe\">\n  <thead>\n    <tr style=\"text-align: right;\">\n      <th></th>\n      <th>% Overall Passing</th>\n    </tr>\n    <tr>\n      <th>Student Status</th>\n      <th></th>\n    </tr>\n  </thead>\n  <tbody>\n    <tr>\n      <th>passing</th>\n      <td>65.17</td>\n    </tr>\n    <tr>\n      <th>not passing</th>\n      <td>34.83</td>\n    </tr>\n  </tbody>\n</table>\n</div>"
     },
     "metadata": {},
     "execution_count": 221
    }
   ],
   "source": [
    "summary_df_6 = pd.DataFrame(overall_passing_perc)\n",
    "summary_df_6.index.name = \"Student Status\"\n",
    "summary_df_6 = summary_df_6.rename(columns={\"overall_passing\": \"% Overall Passing\"})\n",
    "summary_df_6"
   ]
  },
  {
   "cell_type": "code",
   "execution_count": 225,
   "metadata": {},
   "outputs": [
    {
     "output_type": "execute_result",
     "data": {
      "text/plain": [
       "                math_score  reading_score  overall_passing  % Math  % Reading  \\\n",
       "Student Status                                                                  \n",
       "passing              29370          33610            25528   74.98      85.81   \n",
       "not passing           9800           5560            13642   25.02      14.19   \n",
       "\n",
       "                % Overall Passing  \n",
       "Student Status                     \n",
       "passing                     65.17  \n",
       "not passing                 34.83  "
      ],
      "text/html": "<div>\n<style scoped>\n    .dataframe tbody tr th:only-of-type {\n        vertical-align: middle;\n    }\n\n    .dataframe tbody tr th {\n        vertical-align: top;\n    }\n\n    .dataframe thead th {\n        text-align: right;\n    }\n</style>\n<table border=\"1\" class=\"dataframe\">\n  <thead>\n    <tr style=\"text-align: right;\">\n      <th></th>\n      <th>math_score</th>\n      <th>reading_score</th>\n      <th>overall_passing</th>\n      <th>% Math</th>\n      <th>% Reading</th>\n      <th>% Overall Passing</th>\n    </tr>\n    <tr>\n      <th>Student Status</th>\n      <th></th>\n      <th></th>\n      <th></th>\n      <th></th>\n      <th></th>\n      <th></th>\n    </tr>\n  </thead>\n  <tbody>\n    <tr>\n      <th>passing</th>\n      <td>29370</td>\n      <td>33610</td>\n      <td>25528</td>\n      <td>74.98</td>\n      <td>85.81</td>\n      <td>65.17</td>\n    </tr>\n    <tr>\n      <th>not passing</th>\n      <td>9800</td>\n      <td>5560</td>\n      <td>13642</td>\n      <td>25.02</td>\n      <td>14.19</td>\n      <td>34.83</td>\n    </tr>\n  </tbody>\n</table>\n</div>"
     },
     "metadata": {},
     "execution_count": 225
    }
   ],
   "source": [
    "combined_df = summary_df_1.join(summary_df_2, how='outer')\n",
    "combined_df = combined_df.join(summary_df_3, how='outer')\n",
    "combined_df = combined_df.join(summary_df_4, how='outer')\n",
    "combined_df = combined_df.join(summary_df_5, how='outer')\n",
    "combined_df = combined_df.join(summary_df_6, how='outer')\n",
    "combined_df"
   ]
  },
  {
   "cell_type": "code",
   "execution_count": 226,
   "metadata": {},
   "outputs": [
    {
     "output_type": "execute_result",
     "data": {
      "text/plain": [
       "                Math Score  Reading Score  Overall Passing  % Math  % Reading  \\\n",
       "Student Status                                                                  \n",
       "passing              29370          33610            25528   74.98      85.81   \n",
       "not passing           9800           5560            13642   25.02      14.19   \n",
       "\n",
       "                % Overall Passing  \n",
       "Student Status                     \n",
       "passing                     65.17  \n",
       "not passing                 34.83  "
      ],
      "text/html": "<div>\n<style scoped>\n    .dataframe tbody tr th:only-of-type {\n        vertical-align: middle;\n    }\n\n    .dataframe tbody tr th {\n        vertical-align: top;\n    }\n\n    .dataframe thead th {\n        text-align: right;\n    }\n</style>\n<table border=\"1\" class=\"dataframe\">\n  <thead>\n    <tr style=\"text-align: right;\">\n      <th></th>\n      <th>Math Score</th>\n      <th>Reading Score</th>\n      <th>Overall Passing</th>\n      <th>% Math</th>\n      <th>% Reading</th>\n      <th>% Overall Passing</th>\n    </tr>\n    <tr>\n      <th>Student Status</th>\n      <th></th>\n      <th></th>\n      <th></th>\n      <th></th>\n      <th></th>\n      <th></th>\n    </tr>\n  </thead>\n  <tbody>\n    <tr>\n      <th>passing</th>\n      <td>29370</td>\n      <td>33610</td>\n      <td>25528</td>\n      <td>74.98</td>\n      <td>85.81</td>\n      <td>65.17</td>\n    </tr>\n    <tr>\n      <th>not passing</th>\n      <td>9800</td>\n      <td>5560</td>\n      <td>13642</td>\n      <td>25.02</td>\n      <td>14.19</td>\n      <td>34.83</td>\n    </tr>\n  </tbody>\n</table>\n</div>"
     },
     "metadata": {},
     "execution_count": 226
    }
   ],
   "source": [
    "combined_df = combined_df.rename(columns={\"math_score\": \"Math Score\", \"reading_score\": \"Reading Score\", \"overall_passing\": \"Overall Passing\"})\n",
    "combined_df"
   ]
  },
  {
   "cell_type": "code",
   "execution_count": 235,
   "metadata": {},
   "outputs": [
    {
     "output_type": "execute_result",
     "data": {
      "text/plain": [
       "   Total Schools Total Students Total Budget  Average Math Score  \\\n",
       "0             15         39,170  $24,649,428               78.99   \n",
       "\n",
       "   Average Reading Score  % Passing Math  % Passing Reading  % Overall Passing  \n",
       "0                  81.88           74.98              85.81              65.17  "
      ],
      "text/html": "<div>\n<style scoped>\n    .dataframe tbody tr th:only-of-type {\n        vertical-align: middle;\n    }\n\n    .dataframe tbody tr th {\n        vertical-align: top;\n    }\n\n    .dataframe thead th {\n        text-align: right;\n    }\n</style>\n<table border=\"1\" class=\"dataframe\">\n  <thead>\n    <tr style=\"text-align: right;\">\n      <th></th>\n      <th>Total Schools</th>\n      <th>Total Students</th>\n      <th>Total Budget</th>\n      <th>Average Math Score</th>\n      <th>Average Reading Score</th>\n      <th>% Passing Math</th>\n      <th>% Passing Reading</th>\n      <th>% Overall Passing</th>\n    </tr>\n  </thead>\n  <tbody>\n    <tr>\n      <th>0</th>\n      <td>15</td>\n      <td>39,170</td>\n      <td>$24,649,428</td>\n      <td>78.99</td>\n      <td>81.88</td>\n      <td>74.98</td>\n      <td>85.81</td>\n      <td>65.17</td>\n    </tr>\n  </tbody>\n</table>\n</div>"
     },
     "metadata": {},
     "execution_count": 235
    }
   ],
   "source": [
    "data = {'Total Schools': [total_schools], 'Total Students': [total_students], 'Total Budget': [total_budget], 'Average Math Score': [avg_math], 'Average Reading Score': [avg_reading], '% Passing Math': [combined_df.iloc[0,3]], '% Passing Reading':[combined_df.iloc[0,4]], \"% Overall Passing\": [combined_df.iloc[0,5]]}\n",
    "district_df = pd.DataFrame.from_dict(data)\n",
    "district_df"
   ]
  },
  {
   "cell_type": "code",
   "execution_count": null,
   "metadata": {},
   "outputs": [],
   "source": [
    "#  School Summary\n",
    " \n",
    "# Create an overview table that summarizes key metrics about each school, including:\n",
    "# School Name\n",
    "# School Type\n",
    "# Total Students\n",
    "# Total School Budget\n",
    "# Per Student Budget\n",
    "# Average Math Score\n",
    "# Average Reading Score\n",
    "# % Passing Math\n",
    "# % Passing Reading\n",
    "# % Overall Passing (The percentage of students that passed math and reading.)\n",
    "# Create a dataframe to hold the above results\n"
   ]
  },
  {
   "cell_type": "code",
   "execution_count": 242,
   "metadata": {},
   "outputs": [
    {
     "output_type": "execute_result",
     "data": {
      "text/plain": [
       "                       reading_score  math_score  overall_passing\n",
       "school_name                                                      \n",
       "Bailey High School              4976        4976             4976\n",
       "Cabrera High School             1858        1858             1858\n",
       "Figueroa High School            2949        2949             2949\n",
       "Ford High School                2739        2739             2739\n",
       "Griffin High School             1468        1468             1468\n",
       "Hernandez High School           4635        4635             4635\n",
       "Holden High School               427         427              427\n",
       "Huang High School               2917        2917             2917\n",
       "Johnson High School             4761        4761             4761\n",
       "Pena High School                 962         962              962\n",
       "Rodriguez High School           3999        3999             3999\n",
       "Shelton High School             1761        1761             1761\n",
       "Thomas High School              1635        1635             1635\n",
       "Wilson High School              2283        2283             2283\n",
       "Wright High School              1800        1800             1800"
      ],
      "text/html": "<div>\n<style scoped>\n    .dataframe tbody tr th:only-of-type {\n        vertical-align: middle;\n    }\n\n    .dataframe tbody tr th {\n        vertical-align: top;\n    }\n\n    .dataframe thead th {\n        text-align: right;\n    }\n</style>\n<table border=\"1\" class=\"dataframe\">\n  <thead>\n    <tr style=\"text-align: right;\">\n      <th></th>\n      <th>reading_score</th>\n      <th>math_score</th>\n      <th>overall_passing</th>\n    </tr>\n    <tr>\n      <th>school_name</th>\n      <th></th>\n      <th></th>\n      <th></th>\n    </tr>\n  </thead>\n  <tbody>\n    <tr>\n      <th>Bailey High School</th>\n      <td>4976</td>\n      <td>4976</td>\n      <td>4976</td>\n    </tr>\n    <tr>\n      <th>Cabrera High School</th>\n      <td>1858</td>\n      <td>1858</td>\n      <td>1858</td>\n    </tr>\n    <tr>\n      <th>Figueroa High School</th>\n      <td>2949</td>\n      <td>2949</td>\n      <td>2949</td>\n    </tr>\n    <tr>\n      <th>Ford High School</th>\n      <td>2739</td>\n      <td>2739</td>\n      <td>2739</td>\n    </tr>\n    <tr>\n      <th>Griffin High School</th>\n      <td>1468</td>\n      <td>1468</td>\n      <td>1468</td>\n    </tr>\n    <tr>\n      <th>Hernandez High School</th>\n      <td>4635</td>\n      <td>4635</td>\n      <td>4635</td>\n    </tr>\n    <tr>\n      <th>Holden High School</th>\n      <td>427</td>\n      <td>427</td>\n      <td>427</td>\n    </tr>\n    <tr>\n      <th>Huang High School</th>\n      <td>2917</td>\n      <td>2917</td>\n      <td>2917</td>\n    </tr>\n    <tr>\n      <th>Johnson High School</th>\n      <td>4761</td>\n      <td>4761</td>\n      <td>4761</td>\n    </tr>\n    <tr>\n      <th>Pena High School</th>\n      <td>962</td>\n      <td>962</td>\n      <td>962</td>\n    </tr>\n    <tr>\n      <th>Rodriguez High School</th>\n      <td>3999</td>\n      <td>3999</td>\n      <td>3999</td>\n    </tr>\n    <tr>\n      <th>Shelton High School</th>\n      <td>1761</td>\n      <td>1761</td>\n      <td>1761</td>\n    </tr>\n    <tr>\n      <th>Thomas High School</th>\n      <td>1635</td>\n      <td>1635</td>\n      <td>1635</td>\n    </tr>\n    <tr>\n      <th>Wilson High School</th>\n      <td>2283</td>\n      <td>2283</td>\n      <td>2283</td>\n    </tr>\n    <tr>\n      <th>Wright High School</th>\n      <td>1800</td>\n      <td>1800</td>\n      <td>1800</td>\n    </tr>\n  </tbody>\n</table>\n</div>"
     },
     "metadata": {},
     "execution_count": 242
    }
   ],
   "source": [
    "#schools_df\n",
    "school_student_df = copy_students_df.groupby(['school_name']).count()\n",
    "school_student_df = school_student_df.drop(['Student ID', 'student_name', 'gender', 'grade'], axis=1)\n",
    "school_student_df\n"
   ]
  },
  {
   "cell_type": "code",
   "execution_count": null,
   "metadata": {},
   "outputs": [],
   "source": []
  }
 ]
}